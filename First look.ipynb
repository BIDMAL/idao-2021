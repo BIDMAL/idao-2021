{
 "cells": [
  {
   "cell_type": "code",
   "execution_count": 29,
   "id": "unlikely-visit",
   "metadata": {},
   "outputs": [],
   "source": [
    "import numpy as np\n",
    "import os\n",
    "import pandas as pd\n",
    "from skimage.io import imread, imsave\n",
    "from skimage.transform import resize\n",
    "from sklearn.model_selection import train_test_split\n",
    "from sklearn.metrics import classification_report\n",
    "from sklearn import svm\n",
    "import torchvision.transforms as T\n",
    "import torch\n",
    "torch.manual_seed(42)\n",
    "\n",
    "import warnings\n",
    "warnings.filterwarnings('ignore')\n",
    "\n",
    "from matplotlib import pyplot as plt\n",
    "%matplotlib inline"
   ]
  },
  {
   "cell_type": "code",
   "execution_count": 2,
   "id": "animated-complement",
   "metadata": {},
   "outputs": [],
   "source": [
    "er_trdat_path = './data/train/ER/'\n",
    "nr_trdat_path = './data/train/NR/'\n",
    "cropdat_path = './data/train/all_cropped/'"
   ]
  },
  {
   "cell_type": "code",
   "execution_count": null,
   "id": "banner-pickup",
   "metadata": {},
   "outputs": [],
   "source": [
    "%%time\n",
    "\n",
    "i = 0\n",
    "for filename in os.listdir(er_trdat_path):\n",
    "    fn_parts = filename.split('_')\n",
    "    ind =  fn_parts.index('ER')\n",
    "    regr = fn_parts[ind+1]\n",
    "    if regr not in {'1', '3', '6', '10', '20', '30'}:\n",
    "        print(f'error fn_parts[7]')\n",
    "        print(fn_parts)\n",
    "        print(filename)\n",
    "        break    \n",
    "    img = imread(er_trdat_path + filename)    \n",
    "    img = img[192:384, 192:384]\n",
    "    img = resize(img, (64, 64))\n",
    "    img = img*255\n",
    "    img = img.astype(np.uint8)\n",
    "    imsave(cropdat_path + f'{i}-ER-{regr}.png', img)\n",
    "    i += 1\n",
    "for filename in os.listdir(nr_trdat_path):\n",
    "    fn_parts = filename.split('_')\n",
    "    ind =  fn_parts.index('NR')\n",
    "    regr = fn_parts[ind+1]\n",
    "    if regr not in {'1', '3', '6', '10', '20', '30'}:\n",
    "        print(f'error fn_parts[7]')\n",
    "        print(fn_parts)\n",
    "        print(filename)\n",
    "        break    \n",
    "    img = imread(nr_trdat_path + filename)\n",
    "    img = img[192:384, 192:384]\n",
    "    img = resize(img, (64, 64))\n",
    "    img = img*255\n",
    "    img = img.astype(np.uint8)\n",
    "    imsave(cropdat_path + f'{i}-NR-{regr}.png', img)\n",
    "    i += 1"
   ]
  },
  {
   "cell_type": "code",
   "execution_count": 13,
   "id": "korean-owner",
   "metadata": {},
   "outputs": [
    {
     "name": "stdout",
     "output_type": "stream",
     "text": [
      "13404\n",
      "13404\n",
      "Wall time: 4.16 s\n"
     ]
    }
   ],
   "source": [
    "%%time\n",
    "images = []\n",
    "labels = []\n",
    "for filename in os.listdir(cropdat_path):\n",
    "    fn_parts = filename.split('-')\n",
    "    label = fn_parts[1]+fn_parts[2].split('.')[0]\n",
    "    img = imread(cropdat_path + filename)\n",
    "    images.append(img.flatten())\n",
    "    labels.append(label)\n",
    "print(len(images))\n",
    "print(len(labels))"
   ]
  },
  {
   "cell_type": "code",
   "execution_count": 26,
   "id": "cardiovascular-lecture",
   "metadata": {},
   "outputs": [
    {
     "data": {
      "text/plain": [
       "{'ER1': 3,\n",
       " 'ER10': 1824,\n",
       " 'ER20': 2,\n",
       " 'ER3': 1822,\n",
       " 'ER30': 1778,\n",
       " 'ER6': 1,\n",
       " 'NR1': 1740,\n",
       " 'NR10': 2,\n",
       " 'NR20': 1757,\n",
       " 'NR3': 1,\n",
       " 'NR30': 1,\n",
       " 'NR6': 1792}"
      ]
     },
     "execution_count": 26,
     "metadata": {},
     "output_type": "execute_result"
    }
   ],
   "source": [
    "unique, counts = np.unique(train_labels, return_counts=True)\n",
    "dict(zip(unique, counts))"
   ]
  },
  {
   "cell_type": "code",
   "execution_count": 15,
   "id": "entire-seminar",
   "metadata": {},
   "outputs": [],
   "source": [
    "train_images, test_images,train_labels, test_labels = train_test_split(images, labels, train_size=0.8, random_state=42)"
   ]
  },
  {
   "cell_type": "code",
   "execution_count": 17,
   "id": "stopped-freight",
   "metadata": {},
   "outputs": [
    {
     "name": "stdout",
     "output_type": "stream",
     "text": [
      "Wall time: 55.1 s\n"
     ]
    },
    {
     "data": {
      "text/plain": [
       "0.9988810145468109"
      ]
     },
     "execution_count": 17,
     "metadata": {},
     "output_type": "execute_result"
    }
   ],
   "source": [
    "%%time\n",
    "clf = svm.SVC()\n",
    "clf.fit(train_images, train_labels)\n",
    "clf.score(test_images,test_labels)"
   ]
  },
  {
   "cell_type": "code",
   "execution_count": 23,
   "id": "multiple-minority",
   "metadata": {},
   "outputs": [],
   "source": [
    "y_pred = clf.predict(test_images)"
   ]
  },
  {
   "cell_type": "code",
   "execution_count": 24,
   "id": "deluxe-fluid",
   "metadata": {},
   "outputs": [
    {
     "name": "stdout",
     "output_type": "stream",
     "text": [
      "              precision    recall  f1-score   support\n",
      "\n",
      "        ER10       1.00      1.00      1.00       448\n",
      "         ER3       1.00      1.00      1.00       421\n",
      "        ER30       1.00      1.00      1.00       459\n",
      "         NR1       1.00      1.00      1.00       437\n",
      "        NR20       1.00      1.00      1.00       451\n",
      "         NR3       0.00      0.00      0.00         1\n",
      "        NR30       0.00      0.00      0.00         1\n",
      "         NR6       1.00      1.00      1.00       463\n",
      "\n",
      "    accuracy                           1.00      2681\n",
      "   macro avg       0.75      0.75      0.75      2681\n",
      "weighted avg       1.00      1.00      1.00      2681\n",
      "\n"
     ]
    }
   ],
   "source": [
    "print(classification_report(test_labels, y_pred))"
   ]
  },
  {
   "cell_type": "markdown",
   "id": "thirty-receiver",
   "metadata": {},
   "source": [
    "### balance classes"
   ]
  },
  {
   "cell_type": "code",
   "execution_count": 30,
   "id": "measured-survival",
   "metadata": {},
   "outputs": [],
   "source": [
    "transforms = torch.nn.Sequential(\n",
    "    T.RandomAffine(degrees=45),\n",
    "    T.RandomHorizontalFlip(p=0.5),\n",
    "    T.GaussianBlur(3, sigma=(0.1, 2.0)),\n",
    ")"
   ]
  },
  {
   "cell_type": "code",
   "execution_count": 31,
   "id": "patient-growth",
   "metadata": {},
   "outputs": [],
   "source": [
    "cropdat_path = './data/train/all_cropped/'\n",
    "balanced_path = './data/train/all_balanced/'"
   ]
  },
  {
   "cell_type": "code",
   "execution_count": null,
   "id": "nutritional-cigarette",
   "metadata": {},
   "outputs": [],
   "source": []
  },
  {
   "cell_type": "code",
   "execution_count": null,
   "id": "medium-sierra",
   "metadata": {},
   "outputs": [],
   "source": [
    "for filename in os.listdir('./data/train/small/'):\n",
    "    img = imread('./data/train/small/' + filename) \n",
    "    fn_parts = filename.split('_')\n",
    "    ind =  fn_parts.index('ER')\n",
    "    regr = fn_parts[ind+1]       \n",
    "    img = img[192:384, 192:384]\n",
    "    img = resize(img, (64, 64))\n",
    "    img = img*255\n",
    "    img = img.astype(np.uint8)\n",
    "    imsave(balanced_path + f'{i}-ER-{regr}.png', img)\n",
    "    i += 1\n",
    "    if regr in {'1', '6', '20'}:\n",
    "        for"
   ]
  },
  {
   "cell_type": "code",
   "execution_count": null,
   "id": "identical-danish",
   "metadata": {},
   "outputs": [],
   "source": [
    "%%time\n",
    "i = 0\n",
    "for filename in os.listdir(er_trdat_path):\n",
    "    fn_parts = filename.split('_')\n",
    "    ind =  fn_parts.index('ER')\n",
    "    regr = fn_parts[ind+1]\n",
    "    if regr not in {'1', '3', '6', '10', '20', '30'}:\n",
    "        print(f'error fn_parts[7]')\n",
    "        print(fn_parts)\n",
    "        print(filename)\n",
    "        break    \n",
    "    img = imread(er_trdat_path + filename)    \n",
    "    img = img[192:384, 192:384]\n",
    "    img = resize(img, (64, 64))\n",
    "    img = img*255\n",
    "    img = img.astype(np.uint8)\n",
    "    imsave(cropdat_path + f'{i}-ER-{regr}.png', img)\n",
    "    i += 1\n",
    "for filename in os.listdir(nr_trdat_path):\n",
    "    fn_parts = filename.split('_')\n",
    "    ind =  fn_parts.index('NR')\n",
    "    regr = fn_parts[ind+1]\n",
    "    if regr not in {'1', '3', '6', '10', '20', '30'}:\n",
    "        print(f'error fn_parts[7]')\n",
    "        print(fn_parts)\n",
    "        print(filename)\n",
    "        break    \n",
    "    img = imread(nr_trdat_path + filename)\n",
    "    img = img[192:384, 192:384]\n",
    "    img = resize(img, (64, 64))\n",
    "    img = img*255\n",
    "    img = img.astype(np.uint8)\n",
    "    imsave(cropdat_path + f'{i}-NR-{regr}.png', img)\n",
    "    i += 1"
   ]
  },
  {
   "cell_type": "code",
   "execution_count": null,
   "id": "labeled-subscriber",
   "metadata": {},
   "outputs": [],
   "source": []
  },
  {
   "cell_type": "code",
   "execution_count": null,
   "id": "verified-samoa",
   "metadata": {},
   "outputs": [],
   "source": []
  },
  {
   "cell_type": "code",
   "execution_count": null,
   "id": "african-washington",
   "metadata": {},
   "outputs": [],
   "source": []
  },
  {
   "cell_type": "code",
   "execution_count": null,
   "id": "progressive-audience",
   "metadata": {},
   "outputs": [],
   "source": []
  },
  {
   "cell_type": "code",
   "execution_count": null,
   "id": "smaller-motivation",
   "metadata": {},
   "outputs": [],
   "source": []
  },
  {
   "cell_type": "code",
   "execution_count": null,
   "id": "infectious-soldier",
   "metadata": {},
   "outputs": [],
   "source": []
  },
  {
   "cell_type": "code",
   "execution_count": null,
   "id": "quiet-feelings",
   "metadata": {},
   "outputs": [],
   "source": []
  }
 ],
 "metadata": {
  "kernelspec": {
   "display_name": "Python 3",
   "language": "python",
   "name": "python3"
  },
  "language_info": {
   "codemirror_mode": {
    "name": "ipython",
    "version": 3
   },
   "file_extension": ".py",
   "mimetype": "text/x-python",
   "name": "python",
   "nbconvert_exporter": "python",
   "pygments_lexer": "ipython3",
   "version": "3.7.9"
  }
 },
 "nbformat": 4,
 "nbformat_minor": 5
}
