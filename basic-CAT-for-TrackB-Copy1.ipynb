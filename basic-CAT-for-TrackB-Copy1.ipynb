{
 "cells": [
  {
   "cell_type": "code",
   "execution_count": 1,
   "id": "modern-salmon",
   "metadata": {},
   "outputs": [],
   "source": [
    "import numpy as np\n",
    "import os\n",
    "import pandas as pd\n",
    "from skimage.io import imread\n",
    "from catboost import CatBoostClassifier"
   ]
  },
  {
   "cell_type": "code",
   "execution_count": 2,
   "id": "terminal-breakfast",
   "metadata": {},
   "outputs": [],
   "source": [
    "cropdat_path = './data/train/all_cropped/'\n",
    "augmented_path = './data/train/all_augmented/'\n",
    "cropped_testdat_path = './data/test_cropped/'\n",
    "submissions_path = './submissions/'"
   ]
  },
  {
   "cell_type": "markdown",
   "id": "unauthorized-maine",
   "metadata": {},
   "source": [
    "### Load Data"
   ]
  },
  {
   "cell_type": "code",
   "execution_count": 3,
   "id": "difficult-record",
   "metadata": {},
   "outputs": [
    {
     "name": "stdout",
     "output_type": "stream",
     "text": [
      "13404\n",
      "13404\n",
      "13404\n",
      "16564\n",
      "16564\n",
      "Wall time: 9.21 s\n"
     ]
    }
   ],
   "source": [
    "%%time\n",
    "conv_type = {'ER': 1, 'NR': 0}\n",
    "conv_nrj = {'1': 0, '3': 1, '6': 2, '10': 3, '20': 4, '30': 5}\n",
    "\n",
    "X_crp = []\n",
    "y_crp_typ = []\n",
    "y_crp_nrj = []\n",
    "for filename in os.listdir(cropdat_path):\n",
    "    img = imread(cropdat_path + filename)    \n",
    "    X_crp.append(img.flatten())\n",
    "    fn_parts = filename.split('-')\n",
    "    y_crp_typ.append(conv_type[fn_parts[1]]) \n",
    "    y_crp_nrj.append(conv_nrj[fn_parts[2].split('.')[0]])\n",
    "print(len(X_crp))\n",
    "print(len(y_crp_typ))\n",
    "print(len(y_crp_nrj))\n",
    "\n",
    "X_test_crp = []\n",
    "X_test_labels = []\n",
    "for filename in os.listdir(cropped_testdat_path):\n",
    "    img = imread(cropped_testdat_path + filename)    \n",
    "    X_test_crp.append(img.flatten())\n",
    "    X_test_labels.append(filename.split('.')[0])\n",
    "print(len(X_test_crp))\n",
    "print(len(X_test_labels))\n",
    "\n",
    "X_crp = np.array(X_crp)\n",
    "y_crp_typ = np.array(y_crp_typ)\n",
    "y_crp_nrj = np.array(y_crp_nrj)\n",
    "X_test_crp = np.array(X_test_crp)"
   ]
  },
  {
   "cell_type": "markdown",
   "id": "planned-shanghai",
   "metadata": {},
   "source": [
    "# 1. Binary Classification"
   ]
  },
  {
   "cell_type": "markdown",
   "id": "arabic-railway",
   "metadata": {},
   "source": [
    "### CatBoost"
   ]
  },
  {
   "cell_type": "code",
   "execution_count": 4,
   "id": "australian-aggregate",
   "metadata": {},
   "outputs": [
    {
     "name": "stdout",
     "output_type": "stream",
     "text": [
      "Wall time: 1min 7s\n"
     ]
    },
    {
     "data": {
      "text/plain": [
       "<catboost.core.CatBoostClassifier at 0x181016694c8>"
      ]
     },
     "execution_count": 4,
     "metadata": {},
     "output_type": "execute_result"
    }
   ],
   "source": [
    "%%time\n",
    "clf2_cb = CatBoostClassifier(\n",
    "    depth=6,\n",
    "    iterations=800,\n",
    "    early_stopping_rounds=500,\n",
    "    l2_leaf_reg=1e-20,\n",
    "    leaf_estimation_iterations=10,\n",
    "    logging_level='Silent',\n",
    "    loss_function='Logloss',\n",
    "    eval_metric='AUC',\n",
    "    boosting_type='Plain',\n",
    "    random_state=125)\n",
    "clf2_cb.fit(X_crp, y_crp_typ)"
   ]
  },
  {
   "cell_type": "code",
   "execution_count": 5,
   "id": "golden-quest",
   "metadata": {},
   "outputs": [
    {
     "name": "stdout",
     "output_type": "stream",
     "text": [
      "Wall time: 7.46 s\n"
     ]
    }
   ],
   "source": [
    "%%time\n",
    "y2_cb = clf2_cb.predict(X_test_crp)"
   ]
  },
  {
   "cell_type": "markdown",
   "id": "meaning-reform",
   "metadata": {},
   "source": [
    "# 2. Six-classes Classification"
   ]
  },
  {
   "cell_type": "markdown",
   "id": "encouraging-proposition",
   "metadata": {},
   "source": [
    "### CatBoost"
   ]
  },
  {
   "cell_type": "code",
   "execution_count": 6,
   "id": "thermal-newsletter",
   "metadata": {},
   "outputs": [
    {
     "name": "stdout",
     "output_type": "stream",
     "text": [
      "Wall time: 45.7 s\n"
     ]
    },
    {
     "data": {
      "text/plain": [
       "<catboost.core.CatBoostClassifier at 0x180aff7c188>"
      ]
     },
     "execution_count": 6,
     "metadata": {},
     "output_type": "execute_result"
    }
   ],
   "source": [
    "%%time\n",
    "clf6_cb = CatBoostClassifier(\n",
    "    depth=6,\n",
    "    iterations=800,\n",
    "    early_stopping_rounds=500,\n",
    "    l2_leaf_reg=1e-20,\n",
    "    leaf_estimation_iterations=10,\n",
    "    logging_level='Silent',\n",
    "    loss_function='MultiClass',\n",
    "    eval_metric='MultiClass',\n",
    "    boosting_type='Plain',\n",
    "    task_type='GPU',\n",
    "    random_state=125)\n",
    "clf6_cb.fit(X_crp, y_crp_nrj)"
   ]
  },
  {
   "cell_type": "code",
   "execution_count": 7,
   "id": "descending-baking",
   "metadata": {},
   "outputs": [
    {
     "name": "stdout",
     "output_type": "stream",
     "text": [
      "Wall time: 7.47 s\n"
     ]
    }
   ],
   "source": [
    "%%time\n",
    "y6_cb = clf6_cb.predict(X_test_crp)"
   ]
  },
  {
   "cell_type": "code",
   "execution_count": 8,
   "id": "extraordinary-southeast",
   "metadata": {},
   "outputs": [],
   "source": [
    "clf6_cb.save_model('./saved_models/cat6.cbm')\n",
    "clf2_cb.save_model('./saved_models/cat2.cbm')"
   ]
  },
  {
   "cell_type": "markdown",
   "id": "comparable-mining",
   "metadata": {},
   "source": [
    "# 3. Form Submission"
   ]
  },
  {
   "cell_type": "code",
   "execution_count": null,
   "id": "material-privacy",
   "metadata": {},
   "outputs": [],
   "source": [
    "sub_bin = pd.DataFrame(X_test_labels, columns=['id'])\n",
    "sub_six = pd.DataFrame(X_test_labels, columns=['id'])\n",
    "sub_cat = pd.DataFrame(X_test_labels, columns=['id'])\n",
    "sub_xgb = pd.DataFrame(X_test_labels, columns=['id'])\n",
    "sub_mode = pd.DataFrame(X_test_labels, columns=['id'])"
   ]
  },
  {
   "cell_type": "code",
   "execution_count": null,
   "id": "varying-mambo",
   "metadata": {},
   "outputs": [],
   "source": [
    "y6_cat = np.stack(y6_cb, axis=1)[0]"
   ]
  },
  {
   "cell_type": "code",
   "execution_count": null,
   "id": "stuffed-plaza",
   "metadata": {},
   "outputs": [],
   "source": [
    "conv_six = {0: 1, 1: 3, 2: 6, 3: 10, 4: 20, 5: 30}\n",
    "\n",
    "sub_bin['y2_sgd'] = y2_sgd\n",
    "sub_bin['y2_rf'] = y2_rf\n",
    "sub_bin['y2_cb'] = y2_cb\n",
    "sub_bin['y2_xgb'] = y2_xgb\n",
    "sub_bin['y2_svc'] = y2_svc\n",
    "sub_bin.drop('id', 1, inplace=True)\n",
    "\n",
    "sub_six['y6_sgd'] = list(map(lambda x: conv_six[x], y6_sgd))\n",
    "sub_six['y6_rf'] = list(map(lambda x: conv_six[x], y6_rf))\n",
    "sub_six['y6_cb'] = list(map(lambda x: conv_six[x], y6_cat))\n",
    "sub_six['y6_xgb'] = list(map(lambda x: conv_six[x], y6_xgb))\n",
    "sub_six['y6_svc'] = list(map(lambda x: conv_six[x], y6_svc))\n",
    "sub_six.drop('id', 1, inplace=True)\n",
    "\n",
    "sub_bin.head()"
   ]
  },
  {
   "cell_type": "code",
   "execution_count": null,
   "id": "convenient-cartoon",
   "metadata": {},
   "outputs": [],
   "source": [
    "sub_six.head()"
   ]
  },
  {
   "cell_type": "code",
   "execution_count": null,
   "id": "generic-batman",
   "metadata": {},
   "outputs": [],
   "source": [
    "sub_cat['classification_predictions'] = sub_bin['y2_cb']\n",
    "sub_cat['regression_predictions'] = sub_six['y6_cb']\n",
    "\n",
    "sub_xgb['classification_predictions'] = sub_bin['y2_xgb']\n",
    "sub_xgb['regression_predictions'] = sub_six['y6_xgb']\n",
    "\n",
    "sub_mode['classification_predictions'] = sub_bin.mode(axis=1)[0].astype('int32')\n",
    "sub_mode['regression_predictions'] = sub_six.mode(axis=1)[0].astype('int32')\n",
    "sub_mode.head()"
   ]
  },
  {
   "cell_type": "code",
   "execution_count": null,
   "id": "surrounded-opinion",
   "metadata": {},
   "outputs": [],
   "source": [
    "sub_cat.head()"
   ]
  },
  {
   "cell_type": "code",
   "execution_count": null,
   "id": "controlled-murray",
   "metadata": {},
   "outputs": [],
   "source": [
    "sub_xgb.head()"
   ]
  },
  {
   "cell_type": "code",
   "execution_count": null,
   "id": "pacific-jewelry",
   "metadata": {},
   "outputs": [],
   "source": [
    "sub_mode.to_csv(submissions_path + 'basic_modes.csv', index=False)\n",
    "sub_cat.to_csv(submissions_path + 'basic_cat.csv', index=False)\n",
    "sub_xgb.to_csv(submissions_path + 'basic_xgb.csv', index=False)"
   ]
  },
  {
   "cell_type": "code",
   "execution_count": null,
   "id": "weighted-sympathy",
   "metadata": {},
   "outputs": [],
   "source": [
    "sub_rf = pd.DataFrame(X_test_labels, columns=['id'])\n",
    "sub_rf['classification_predictions'] = sub_bin['y2_rf']\n",
    "sub_rf['regression_predictions'] = sub_six['y6_rf']\n",
    "sub_rf.head()"
   ]
  },
  {
   "cell_type": "code",
   "execution_count": null,
   "id": "korean-double",
   "metadata": {},
   "outputs": [],
   "source": [
    "sub_rf.to_csv(submissions_path + 'basic_rf.csv', index=False)"
   ]
  },
  {
   "cell_type": "markdown",
   "id": "smoking-editing",
   "metadata": {},
   "source": [
    "## Yandex Contest Scores\n",
    "-  rf - 46.07 \n",
    "- cat - 663.1\n",
    "- xgb - 579.88\n",
    "- modes - 537.95"
   ]
  },
  {
   "cell_type": "code",
   "execution_count": null,
   "id": "sporting-hamilton",
   "metadata": {},
   "outputs": [],
   "source": []
  }
 ],
 "metadata": {
  "kernelspec": {
   "display_name": "Python 3",
   "language": "python",
   "name": "python3"
  },
  "language_info": {
   "codemirror_mode": {
    "name": "ipython",
    "version": 3
   },
   "file_extension": ".py",
   "mimetype": "text/x-python",
   "name": "python",
   "nbconvert_exporter": "python",
   "pygments_lexer": "ipython3",
   "version": "3.7.9"
  }
 },
 "nbformat": 4,
 "nbformat_minor": 5
}
