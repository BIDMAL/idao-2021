{
 "cells": [
  {
   "cell_type": "code",
   "execution_count": null,
   "id": "modern-salmon",
   "metadata": {},
   "outputs": [],
   "source": [
    "import numpy as np\n",
    "import os\n",
    "import pandas as pd\n",
    "from skimage.io import imread\n",
    "from sklearn.linear_model import SGDClassifier\n",
    "from sklearn import svm\n",
    "from sklearn.multiclass import OneVsRestClassifier\n",
    "from sklearn.ensemble import RandomForestClassifier\n",
    "from catboost import CatBoostClassifier\n",
    "from xgboost import XGBClassifier"
   ]
  },
  {
   "cell_type": "code",
   "execution_count": null,
   "id": "terminal-breakfast",
   "metadata": {},
   "outputs": [],
   "source": [
    "cropdat_path = './data/train/all_cropped/'\n",
    "augmented_path = './data/train/all_augmented/'\n",
    "cropped_testdat_path = './data/test_cropped/'\n",
    "submissions_path = './submissions/'"
   ]
  },
  {
   "cell_type": "markdown",
   "id": "unauthorized-maine",
   "metadata": {},
   "source": [
    "### Load Data"
   ]
  },
  {
   "cell_type": "code",
   "execution_count": null,
   "id": "difficult-record",
   "metadata": {},
   "outputs": [],
   "source": [
    "%%time\n",
    "conv_type = {'ER': 1, 'NR': 0}\n",
    "conv_nrj = {'1': 0, '3': 1, '6': 2, '10': 3, '20': 4, '30': 5}\n",
    "\n",
    "X_crp = []\n",
    "y_crp_typ = []\n",
    "y_crp_nrj = []\n",
    "for filename in os.listdir(cropdat_path):\n",
    "    img = imread(cropdat_path + filename)    \n",
    "    X_crp.append(img.flatten())\n",
    "    fn_parts = filename.split('-')\n",
    "    y_crp_typ.append(conv_type[fn_parts[1]]) \n",
    "    y_crp_nrj.append(conv_nrj[fn_parts[2].split('.')[0]])\n",
    "print(len(X_crp))\n",
    "print(len(y_crp_typ))\n",
    "print(len(y_crp_nrj))\n",
    "\n",
    "X_test_crp = []\n",
    "X_test_labels = []\n",
    "for filename in os.listdir(cropped_testdat_path):\n",
    "    img = imread(cropped_testdat_path + filename)    \n",
    "    X_test_crp.append(img.flatten())\n",
    "    X_test_labels.append(filename.split('.')[0])\n",
    "print(len(X_test_crp))\n",
    "print(len(X_test_labels))\n",
    "\n",
    "X_crp = np.array(X_crp)\n",
    "y_crp_typ = np.array(y_crp_typ)\n",
    "y_crp_nrj = np.array(y_crp_nrj)\n",
    "X_test_crp = np.array(X_test_crp)"
   ]
  },
  {
   "cell_type": "markdown",
   "id": "knowing-wisconsin",
   "metadata": {},
   "source": [
    "### Prepare Submition"
   ]
  },
  {
   "cell_type": "code",
   "execution_count": null,
   "id": "genuine-newsletter",
   "metadata": {},
   "outputs": [],
   "source": [
    "sub_all = pd.DataFrame(X_test_labels, columns=['id'])\n",
    "sub_all.head()"
   ]
  },
  {
   "cell_type": "markdown",
   "id": "planned-shanghai",
   "metadata": {},
   "source": [
    "# 1. Binary Classification"
   ]
  },
  {
   "cell_type": "markdown",
   "id": "unlimited-prevention",
   "metadata": {},
   "source": [
    "### SGD"
   ]
  },
  {
   "cell_type": "code",
   "execution_count": null,
   "id": "fourth-search",
   "metadata": {},
   "outputs": [],
   "source": [
    "%%time\n",
    "clf2_sgd = SGDClassifier(\n",
    "    alpha=0.1, \n",
    "    l1_ratio=0.05, \n",
    "    loss='hinge', \n",
    "    penalty='elasticnet',\n",
    "    n_jobs=-1,\n",
    "    random_state=125)\n",
    "clf2_sgd.fit(X_crp, y_crp_typ)\n",
    "y2_sgd = clf2_sgd.predict(X_test_crp)"
   ]
  },
  {
   "cell_type": "markdown",
   "id": "published-freight",
   "metadata": {},
   "source": [
    "### Random Forest"
   ]
  },
  {
   "cell_type": "code",
   "execution_count": null,
   "id": "ambient-rebel",
   "metadata": {},
   "outputs": [],
   "source": [
    "%%time\n",
    "clf2_rf = RandomForestClassifier(\n",
    "    criterion='gini', \n",
    "    max_depth=8, \n",
    "    max_features='auto', \n",
    "    n_estimators=800,\n",
    "    n_jobs=-1,\n",
    "    random_state=125)\n",
    "clf2_rf.fit(X_crp, y_crp_typ)\n",
    "y2_rf = clf2_rf.predict(X_test_crp)"
   ]
  },
  {
   "cell_type": "markdown",
   "id": "alternate-savage",
   "metadata": {},
   "source": [
    "### CatBoost"
   ]
  },
  {
   "cell_type": "code",
   "execution_count": null,
   "id": "powerful-basic",
   "metadata": {},
   "outputs": [],
   "source": [
    "%%time\n",
    "clf2_cb = CatBoostClassifier(\n",
    "    depth=6,\n",
    "    iterations=20000,\n",
    "    early_stopping_rounds=500,\n",
    "    l2_leaf_reg=1e-20,\n",
    "    leaf_estimation_iterations=10,\n",
    "    logging_level='Silent',\n",
    "    loss_function='Logloss',\n",
    "    eval_metric='AUC',\n",
    "    boosting_type='Plain',\n",
    "    task_type='GPU',\n",
    "    random_state=125)\n",
    "clf2_cb.fit(X_crp, y_crp_typ)\n",
    "y2_cb = clf2_cb.predict(X_test_crp)"
   ]
  },
  {
   "cell_type": "markdown",
   "id": "arabic-railway",
   "metadata": {},
   "source": [
    "### XGBoost"
   ]
  },
  {
   "cell_type": "code",
   "execution_count": null,
   "id": "australian-aggregate",
   "metadata": {},
   "outputs": [],
   "source": [
    "%%time\n",
    "clf2_xgb = XGBClassifier(\n",
    "    n_estimators=800,\n",
    "    colsample_bytree=1.0,\n",
    "    gamma=1,\n",
    "    max_depth=3,\n",
    "    min_child_weight=1,\n",
    "    subsample=1.0,\n",
    "    eval_metric='auc', \n",
    "    use_label_encoder=False,\n",
    "    tree_method='gpu_hist',\n",
    "    predictor='gpu_predictor',\n",
    "    random_state=125)\n",
    "clf2_xgb.fit(X_crp, y_crp_typ)\n",
    "y2_xgb = clf2_xgb.predict(X_test_crp)"
   ]
  },
  {
   "cell_type": "markdown",
   "id": "olive-invitation",
   "metadata": {},
   "source": [
    "### SVM"
   ]
  },
  {
   "cell_type": "code",
   "execution_count": null,
   "id": "varying-morning",
   "metadata": {},
   "outputs": [],
   "source": [
    "%%time\n",
    "clf2_svc = svm.SVC(\n",
    "    C=0.1,\n",
    "    gamma='scale',\n",
    "    kernel='rbf',\n",
    "    random_state=125)\n",
    "clf2_svc.fit(X_crp, y_crp_typ)\n",
    "y2_svc = clf2_svc.predict(X_test_crp)"
   ]
  },
  {
   "cell_type": "markdown",
   "id": "meaning-reform",
   "metadata": {},
   "source": [
    "# 2. Six-classes Classification"
   ]
  },
  {
   "cell_type": "markdown",
   "id": "blank-console",
   "metadata": {},
   "source": [
    "### SGD"
   ]
  },
  {
   "cell_type": "code",
   "execution_count": null,
   "id": "lesbian-failing",
   "metadata": {},
   "outputs": [],
   "source": [
    "%%time\n",
    "clf6_sgd = SGDClassifier(\n",
    "    alpha=0.1, \n",
    "    l1_ratio=0.05, \n",
    "    loss='log', \n",
    "    penalty='elasticnet',\n",
    "    n_jobs=-1,\n",
    "    random_state=125)\n",
    "clf6_sgd.fit(X_crp, y_crp_nrj)\n",
    "y6_sgd = clf6_sgd.predict(X_test_crp)"
   ]
  },
  {
   "cell_type": "markdown",
   "id": "diverse-transport",
   "metadata": {},
   "source": [
    "### RandomForestClassifier"
   ]
  },
  {
   "cell_type": "code",
   "execution_count": null,
   "id": "absolute-coupon",
   "metadata": {},
   "outputs": [],
   "source": [
    "%%time\n",
    "clf6_rf = RandomForestClassifier(\n",
    "    criterion='gini', \n",
    "    max_depth=8, \n",
    "    max_features='auto', \n",
    "    n_estimators=800,\n",
    "    n_jobs=-1,\n",
    "    random_state=125)\n",
    "clf6_rf.fit(X_crp, y_crp_nrj)\n",
    "y6_rf = clf6_rf.predict(X_test_crp)"
   ]
  },
  {
   "cell_type": "markdown",
   "id": "infrared-warrant",
   "metadata": {},
   "source": [
    "### CatBoostClassifier"
   ]
  },
  {
   "cell_type": "code",
   "execution_count": null,
   "id": "aerial-cradle",
   "metadata": {},
   "outputs": [],
   "source": [
    "%%time\n",
    "clf6_cb = CatBoostClassifier(\n",
    "    depth=6,\n",
    "    iterations=20000,\n",
    "    early_stopping_rounds=500,\n",
    "    l2_leaf_reg=1e-20,\n",
    "    leaf_estimation_iterations=10,\n",
    "    logging_level='Silent',\n",
    "    loss_function='MultiClass',\n",
    "    eval_metric='MultiClass',\n",
    "    boosting_type='Plain',\n",
    "    task_type='GPU',\n",
    "    random_state=125)\n",
    "clf6_cb.fit(X_crp, y_crp_nrj)\n",
    "y6_cb = clf6_cb.predict(X_test_crp)"
   ]
  },
  {
   "cell_type": "markdown",
   "id": "encouraging-proposition",
   "metadata": {},
   "source": [
    "### XGBoost"
   ]
  },
  {
   "cell_type": "code",
   "execution_count": null,
   "id": "thermal-newsletter",
   "metadata": {},
   "outputs": [],
   "source": [
    "%%time\n",
    "clf6_xgb = XGBClassifier(\n",
    "    objective='multi:softmax',\n",
    "    num_classes=6,\n",
    "    n_estimators=500,\n",
    "    colsample_bytree=1.0,\n",
    "    gamma=1,\n",
    "    max_depth=3,\n",
    "    min_child_weight=1,\n",
    "    subsample=1.0,\n",
    "    eval_metric='mlogloss', \n",
    "    use_label_encoder=False,\n",
    "    tree_method='gpu_hist',\n",
    "    predictor='gpu_predictor',\n",
    "    n_jobs=-1,\n",
    "    random_state=125)\n",
    "clf6_xgb.fit(X_crp, y_crp_nrj)\n",
    "y6_xgb = clf6_xgb.predict(X_test_crp)"
   ]
  },
  {
   "cell_type": "markdown",
   "id": "ecological-myanmar",
   "metadata": {},
   "source": [
    "### SVM"
   ]
  },
  {
   "cell_type": "code",
   "execution_count": null,
   "id": "instrumental-advertising",
   "metadata": {},
   "outputs": [],
   "source": [
    "%%time\n",
    "clf6_svc = OneVsRestClassifier(svm.SVC(\n",
    "        C=0.1,\n",
    "        gamma='scale',\n",
    "        kernel='rbf',\n",
    "        probability=True,\n",
    "        random_state=125),\n",
    "    n_jobs=-1)\n",
    "clf6_svc.fit(X_crp, y_crp_nrj)\n",
    "y6_svc = clf6_svc.predict(X_test_crp)"
   ]
  },
  {
   "cell_type": "code",
   "execution_count": null,
   "id": "technical-workplace",
   "metadata": {},
   "outputs": [],
   "source": []
  }
 ],
 "metadata": {
  "kernelspec": {
   "display_name": "Python 3",
   "language": "python",
   "name": "python3"
  },
  "language_info": {
   "codemirror_mode": {
    "name": "ipython",
    "version": 3
   },
   "file_extension": ".py",
   "mimetype": "text/x-python",
   "name": "python",
   "nbconvert_exporter": "python",
   "pygments_lexer": "ipython3",
   "version": "3.7.9"
  }
 },
 "nbformat": 4,
 "nbformat_minor": 5
}
