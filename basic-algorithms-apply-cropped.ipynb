{
 "cells": [
  {
   "cell_type": "code",
   "execution_count": 1,
   "id": "modern-salmon",
   "metadata": {},
   "outputs": [],
   "source": [
    "import numpy as np\n",
    "import os\n",
    "import pandas as pd\n",
    "from skimage.io import imread\n",
    "from sklearn.linear_model import SGDClassifier\n",
    "from sklearn import svm\n",
    "from sklearn.multiclass import OneVsRestClassifier\n",
    "from sklearn.ensemble import RandomForestClassifier\n",
    "from catboost import CatBoostClassifier\n",
    "from xgboost import XGBClassifier"
   ]
  },
  {
   "cell_type": "code",
   "execution_count": 2,
   "id": "terminal-breakfast",
   "metadata": {},
   "outputs": [],
   "source": [
    "cropdat_path = './data/train/all_cropped/'\n",
    "augmented_path = './data/train/all_augmented/'\n",
    "cropped_testdat_path = './data/test_cropped/'\n",
    "submissions_path = './submissions/'"
   ]
  },
  {
   "cell_type": "markdown",
   "id": "unauthorized-maine",
   "metadata": {},
   "source": [
    "### Load Data"
   ]
  },
  {
   "cell_type": "code",
   "execution_count": 5,
   "id": "difficult-record",
   "metadata": {},
   "outputs": [
    {
     "name": "stdout",
     "output_type": "stream",
     "text": [
      "13404\n",
      "13404\n",
      "13404\n",
      "16564\n",
      "16564\n",
      "Wall time: 9.14 s\n"
     ]
    }
   ],
   "source": [
    "%%time\n",
    "conv_type = {'ER': 1, 'NR': 0}\n",
    "conv_nrj = {'1': 0, '3': 1, '6': 2, '10': 3, '20': 4, '30': 5}\n",
    "\n",
    "X_crp = []\n",
    "y_crp_typ = []\n",
    "y_crp_nrj = []\n",
    "for filename in os.listdir(cropdat_path):\n",
    "    img = imread(cropdat_path + filename)    \n",
    "    X_crp.append(img.flatten())\n",
    "    fn_parts = filename.split('-')\n",
    "    y_crp_typ.append(conv_type[fn_parts[1]]) \n",
    "    y_crp_nrj.append(conv_nrj[fn_parts[2].split('.')[0]])\n",
    "print(len(X_crp))\n",
    "print(len(y_crp_typ))\n",
    "print(len(y_crp_nrj))\n",
    "\n",
    "X_test_crp = []\n",
    "X_test_labels = []\n",
    "for filename in os.listdir(cropped_testdat_path):\n",
    "    img = imread(cropped_testdat_path + filename)    \n",
    "    X_test_crp.append(img.flatten())\n",
    "    X_test_labels.append(filename.split('.')[0])\n",
    "print(len(X_test_crp))\n",
    "print(len(X_test_labels))\n",
    "\n",
    "X_crp = np.array(X_crp)\n",
    "y_crp_typ = np.array(y_crp_typ)\n",
    "y_crp_nrj = np.array(y_crp_nrj)\n",
    "X_test_crp = np.array(X_test_crp)"
   ]
  },
  {
   "cell_type": "markdown",
   "id": "planned-shanghai",
   "metadata": {},
   "source": [
    "# 1. Binary Classification"
   ]
  },
  {
   "cell_type": "markdown",
   "id": "unlimited-prevention",
   "metadata": {},
   "source": [
    "### SGD"
   ]
  },
  {
   "cell_type": "code",
   "execution_count": null,
   "id": "fourth-search",
   "metadata": {},
   "outputs": [],
   "source": [
    "%%time\n",
    "clf2_sgd = SGDClassifier(\n",
    "    alpha=0.1, \n",
    "    l1_ratio=0.05, \n",
    "    loss='hinge', \n",
    "    penalty='elasticnet',\n",
    "    n_jobs=-1,\n",
    "    random_state=125)\n",
    "clf2_sgd.fit(X_crp, y_crp_typ)\n",
    "y2_sgd = clf2_sgd.predict(X_test_crp)"
   ]
  },
  {
   "cell_type": "markdown",
   "id": "published-freight",
   "metadata": {},
   "source": [
    "### Random Forest"
   ]
  },
  {
   "cell_type": "code",
   "execution_count": null,
   "id": "ambient-rebel",
   "metadata": {},
   "outputs": [],
   "source": [
    "%%time\n",
    "clf2_rf = RandomForestClassifier(\n",
    "    criterion='gini', \n",
    "    max_depth=8, \n",
    "    max_features='auto', \n",
    "    n_estimators=800,\n",
    "    n_jobs=-1,\n",
    "    random_state=125)\n",
    "clf2_rf.fit(X_crp, y_crp_typ)\n",
    "y2_rf = clf2_rf.predict(X_test_crp)"
   ]
  },
  {
   "cell_type": "markdown",
   "id": "alternate-savage",
   "metadata": {},
   "source": [
    "### CatBoost"
   ]
  },
  {
   "cell_type": "code",
   "execution_count": null,
   "id": "powerful-basic",
   "metadata": {},
   "outputs": [],
   "source": [
    "%%time\n",
    "clf2_cb = CatBoostClassifier(\n",
    "    depth=6,\n",
    "    iterations=20000,\n",
    "    early_stopping_rounds=500,\n",
    "    l2_leaf_reg=1e-20,\n",
    "    leaf_estimation_iterations=10,\n",
    "    logging_level='Silent',\n",
    "    loss_function='Logloss',\n",
    "    eval_metric='AUC',\n",
    "    boosting_type='Plain',\n",
    "    task_type='GPU',\n",
    "    random_state=125)\n",
    "clf2_cb.fit(X_crp, y_crp_typ)\n",
    "y2_cb = clf2_cb.predict(X_test_crp)"
   ]
  },
  {
   "cell_type": "markdown",
   "id": "arabic-railway",
   "metadata": {},
   "source": [
    "### XGBoost"
   ]
  },
  {
   "cell_type": "code",
   "execution_count": 6,
   "id": "australian-aggregate",
   "metadata": {},
   "outputs": [
    {
     "name": "stdout",
     "output_type": "stream",
     "text": [
      "Wall time: 27.2 s\n"
     ]
    },
    {
     "data": {
      "text/plain": [
       "XGBClassifier(base_score=0.5, booster='gbtree', colsample_bylevel=1,\n",
       "              colsample_bynode=1, colsample_bytree=1.0, eval_metric='auc',\n",
       "              gamma=1, gpu_id=0, importance_type='gain',\n",
       "              interaction_constraints='', learning_rate=0.300000012,\n",
       "              max_delta_step=0, max_depth=3, min_child_weight=1, missing=nan,\n",
       "              monotone_constraints='()', n_estimators=800, n_jobs=12,\n",
       "              num_parallel_tree=1, predictor='gpu_predictor', random_state=125,\n",
       "              reg_alpha=0, reg_lambda=1, scale_pos_weight=1, subsample=1.0,\n",
       "              tree_method='gpu_hist', use_label_encoder=False,\n",
       "              validate_parameters=1, verbosity=None)"
      ]
     },
     "execution_count": 6,
     "metadata": {},
     "output_type": "execute_result"
    }
   ],
   "source": [
    "%%time\n",
    "clf2_xgb = XGBClassifier(\n",
    "    n_estimators=800,\n",
    "    colsample_bytree=1.0,\n",
    "    gamma=1,\n",
    "    max_depth=3,\n",
    "    min_child_weight=1,\n",
    "    subsample=1.0,\n",
    "    eval_metric='auc', \n",
    "    use_label_encoder=False,\n",
    "    tree_method='gpu_hist',\n",
    "    predictor='gpu_predictor',\n",
    "    random_state=125)\n",
    "clf2_xgb.fit(X_crp, y_crp_typ)\n"
   ]
  },
  {
   "cell_type": "code",
   "execution_count": 7,
   "id": "golden-quest",
   "metadata": {},
   "outputs": [],
   "source": [
    "y2_xgb = clf2_xgb.predict(X_test_crp)"
   ]
  },
  {
   "cell_type": "markdown",
   "id": "olive-invitation",
   "metadata": {},
   "source": [
    "### SVM"
   ]
  },
  {
   "cell_type": "code",
   "execution_count": null,
   "id": "varying-morning",
   "metadata": {},
   "outputs": [],
   "source": [
    "%%time\n",
    "clf2_svc = svm.SVC(\n",
    "    C=0.1,\n",
    "    gamma='scale',\n",
    "    kernel='rbf',\n",
    "    random_state=125)\n",
    "clf2_svc.fit(X_crp, y_crp_typ)\n",
    "y2_svc = clf2_svc.predict(X_test_crp)"
   ]
  },
  {
   "cell_type": "markdown",
   "id": "meaning-reform",
   "metadata": {},
   "source": [
    "# 2. Six-classes Classification"
   ]
  },
  {
   "cell_type": "markdown",
   "id": "blank-console",
   "metadata": {},
   "source": [
    "### SGD"
   ]
  },
  {
   "cell_type": "code",
   "execution_count": null,
   "id": "lesbian-failing",
   "metadata": {},
   "outputs": [],
   "source": [
    "%%time\n",
    "clf6_sgd = SGDClassifier(\n",
    "    alpha=0.1, \n",
    "    l1_ratio=0.05, \n",
    "    loss='log', \n",
    "    penalty='elasticnet',\n",
    "    n_jobs=-1,\n",
    "    random_state=125)\n",
    "clf6_sgd.fit(X_crp, y_crp_nrj)\n",
    "y6_sgd = clf6_sgd.predict(X_test_crp)"
   ]
  },
  {
   "cell_type": "markdown",
   "id": "diverse-transport",
   "metadata": {},
   "source": [
    "### RandomForestClassifier"
   ]
  },
  {
   "cell_type": "code",
   "execution_count": null,
   "id": "absolute-coupon",
   "metadata": {},
   "outputs": [],
   "source": [
    "%%time\n",
    "clf6_rf = RandomForestClassifier(\n",
    "    criterion='gini', \n",
    "    max_depth=8, \n",
    "    max_features='auto', \n",
    "    n_estimators=800,\n",
    "    n_jobs=-1,\n",
    "    random_state=125)\n",
    "clf6_rf.fit(X_crp, y_crp_nrj)\n",
    "y6_rf = clf6_rf.predict(X_test_crp)"
   ]
  },
  {
   "cell_type": "markdown",
   "id": "infrared-warrant",
   "metadata": {},
   "source": [
    "### CatBoostClassifier"
   ]
  },
  {
   "cell_type": "code",
   "execution_count": null,
   "id": "aerial-cradle",
   "metadata": {},
   "outputs": [],
   "source": [
    "%%time\n",
    "clf6_cb = CatBoostClassifier(\n",
    "    depth=6,\n",
    "    iterations=20000,\n",
    "    early_stopping_rounds=500,\n",
    "    l2_leaf_reg=1e-20,\n",
    "    leaf_estimation_iterations=10,\n",
    "    logging_level='Silent',\n",
    "    loss_function='MultiClass',\n",
    "    eval_metric='MultiClass',\n",
    "    boosting_type='Plain',\n",
    "    task_type='GPU',\n",
    "    random_state=125)\n",
    "clf6_cb.fit(X_crp, y_crp_nrj)"
   ]
  },
  {
   "cell_type": "code",
   "execution_count": null,
   "id": "scheduled-times",
   "metadata": {},
   "outputs": [],
   "source": [
    "y6_cb = clf6_cb.predict(X_test_crp)"
   ]
  },
  {
   "cell_type": "markdown",
   "id": "encouraging-proposition",
   "metadata": {},
   "source": [
    "### XGBoost"
   ]
  },
  {
   "cell_type": "code",
   "execution_count": 8,
   "id": "thermal-newsletter",
   "metadata": {},
   "outputs": [
    {
     "name": "stdout",
     "output_type": "stream",
     "text": [
      "[22:38:07] WARNING: C:/Users/Administrator/workspace/xgboost-win64_release_1.3.0/src/learner.cc:541: \n",
      "Parameters: { num_classes } might not be used.\n",
      "\n",
      "  This may not be accurate due to some parameters are only used in language bindings but\n",
      "  passed down to XGBoost core.  Or some parameters are not used but slip through this\n",
      "  verification. Please open an issue if you find above cases.\n",
      "\n",
      "\n",
      "Wall time: 1min 22s\n"
     ]
    },
    {
     "data": {
      "text/plain": [
       "XGBClassifier(base_score=0.5, booster='gbtree', colsample_bylevel=1,\n",
       "              colsample_bynode=1, colsample_bytree=1.0, eval_metric='mlogloss',\n",
       "              gamma=1, gpu_id=0, importance_type='gain',\n",
       "              interaction_constraints='', learning_rate=0.300000012,\n",
       "              max_delta_step=0, max_depth=3, min_child_weight=1, missing=nan,\n",
       "              monotone_constraints='()', n_estimators=500, n_jobs=-1,\n",
       "              num_classes=6, num_parallel_tree=1, objective='multi:softprob',\n",
       "              predictor='gpu_predictor', random_state=125, reg_alpha=0,\n",
       "              reg_lambda=1, scale_pos_weight=None, subsample=1.0,\n",
       "              tree_method='gpu_hist', use_label_encoder=False,\n",
       "              validate_parameters=1, ...)"
      ]
     },
     "execution_count": 8,
     "metadata": {},
     "output_type": "execute_result"
    }
   ],
   "source": [
    "%%time\n",
    "clf6_xgb = XGBClassifier(\n",
    "    objective='multi:softmax',\n",
    "    num_classes=6,\n",
    "    n_estimators=500,\n",
    "    colsample_bytree=1.0,\n",
    "    gamma=1,\n",
    "    max_depth=3,\n",
    "    min_child_weight=1,\n",
    "    subsample=1.0,\n",
    "    eval_metric='mlogloss', \n",
    "    use_label_encoder=False,\n",
    "    tree_method='gpu_hist',\n",
    "    predictor='gpu_predictor',\n",
    "    n_jobs=-1,\n",
    "    random_state=125)\n",
    "clf6_xgb.fit(X_crp, y_crp_nrj)"
   ]
  },
  {
   "cell_type": "code",
   "execution_count": 9,
   "id": "descending-baking",
   "metadata": {},
   "outputs": [],
   "source": [
    "y6_xgb = clf6_xgb.predict(X_test_crp)"
   ]
  },
  {
   "cell_type": "markdown",
   "id": "ecological-myanmar",
   "metadata": {},
   "source": [
    "### SVM"
   ]
  },
  {
   "cell_type": "code",
   "execution_count": null,
   "id": "instrumental-advertising",
   "metadata": {},
   "outputs": [],
   "source": [
    "%%time\n",
    "clf6_svc = OneVsRestClassifier(svm.SVC(\n",
    "        C=0.1,\n",
    "        gamma='scale',\n",
    "        kernel='rbf',\n",
    "        probability=True,\n",
    "        random_state=125),\n",
    "    n_jobs=-1)\n",
    "clf6_svc.fit(X_crp, y_crp_nrj)\n",
    "y6_svc = clf6_svc.predict(X_test_crp)"
   ]
  },
  {
   "cell_type": "markdown",
   "id": "comparable-mining",
   "metadata": {},
   "source": [
    "# 3. Form Submission"
   ]
  },
  {
   "cell_type": "code",
   "execution_count": null,
   "id": "material-privacy",
   "metadata": {},
   "outputs": [],
   "source": [
    "sub_bin = pd.DataFrame(X_test_labels, columns=['id'])\n",
    "sub_six = pd.DataFrame(X_test_labels, columns=['id'])\n",
    "sub_cat = pd.DataFrame(X_test_labels, columns=['id'])\n",
    "sub_xgb = pd.DataFrame(X_test_labels, columns=['id'])\n",
    "sub_mode = pd.DataFrame(X_test_labels, columns=['id'])"
   ]
  },
  {
   "cell_type": "code",
   "execution_count": null,
   "id": "varying-mambo",
   "metadata": {},
   "outputs": [],
   "source": [
    "y6_cat = np.stack(y6_cb, axis=1)[0]"
   ]
  },
  {
   "cell_type": "code",
   "execution_count": null,
   "id": "stuffed-plaza",
   "metadata": {},
   "outputs": [],
   "source": [
    "conv_six = {0: 1, 1: 3, 2: 6, 3: 10, 4: 20, 5: 30}\n",
    "\n",
    "sub_bin['y2_sgd'] = y2_sgd\n",
    "sub_bin['y2_rf'] = y2_rf\n",
    "sub_bin['y2_cb'] = y2_cb\n",
    "sub_bin['y2_xgb'] = y2_xgb\n",
    "sub_bin['y2_svc'] = y2_svc\n",
    "sub_bin.drop('id', 1, inplace=True)\n",
    "\n",
    "sub_six['y6_sgd'] = list(map(lambda x: conv_six[x], y6_sgd))\n",
    "sub_six['y6_rf'] = list(map(lambda x: conv_six[x], y6_rf))\n",
    "sub_six['y6_cb'] = list(map(lambda x: conv_six[x], y6_cat))\n",
    "sub_six['y6_xgb'] = list(map(lambda x: conv_six[x], y6_xgb))\n",
    "sub_six['y6_svc'] = list(map(lambda x: conv_six[x], y6_svc))\n",
    "sub_six.drop('id', 1, inplace=True)\n",
    "\n",
    "sub_bin.head()"
   ]
  },
  {
   "cell_type": "code",
   "execution_count": null,
   "id": "convenient-cartoon",
   "metadata": {},
   "outputs": [],
   "source": [
    "sub_six.head()"
   ]
  },
  {
   "cell_type": "code",
   "execution_count": null,
   "id": "generic-batman",
   "metadata": {},
   "outputs": [],
   "source": [
    "sub_cat['classification_predictions'] = sub_bin['y2_cb']\n",
    "sub_cat['regression_predictions'] = sub_six['y6_cb']\n",
    "\n",
    "sub_xgb['classification_predictions'] = sub_bin['y2_xgb']\n",
    "sub_xgb['regression_predictions'] = sub_six['y6_xgb']\n",
    "\n",
    "sub_mode['classification_predictions'] = sub_bin.mode(axis=1)[0].astype('int32')\n",
    "sub_mode['regression_predictions'] = sub_six.mode(axis=1)[0].astype('int32')\n",
    "sub_mode.head()"
   ]
  },
  {
   "cell_type": "code",
   "execution_count": null,
   "id": "surrounded-opinion",
   "metadata": {},
   "outputs": [],
   "source": [
    "sub_cat.head()"
   ]
  },
  {
   "cell_type": "code",
   "execution_count": null,
   "id": "controlled-murray",
   "metadata": {},
   "outputs": [],
   "source": [
    "sub_xgb.head()"
   ]
  },
  {
   "cell_type": "code",
   "execution_count": null,
   "id": "pacific-jewelry",
   "metadata": {},
   "outputs": [],
   "source": [
    "sub_mode.to_csv(submissions_path + 'basic_modes.csv', index=False)\n",
    "sub_cat.to_csv(submissions_path + 'basic_cat.csv', index=False)\n",
    "sub_xgb.to_csv(submissions_path + 'basic_xgb.csv', index=False)"
   ]
  },
  {
   "cell_type": "code",
   "execution_count": null,
   "id": "weighted-sympathy",
   "metadata": {},
   "outputs": [],
   "source": [
    "sub_rf = pd.DataFrame(X_test_labels, columns=['id'])\n",
    "sub_rf['classification_predictions'] = sub_bin['y2_rf']\n",
    "sub_rf['regression_predictions'] = sub_six['y6_rf']\n",
    "sub_rf.head()"
   ]
  },
  {
   "cell_type": "code",
   "execution_count": null,
   "id": "korean-double",
   "metadata": {},
   "outputs": [],
   "source": [
    "sub_rf.to_csv(submissions_path + 'basic_rf.csv', index=False)"
   ]
  },
  {
   "cell_type": "markdown",
   "id": "smoking-editing",
   "metadata": {},
   "source": [
    "## Yandex Contest Scores\n",
    "-  rf - 46.07 \n",
    "- cat - 663.1\n",
    "- xgb - 579.88\n",
    "- modes - 537.95"
   ]
  },
  {
   "cell_type": "code",
   "execution_count": 10,
   "id": "sporting-hamilton",
   "metadata": {},
   "outputs": [],
   "source": [
    "clf6_xgb.save_model('./saved_models/xgb6')\n",
    "clf2_xgb.save_model('./saved_models/xgb2')"
   ]
  }
 ],
 "metadata": {
  "kernelspec": {
   "display_name": "Python 3",
   "language": "python",
   "name": "python3"
  },
  "language_info": {
   "codemirror_mode": {
    "name": "ipython",
    "version": 3
   },
   "file_extension": ".py",
   "mimetype": "text/x-python",
   "name": "python",
   "nbconvert_exporter": "python",
   "pygments_lexer": "ipython3",
   "version": "3.7.9"
  }
 },
 "nbformat": 4,
 "nbformat_minor": 5
}
