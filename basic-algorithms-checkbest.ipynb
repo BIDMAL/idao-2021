{
 "cells": [
  {
   "cell_type": "code",
   "execution_count": 1,
   "id": "modern-salmon",
   "metadata": {},
   "outputs": [],
   "source": [
    "import numpy as np\n",
    "import os\n",
    "import pandas as pd\n",
    "from skimage.io import imread, imsave\n",
    "from sklearn.model_selection import StratifiedKFold, GridSearchCV, cross_val_score\n",
    "from sklearn.metrics import roc_auc_score, mean_absolute_error\n",
    "from sklearn.linear_model import SGDClassifier\n",
    "from sklearn import svm\n",
    "from sklearn.multiclass import OneVsRestClassifier\n",
    "from sklearn.ensemble import RandomForestClassifier\n",
    "from catboost import CatBoostClassifier\n",
    "from xgboost import XGBClassifier"
   ]
  },
  {
   "cell_type": "code",
   "execution_count": 2,
   "id": "terminal-breakfast",
   "metadata": {},
   "outputs": [],
   "source": [
    "er_trdat_path = './data/train/ER/'\n",
    "nr_trdat_path = './data/train/NR/'\n",
    "cropdat_path = './data/train/all_cropped/'"
   ]
  },
  {
   "cell_type": "markdown",
   "id": "unauthorized-maine",
   "metadata": {},
   "source": [
    "### form crp_ dataset"
   ]
  },
  {
   "cell_type": "code",
   "execution_count": 3,
   "id": "difficult-record",
   "metadata": {},
   "outputs": [
    {
     "name": "stdout",
     "output_type": "stream",
     "text": [
      "13404\n",
      "13404\n",
      "13404\n",
      "Wall time: 4.12 s\n"
     ]
    }
   ],
   "source": [
    "%%time\n",
    "conv_type = {'ER': 1, 'NR': 0}\n",
    "conv_nrj = {'1': 0, '3': 1, '6': 2, '10': 3, '20': 4, '30': 5}\n",
    "X_crp = []\n",
    "y_crp_typ = []\n",
    "y_crp_nrj = []\n",
    "for filename in os.listdir(cropdat_path):\n",
    "    img = imread(cropdat_path + filename)    \n",
    "    X_crp.append(img.flatten())\n",
    "    fn_parts = filename.split('-')\n",
    "    y_crp_typ.append(conv_type[fn_parts[1]]) \n",
    "    y_crp_nrj.append(conv_nrj[fn_parts[2].split('.')[0]])\n",
    "print(len(X_crp))\n",
    "print(len(y_crp_typ))\n",
    "print(len(y_crp_nrj))"
   ]
  },
  {
   "cell_type": "code",
   "execution_count": 4,
   "id": "congressional-validation",
   "metadata": {},
   "outputs": [
    {
     "name": "stdout",
     "output_type": "stream",
     "text": [
      "{0: 6646, 1: 6758}\n",
      "{0: 2180, 1: 2245, 2: 2256, 3: 2274, 4: 2210, 5: 2239}\n"
     ]
    }
   ],
   "source": [
    "unique, counts = np.unique(y_crp_typ, return_counts=True)\n",
    "print(dict(zip(unique, counts)))\n",
    "unique, counts = np.unique(y_crp_nrj, return_counts=True)\n",
    "print(dict(zip(unique, counts)))"
   ]
  },
  {
   "cell_type": "code",
   "execution_count": 5,
   "id": "intensive-diagram",
   "metadata": {},
   "outputs": [],
   "source": [
    "X_crp = np.array(X_crp)\n",
    "y_crp_typ = np.array(y_crp_typ)\n",
    "y_crp_nrj = np.array(y_crp_nrj)\n",
    "cv = StratifiedKFold(n_splits=5,shuffle=True,random_state=125)"
   ]
  },
  {
   "cell_type": "markdown",
   "id": "planned-shanghai",
   "metadata": {},
   "source": [
    "# 1. Binary Classification"
   ]
  },
  {
   "cell_type": "markdown",
   "id": "unlimited-prevention",
   "metadata": {},
   "source": [
    "### SGD"
   ]
  },
  {
   "cell_type": "code",
   "execution_count": 6,
   "id": "fourth-search",
   "metadata": {},
   "outputs": [
    {
     "name": "stderr",
     "output_type": "stream",
     "text": [
      "[Parallel(n_jobs=-1)]: Using backend LokyBackend with 12 concurrent workers.\n",
      "[Parallel(n_jobs=-1)]: Done   3 out of   5 | elapsed:   46.7s remaining:   31.1s\n",
      "[Parallel(n_jobs=-1)]: Done   5 out of   5 | elapsed:  1.1min finished\n"
     ]
    },
    {
     "name": "stdout",
     "output_type": "stream",
     "text": [
      "0.7011147379534307\n",
      "Wall time: 1min 5s\n"
     ]
    }
   ],
   "source": [
    "%%time\n",
    "clf = SGDClassifier(\n",
    "    alpha=0.1, \n",
    "    l1_ratio=0.05, \n",
    "    loss='hinge', \n",
    "    penalty='elasticnet', \n",
    "    random_state=125)\n",
    "cvs = cross_val_score(clf, X_crp, y_crp_typ, scoring='roc_auc', cv=cv, n_jobs=-1, verbose=2)\n",
    "print(np.mean(cvs))"
   ]
  },
  {
   "cell_type": "markdown",
   "id": "published-freight",
   "metadata": {},
   "source": [
    "### Random Forest"
   ]
  },
  {
   "cell_type": "code",
   "execution_count": 7,
   "id": "ambient-rebel",
   "metadata": {},
   "outputs": [
    {
     "name": "stderr",
     "output_type": "stream",
     "text": [
      "[Parallel(n_jobs=-1)]: Using backend LokyBackend with 12 concurrent workers.\n",
      "[Parallel(n_jobs=-1)]: Done   3 out of   5 | elapsed:  1.5min remaining:   59.0s\n",
      "[Parallel(n_jobs=-1)]: Done   5 out of   5 | elapsed:  1.5min finished\n"
     ]
    },
    {
     "name": "stdout",
     "output_type": "stream",
     "text": [
      "0.9534102843532285\n",
      "Wall time: 1min 29s\n"
     ]
    }
   ],
   "source": [
    "%%time\n",
    "clf = RandomForestClassifier(\n",
    "    criterion='gini', \n",
    "    max_depth=8, \n",
    "    max_features='auto', \n",
    "    n_estimators=800, \n",
    "    random_state=125)\n",
    "cvs = cross_val_score(clf, X_crp, y_crp_typ, scoring='roc_auc', cv=cv, n_jobs=-1, verbose=2)\n",
    "print(np.mean(cvs))"
   ]
  },
  {
   "cell_type": "markdown",
   "id": "alternate-savage",
   "metadata": {},
   "source": [
    "### CatBoost"
   ]
  },
  {
   "cell_type": "code",
   "execution_count": 8,
   "id": "general-force",
   "metadata": {},
   "outputs": [
    {
     "name": "stderr",
     "output_type": "stream",
     "text": [
      "[Parallel(n_jobs=1)]: Using backend SequentialBackend with 1 concurrent workers.\n"
     ]
    },
    {
     "name": "stdout",
     "output_type": "stream",
     "text": [
      "[CV] END .................................................... total time= 9.4min\n"
     ]
    },
    {
     "name": "stderr",
     "output_type": "stream",
     "text": [
      "[Parallel(n_jobs=1)]: Done   1 out of   1 | elapsed:  9.4min remaining:    0.0s\n"
     ]
    },
    {
     "name": "stdout",
     "output_type": "stream",
     "text": [
      "[CV] END .................................................... total time= 9.5min\n",
      "[CV] END .................................................... total time= 9.4min\n",
      "[CV] END .................................................... total time= 9.7min\n",
      "[CV] END .................................................... total time= 9.5min\n",
      "0.9956154053876766\n",
      "Wall time: 47min 33s\n"
     ]
    },
    {
     "name": "stderr",
     "output_type": "stream",
     "text": [
      "[Parallel(n_jobs=1)]: Done   5 out of   5 | elapsed: 47.6min finished\n"
     ]
    }
   ],
   "source": [
    "%%time\n",
    "clf = CatBoostClassifier(\n",
    "    depth=6,\n",
    "    iterations=20000,\n",
    "    early_stopping_rounds=500,\n",
    "    l2_leaf_reg=1e-20,\n",
    "    leaf_estimation_iterations=10,\n",
    "    logging_level='Silent',\n",
    "    loss_function='Logloss',\n",
    "    eval_metric='AUC',\n",
    "    boosting_type='Plain',\n",
    "    task_type='GPU',\n",
    "    random_state=125)\n",
    "cvs = cross_val_score(clf, X_crp, y_crp_typ, scoring='roc_auc', cv=cv, verbose=2)\n",
    "print(np.mean(cvs))"
   ]
  },
  {
   "cell_type": "markdown",
   "id": "arabic-railway",
   "metadata": {},
   "source": [
    "### XGBoost"
   ]
  },
  {
   "cell_type": "code",
   "execution_count": 9,
   "id": "olive-passage",
   "metadata": {},
   "outputs": [
    {
     "name": "stderr",
     "output_type": "stream",
     "text": [
      "[Parallel(n_jobs=1)]: Using backend SequentialBackend with 1 concurrent workers.\n"
     ]
    },
    {
     "name": "stdout",
     "output_type": "stream",
     "text": [
      "[CV] END .................................................... total time=  17.9s\n"
     ]
    },
    {
     "name": "stderr",
     "output_type": "stream",
     "text": [
      "[Parallel(n_jobs=1)]: Done   1 out of   1 | elapsed:   17.9s remaining:    0.0s\n"
     ]
    },
    {
     "name": "stdout",
     "output_type": "stream",
     "text": [
      "[CV] END .................................................... total time=  17.7s\n",
      "[CV] END .................................................... total time=  17.1s\n",
      "[CV] END .................................................... total time=  16.7s\n",
      "[CV] END .................................................... total time=  17.5s\n",
      "0.9939376484170884\n",
      "Wall time: 1min 27s\n"
     ]
    },
    {
     "name": "stderr",
     "output_type": "stream",
     "text": [
      "[Parallel(n_jobs=1)]: Done   5 out of   5 | elapsed:  1.5min finished\n"
     ]
    }
   ],
   "source": [
    "%%time\n",
    "clf = XGBClassifier(\n",
    "    n_estimators=500,\n",
    "    colsample_bytree=1.0,\n",
    "    gamma=1,\n",
    "    max_depth=3,\n",
    "    min_child_weight=1,\n",
    "    subsample=1.0,\n",
    "    eval_metric='auc', \n",
    "    use_label_encoder=False,\n",
    "    tree_method='gpu_hist',\n",
    "    predictor='gpu_predictor',\n",
    "    random_state=125)\n",
    "cvs = cross_val_score(clf, X_crp, y_crp_typ, scoring='roc_auc', cv=cv, verbose=2)\n",
    "print(np.mean(cvs))"
   ]
  },
  {
   "cell_type": "markdown",
   "id": "olive-invitation",
   "metadata": {},
   "source": [
    "### SVM"
   ]
  },
  {
   "cell_type": "code",
   "execution_count": 10,
   "id": "varying-morning",
   "metadata": {},
   "outputs": [
    {
     "name": "stderr",
     "output_type": "stream",
     "text": [
      "[Parallel(n_jobs=-1)]: Using backend LokyBackend with 12 concurrent workers.\n",
      "[Parallel(n_jobs=-1)]: Done   3 out of   5 | elapsed: 10.8min remaining:  7.2min\n",
      "[Parallel(n_jobs=-1)]: Done   5 out of   5 | elapsed: 10.8min finished\n"
     ]
    },
    {
     "name": "stdout",
     "output_type": "stream",
     "text": [
      "0.9170779231945364\n",
      "Wall time: 10min 48s\n"
     ]
    }
   ],
   "source": [
    "%%time\n",
    "clf = svm.SVC(\n",
    "    C=0.1,\n",
    "    gamma='scale',\n",
    "    kernel='rbf',\n",
    "    random_state=125)\n",
    "cvs = cross_val_score(clf, X_crp, y_crp_typ, scoring='roc_auc', cv=cv, n_jobs=-1, verbose=2)\n",
    "print(np.mean(cvs))"
   ]
  },
  {
   "cell_type": "markdown",
   "id": "likely-yahoo",
   "metadata": {},
   "source": [
    "# 2. Six-classes Classification"
   ]
  },
  {
   "cell_type": "markdown",
   "id": "comprehensive-admission",
   "metadata": {},
   "source": [
    "### SGD"
   ]
  },
  {
   "cell_type": "code",
   "execution_count": 9,
   "id": "casual-mills",
   "metadata": {},
   "outputs": [
    {
     "name": "stderr",
     "output_type": "stream",
     "text": [
      "[Parallel(n_jobs=-1)]: Using backend LokyBackend with 12 concurrent workers.\n",
      "[Parallel(n_jobs=-1)]: Done   3 out of   5 | elapsed:  4.5min remaining:  3.0min\n",
      "[Parallel(n_jobs=-1)]: Done   5 out of   5 | elapsed:  4.8min finished\n"
     ]
    },
    {
     "name": "stdout",
     "output_type": "stream",
     "text": [
      "0.8879479254686704\n",
      "Wall time: 4min 47s\n"
     ]
    }
   ],
   "source": [
    "%%time\n",
    "clf = SGDClassifier(\n",
    "    alpha=0.1, \n",
    "    l1_ratio=0.05, \n",
    "    loss='log', \n",
    "    penalty='elasticnet', \n",
    "    random_state=125)\n",
    "cvs = cross_val_score(clf, X_crp, y_crp_nrj, scoring='roc_auc_ovr', cv=cv, n_jobs=-1, verbose=2)\n",
    "print(np.mean(cvs))"
   ]
  },
  {
   "cell_type": "markdown",
   "id": "broadband-helmet",
   "metadata": {},
   "source": [
    "### RandomForestClassifier"
   ]
  },
  {
   "cell_type": "code",
   "execution_count": 10,
   "id": "gorgeous-gender",
   "metadata": {},
   "outputs": [
    {
     "name": "stderr",
     "output_type": "stream",
     "text": [
      "[Parallel(n_jobs=-1)]: Using backend LokyBackend with 12 concurrent workers.\n",
      "[Parallel(n_jobs=-1)]: Done   3 out of   5 | elapsed:  1.5min remaining:  1.0min\n",
      "[Parallel(n_jobs=-1)]: Done   5 out of   5 | elapsed:  1.5min finished\n"
     ]
    },
    {
     "name": "stdout",
     "output_type": "stream",
     "text": [
      "0.9796941447126098\n",
      "Wall time: 1min 32s\n"
     ]
    }
   ],
   "source": [
    "%%time\n",
    "clf = RandomForestClassifier(\n",
    "    criterion='gini', \n",
    "    max_depth=8, \n",
    "    max_features='auto', \n",
    "    n_estimators=800, \n",
    "    random_state=125)\n",
    "cvs = cross_val_score(clf, X_crp, y_crp_nrj, scoring='roc_auc_ovr', cv=cv, n_jobs=-1, verbose=2)\n",
    "print(np.mean(cvs))"
   ]
  },
  {
   "cell_type": "markdown",
   "id": "internal-tulsa",
   "metadata": {},
   "source": [
    "### CatBoostClassifier"
   ]
  },
  {
   "cell_type": "code",
   "execution_count": 11,
   "id": "normal-nerve",
   "metadata": {},
   "outputs": [
    {
     "name": "stderr",
     "output_type": "stream",
     "text": [
      "[Parallel(n_jobs=1)]: Using backend SequentialBackend with 1 concurrent workers.\n"
     ]
    },
    {
     "name": "stdout",
     "output_type": "stream",
     "text": [
      "[CV] END .................................................... total time=18.4min\n"
     ]
    },
    {
     "name": "stderr",
     "output_type": "stream",
     "text": [
      "[Parallel(n_jobs=1)]: Done   1 out of   1 | elapsed: 18.4min remaining:    0.0s\n"
     ]
    },
    {
     "name": "stdout",
     "output_type": "stream",
     "text": [
      "[CV] END .................................................... total time=18.6min\n",
      "[CV] END .................................................... total time=18.3min\n",
      "[CV] END .................................................... total time=17.9min\n",
      "[CV] END .................................................... total time=19.0min\n",
      "0.9985608777853304\n",
      "Wall time: 1h 32min 6s\n"
     ]
    },
    {
     "name": "stderr",
     "output_type": "stream",
     "text": [
      "[Parallel(n_jobs=1)]: Done   5 out of   5 | elapsed: 92.1min finished\n"
     ]
    }
   ],
   "source": [
    "%%time\n",
    "clf = CatBoostClassifier(\n",
    "    depth=6,\n",
    "    iterations=20000,\n",
    "    early_stopping_rounds=500,\n",
    "    l2_leaf_reg=1e-20,\n",
    "    leaf_estimation_iterations=10,\n",
    "    logging_level='Silent',\n",
    "    loss_function='MultiClass',\n",
    "    eval_metric='MultiClass',\n",
    "    boosting_type='Plain',\n",
    "    task_type='GPU',\n",
    "    random_state=125)\n",
    "cvs = cross_val_score(clf, X_crp, y_crp_nrj, scoring='roc_auc_ovr', cv=cv, verbose=2)\n",
    "print(np.mean(cvs))"
   ]
  },
  {
   "cell_type": "markdown",
   "id": "moving-springer",
   "metadata": {},
   "source": [
    "### XGBClassifier"
   ]
  },
  {
   "cell_type": "code",
   "execution_count": 12,
   "id": "explicit-honolulu",
   "metadata": {},
   "outputs": [
    {
     "name": "stderr",
     "output_type": "stream",
     "text": [
      "[Parallel(n_jobs=1)]: Using backend SequentialBackend with 1 concurrent workers.\n"
     ]
    },
    {
     "name": "stdout",
     "output_type": "stream",
     "text": [
      "[01:32:40] WARNING: C:/Users/Administrator/workspace/xgboost-win64_release_1.3.0/src/learner.cc:541: \n",
      "Parameters: { num_classes } might not be used.\n",
      "\n",
      "  This may not be accurate due to some parameters are only used in language bindings but\n",
      "  passed down to XGBoost core.  Or some parameters are not used but slip through this\n",
      "  verification. Please open an issue if you find above cases.\n",
      "\n",
      "\n",
      "[CV] END .................................................... total time= 1.1min\n"
     ]
    },
    {
     "name": "stderr",
     "output_type": "stream",
     "text": [
      "[Parallel(n_jobs=1)]: Done   1 out of   1 | elapsed:  1.1min remaining:    0.0s\n"
     ]
    },
    {
     "name": "stdout",
     "output_type": "stream",
     "text": [
      "[01:33:48] WARNING: C:/Users/Administrator/workspace/xgboost-win64_release_1.3.0/src/learner.cc:541: \n",
      "Parameters: { num_classes } might not be used.\n",
      "\n",
      "  This may not be accurate due to some parameters are only used in language bindings but\n",
      "  passed down to XGBoost core.  Or some parameters are not used but slip through this\n",
      "  verification. Please open an issue if you find above cases.\n",
      "\n",
      "\n",
      "[CV] END .................................................... total time= 1.1min\n",
      "[01:34:56] WARNING: C:/Users/Administrator/workspace/xgboost-win64_release_1.3.0/src/learner.cc:541: \n",
      "Parameters: { num_classes } might not be used.\n",
      "\n",
      "  This may not be accurate due to some parameters are only used in language bindings but\n",
      "  passed down to XGBoost core.  Or some parameters are not used but slip through this\n",
      "  verification. Please open an issue if you find above cases.\n",
      "\n",
      "\n",
      "[CV] END .................................................... total time= 1.1min\n",
      "[01:36:04] WARNING: C:/Users/Administrator/workspace/xgboost-win64_release_1.3.0/src/learner.cc:541: \n",
      "Parameters: { num_classes } might not be used.\n",
      "\n",
      "  This may not be accurate due to some parameters are only used in language bindings but\n",
      "  passed down to XGBoost core.  Or some parameters are not used but slip through this\n",
      "  verification. Please open an issue if you find above cases.\n",
      "\n",
      "\n",
      "[CV] END .................................................... total time= 1.1min\n",
      "[01:37:12] WARNING: C:/Users/Administrator/workspace/xgboost-win64_release_1.3.0/src/learner.cc:541: \n",
      "Parameters: { num_classes } might not be used.\n",
      "\n",
      "  This may not be accurate due to some parameters are only used in language bindings but\n",
      "  passed down to XGBoost core.  Or some parameters are not used but slip through this\n",
      "  verification. Please open an issue if you find above cases.\n",
      "\n",
      "\n",
      "[CV] END .................................................... total time= 1.1min\n",
      "0.997530436063872\n",
      "Wall time: 5min 40s\n"
     ]
    },
    {
     "name": "stderr",
     "output_type": "stream",
     "text": [
      "[Parallel(n_jobs=1)]: Done   5 out of   5 | elapsed:  5.7min finished\n"
     ]
    }
   ],
   "source": [
    "%%time\n",
    "clf = XGBClassifier(\n",
    "    objective='multi:softmax',\n",
    "    num_classes=6,\n",
    "    n_estimators=500,\n",
    "    colsample_bytree=1.0,\n",
    "    gamma=1,\n",
    "    max_depth=3,\n",
    "    min_child_weight=1,\n",
    "    subsample=1.0,\n",
    "    eval_metric='mlogloss', \n",
    "    use_label_encoder=False,\n",
    "    tree_method='gpu_hist',\n",
    "    predictor='gpu_predictor',\n",
    "    random_state=125)\n",
    "cvs = cross_val_score(clf, X_crp, y_crp_nrj, scoring='roc_auc_ovr', cv=cv, verbose=2)\n",
    "print(np.mean(cvs))"
   ]
  },
  {
   "cell_type": "markdown",
   "id": "answering-burden",
   "metadata": {},
   "source": [
    "### SVM"
   ]
  },
  {
   "cell_type": "code",
   "execution_count": 6,
   "id": "permanent-lobby",
   "metadata": {},
   "outputs": [
    {
     "name": "stderr",
     "output_type": "stream",
     "text": [
      "[Parallel(n_jobs=1)]: Using backend SequentialBackend with 1 concurrent workers.\n"
     ]
    },
    {
     "name": "stdout",
     "output_type": "stream",
     "text": [
      "[CV] END .................................................... total time=24.8min\n"
     ]
    },
    {
     "name": "stderr",
     "output_type": "stream",
     "text": [
      "[Parallel(n_jobs=1)]: Done   1 out of   1 | elapsed: 24.8min remaining:    0.0s\n"
     ]
    },
    {
     "name": "stdout",
     "output_type": "stream",
     "text": [
      "[CV] END .................................................... total time=26.2min\n",
      "[CV] END .................................................... total time=24.8min\n",
      "[CV] END .................................................... total time=24.7min\n",
      "[CV] END .................................................... total time=24.8min\n",
      "0.9891836746011592\n",
      "Wall time: 2h 5min 15s\n"
     ]
    },
    {
     "name": "stderr",
     "output_type": "stream",
     "text": [
      "[Parallel(n_jobs=1)]: Done   5 out of   5 | elapsed: 125.3min finished\n"
     ]
    }
   ],
   "source": [
    "%%time\n",
    "clf = OneVsRestClassifier(svm.SVC(\n",
    "        C=0.1,\n",
    "        gamma='scale',\n",
    "        kernel='rbf',\n",
    "        probability=True,\n",
    "        random_state=125),\n",
    "    n_jobs=-1)\n",
    "cvs = cross_val_score(clf, X_crp, y_crp_nrj, scoring='roc_auc_ovr', cv=cv, verbose=2)\n",
    "print(np.mean(cvs))"
   ]
  },
  {
   "cell_type": "markdown",
   "id": "prospective-secret",
   "metadata": {},
   "source": [
    "# Results"
   ]
  },
  {
   "cell_type": "markdown",
   "id": "medium-sauce",
   "metadata": {},
   "source": [
    "### 2-class"
   ]
  },
  {
   "cell_type": "markdown",
   "id": "accomplished-orientation",
   "metadata": {},
   "source": [
    "- sgd - 0.7011\n",
    "- rf - 0.9534\n",
    "- cat - 0.9956\n",
    "- xgb - 0.9939\n",
    "- svm - 0.9170"
   ]
  },
  {
   "cell_type": "markdown",
   "id": "loving-findings",
   "metadata": {},
   "source": [
    "### 6-class"
   ]
  },
  {
   "cell_type": "markdown",
   "id": "activated-clock",
   "metadata": {},
   "source": [
    "- sgd - 0.8879\n",
    "-  rf - 0.9796 \n",
    "- cat - 0.9985\n",
    "- xgb - 0.9975\n",
    "- svm - 0.9891"
   ]
  }
 ],
 "metadata": {
  "kernelspec": {
   "display_name": "Python 3",
   "language": "python",
   "name": "python3"
  },
  "language_info": {
   "codemirror_mode": {
    "name": "ipython",
    "version": 3
   },
   "file_extension": ".py",
   "mimetype": "text/x-python",
   "name": "python",
   "nbconvert_exporter": "python",
   "pygments_lexer": "ipython3",
   "version": "3.7.9"
  }
 },
 "nbformat": 4,
 "nbformat_minor": 5
}
