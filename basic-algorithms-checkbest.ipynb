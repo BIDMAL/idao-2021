{
 "cells": [
  {
   "cell_type": "code",
   "execution_count": 1,
   "id": "modern-salmon",
   "metadata": {},
   "outputs": [],
   "source": [
    "import numpy as np\n",
    "import os\n",
    "import pandas as pd\n",
    "from skimage.io import imread, imsave\n",
    "from sklearn.model_selection import StratifiedKFold, GridSearchCV, cross_val_score\n",
    "from sklearn.metrics import roc_auc_score, mean_absolute_error\n",
    "from sklearn.linear_model import SGDClassifier\n",
    "from sklearn import svm\n",
    "from sklearn.ensemble import RandomForestClassifier\n",
    "from catboost import CatBoostClassifier\n",
    "from xgboost import XGBClassifier"
   ]
  },
  {
   "cell_type": "code",
   "execution_count": 2,
   "id": "terminal-breakfast",
   "metadata": {},
   "outputs": [],
   "source": [
    "er_trdat_path = './data/train/ER/'\n",
    "nr_trdat_path = './data/train/NR/'\n",
    "cropdat_path = './data/train/all_cropped/'"
   ]
  },
  {
   "cell_type": "markdown",
   "id": "unauthorized-maine",
   "metadata": {},
   "source": [
    "### form crp_ dataset"
   ]
  },
  {
   "cell_type": "code",
   "execution_count": 3,
   "id": "difficult-record",
   "metadata": {},
   "outputs": [
    {
     "name": "stdout",
     "output_type": "stream",
     "text": [
      "13404\n",
      "13404\n",
      "13404\n",
      "Wall time: 4.03 s\n"
     ]
    }
   ],
   "source": [
    "%%time\n",
    "conv_type = {'ER': 1, 'NR': 0}\n",
    "conv_nrj = {'1': 0, '3': 1, '6': 2, '10': 3, '20': 4, '30': 5}\n",
    "X_crp = []\n",
    "y_crp_typ = []\n",
    "y_crp_nrj = []\n",
    "for filename in os.listdir(cropdat_path):\n",
    "    img = imread(cropdat_path + filename)    \n",
    "    X_crp.append(img.flatten())\n",
    "    fn_parts = filename.split('-')\n",
    "    y_crp_typ.append(conv_type[fn_parts[1]]) \n",
    "    y_crp_nrj.append(conv_nrj[fn_parts[2].split('.')[0]])\n",
    "print(len(X_crp))\n",
    "print(len(y_crp_typ))\n",
    "print(len(y_crp_nrj))"
   ]
  },
  {
   "cell_type": "code",
   "execution_count": 4,
   "id": "congressional-validation",
   "metadata": {},
   "outputs": [
    {
     "name": "stdout",
     "output_type": "stream",
     "text": [
      "{0: 6646, 1: 6758}\n",
      "{0: 2180, 1: 2245, 2: 2256, 3: 2274, 4: 2210, 5: 2239}\n"
     ]
    }
   ],
   "source": [
    "unique, counts = np.unique(y_crp_typ, return_counts=True)\n",
    "print(dict(zip(unique, counts)))\n",
    "unique, counts = np.unique(y_crp_nrj, return_counts=True)\n",
    "print(dict(zip(unique, counts)))"
   ]
  },
  {
   "cell_type": "markdown",
   "id": "planned-shanghai",
   "metadata": {},
   "source": [
    "# 1. Binary Classification"
   ]
  },
  {
   "cell_type": "code",
   "execution_count": 5,
   "id": "willing-truck",
   "metadata": {},
   "outputs": [],
   "source": [
    "X_crp = np.array(X_crp)\n",
    "y_crp_typ = np.array(y_crp_typ)\n",
    "y_crp_nrj = np.array(y_crp_nrj)\n",
    "cv = StratifiedKFold(n_splits=5,shuffle=True,random_state=125)"
   ]
  },
  {
   "cell_type": "markdown",
   "id": "unlimited-prevention",
   "metadata": {},
   "source": [
    "### SGD"
   ]
  },
  {
   "cell_type": "code",
   "execution_count": 6,
   "id": "fourth-search",
   "metadata": {},
   "outputs": [
    {
     "name": "stderr",
     "output_type": "stream",
     "text": [
      "[Parallel(n_jobs=-1)]: Using backend LokyBackend with 12 concurrent workers.\n",
      "[Parallel(n_jobs=-1)]: Done   3 out of   5 | elapsed:   46.7s remaining:   31.1s\n",
      "[Parallel(n_jobs=-1)]: Done   5 out of   5 | elapsed:  1.1min finished\n"
     ]
    },
    {
     "name": "stdout",
     "output_type": "stream",
     "text": [
      "0.7011147379534307\n",
      "Wall time: 1min 5s\n"
     ]
    }
   ],
   "source": [
    "%%time\n",
    "clf = SGDClassifier(\n",
    "    alpha=0.1, \n",
    "    l1_ratio=0.05, \n",
    "    loss='hinge', \n",
    "    penalty='elasticnet', \n",
    "    random_state=125)\n",
    "cvs = cross_val_score(clf, X_crp, y_crp_typ, scoring='roc_auc', cv=cv, n_jobs=-1, verbose=2)\n",
    "print(np.mean(cvs))"
   ]
  },
  {
   "cell_type": "markdown",
   "id": "published-freight",
   "metadata": {},
   "source": [
    "### Random Forest"
   ]
  },
  {
   "cell_type": "code",
   "execution_count": 7,
   "id": "ambient-rebel",
   "metadata": {},
   "outputs": [
    {
     "name": "stderr",
     "output_type": "stream",
     "text": [
      "[Parallel(n_jobs=-1)]: Using backend LokyBackend with 12 concurrent workers.\n",
      "[Parallel(n_jobs=-1)]: Done   3 out of   5 | elapsed:  1.5min remaining:   59.0s\n",
      "[Parallel(n_jobs=-1)]: Done   5 out of   5 | elapsed:  1.5min finished\n"
     ]
    },
    {
     "name": "stdout",
     "output_type": "stream",
     "text": [
      "0.9534102843532285\n",
      "Wall time: 1min 29s\n"
     ]
    }
   ],
   "source": [
    "%%time\n",
    "clf = RandomForestClassifier(\n",
    "    criterion='gini', \n",
    "    max_depth=8, \n",
    "    max_features='auto', \n",
    "    n_estimators=800, \n",
    "    random_state=125)\n",
    "cvs = cross_val_score(clf, X_crp, y_crp_typ, scoring='roc_auc', cv=cv, n_jobs=-1, verbose=2)\n",
    "print(np.mean(cvs))"
   ]
  },
  {
   "cell_type": "markdown",
   "id": "alternate-savage",
   "metadata": {},
   "source": [
    "### CatBoost"
   ]
  },
  {
   "cell_type": "code",
   "execution_count": 8,
   "id": "general-force",
   "metadata": {},
   "outputs": [
    {
     "name": "stderr",
     "output_type": "stream",
     "text": [
      "[Parallel(n_jobs=1)]: Using backend SequentialBackend with 1 concurrent workers.\n"
     ]
    },
    {
     "name": "stdout",
     "output_type": "stream",
     "text": [
      "[CV] END .................................................... total time= 9.4min\n"
     ]
    },
    {
     "name": "stderr",
     "output_type": "stream",
     "text": [
      "[Parallel(n_jobs=1)]: Done   1 out of   1 | elapsed:  9.4min remaining:    0.0s\n"
     ]
    },
    {
     "name": "stdout",
     "output_type": "stream",
     "text": [
      "[CV] END .................................................... total time= 9.5min\n",
      "[CV] END .................................................... total time= 9.4min\n",
      "[CV] END .................................................... total time= 9.7min\n",
      "[CV] END .................................................... total time= 9.5min\n",
      "0.9956154053876766\n",
      "Wall time: 47min 33s\n"
     ]
    },
    {
     "name": "stderr",
     "output_type": "stream",
     "text": [
      "[Parallel(n_jobs=1)]: Done   5 out of   5 | elapsed: 47.6min finished\n"
     ]
    }
   ],
   "source": [
    "%%time\n",
    "clf = CatBoostClassifier(\n",
    "    depth=6,\n",
    "    iterations=20000,\n",
    "    early_stopping_rounds=500,\n",
    "    l2_leaf_reg=1e-20,\n",
    "    leaf_estimation_iterations=10,\n",
    "    logging_level='Silent',\n",
    "    loss_function='Logloss',\n",
    "    eval_metric='AUC',\n",
    "    boosting_type='Plain',\n",
    "    task_type='GPU',\n",
    "    random_state=125)\n",
    "cvs = cross_val_score(clf, X_crp, y_crp_typ, scoring='roc_auc', cv=cv, verbose=2)\n",
    "print(np.mean(cvs))"
   ]
  },
  {
   "cell_type": "markdown",
   "id": "arabic-railway",
   "metadata": {},
   "source": [
    "### XGBoost"
   ]
  },
  {
   "cell_type": "code",
   "execution_count": 9,
   "id": "olive-passage",
   "metadata": {},
   "outputs": [
    {
     "name": "stderr",
     "output_type": "stream",
     "text": [
      "[Parallel(n_jobs=1)]: Using backend SequentialBackend with 1 concurrent workers.\n"
     ]
    },
    {
     "name": "stdout",
     "output_type": "stream",
     "text": [
      "[CV] END .................................................... total time=  17.9s\n"
     ]
    },
    {
     "name": "stderr",
     "output_type": "stream",
     "text": [
      "[Parallel(n_jobs=1)]: Done   1 out of   1 | elapsed:   17.9s remaining:    0.0s\n"
     ]
    },
    {
     "name": "stdout",
     "output_type": "stream",
     "text": [
      "[CV] END .................................................... total time=  17.7s\n",
      "[CV] END .................................................... total time=  17.1s\n",
      "[CV] END .................................................... total time=  16.7s\n",
      "[CV] END .................................................... total time=  17.5s\n",
      "0.9939376484170884\n",
      "Wall time: 1min 27s\n"
     ]
    },
    {
     "name": "stderr",
     "output_type": "stream",
     "text": [
      "[Parallel(n_jobs=1)]: Done   5 out of   5 | elapsed:  1.5min finished\n"
     ]
    }
   ],
   "source": [
    "%%time\n",
    "clf = XGBClassifier(\n",
    "    n_estimators=500,\n",
    "    colsample_bytree=1.0,\n",
    "    gamma=1,\n",
    "    max_depth=3,\n",
    "    min_child_weight=1,\n",
    "    subsample=1.0,\n",
    "    eval_metric='auc', \n",
    "    use_label_encoder=False,\n",
    "    tree_method='gpu_hist',\n",
    "    predictor='gpu_predictor',\n",
    "    random_state=125)\n",
    "cvs = cross_val_score(clf, X_crp, y_crp_typ, scoring='roc_auc', cv=cv, verbose=2)\n",
    "print(np.mean(cvs))"
   ]
  },
  {
   "cell_type": "markdown",
   "id": "olive-invitation",
   "metadata": {},
   "source": [
    "### SVM"
   ]
  },
  {
   "cell_type": "code",
   "execution_count": 10,
   "id": "varying-morning",
   "metadata": {},
   "outputs": [
    {
     "name": "stderr",
     "output_type": "stream",
     "text": [
      "[Parallel(n_jobs=-1)]: Using backend LokyBackend with 12 concurrent workers.\n",
      "[Parallel(n_jobs=-1)]: Done   3 out of   5 | elapsed: 10.8min remaining:  7.2min\n",
      "[Parallel(n_jobs=-1)]: Done   5 out of   5 | elapsed: 10.8min finished\n"
     ]
    },
    {
     "name": "stdout",
     "output_type": "stream",
     "text": [
      "0.9170779231945364\n",
      "Wall time: 10min 48s\n"
     ]
    }
   ],
   "source": [
    "%%time\n",
    "clf = svm.SVC(\n",
    "    C=0.1,\n",
    "    gamma='scale',\n",
    "    kernel='rbf',\n",
    "    random_state=125)\n",
    "cvs = cross_val_score(clf, X_crp, y_crp_typ, scoring='roc_auc', cv=cv, n_jobs=-1, verbose=2)\n",
    "print(np.mean(cvs))"
   ]
  },
  {
   "cell_type": "markdown",
   "id": "likely-yahoo",
   "metadata": {},
   "source": [
    "# 2. Six-classes Classification"
   ]
  },
  {
   "cell_type": "markdown",
   "id": "comprehensive-admission",
   "metadata": {},
   "source": [
    "### SGD"
   ]
  },
  {
   "cell_type": "code",
   "execution_count": 11,
   "id": "specialized-taste",
   "metadata": {},
   "outputs": [
    {
     "data": {
      "text/plain": [
       "array([5, 1, 1, ..., 4, 4, 0])"
      ]
     },
     "execution_count": 11,
     "metadata": {},
     "output_type": "execute_result"
    }
   ],
   "source": [
    "y_crp_nrj"
   ]
  },
  {
   "cell_type": "code",
   "execution_count": 12,
   "id": "casual-mills",
   "metadata": {},
   "outputs": [
    {
     "name": "stderr",
     "output_type": "stream",
     "text": [
      "[Parallel(n_jobs=-1)]: Using backend LokyBackend with 12 concurrent workers.\n",
      "[Parallel(n_jobs=-1)]: Done   3 out of   5 | elapsed:  2.9min remaining:  1.9min\n",
      "[Parallel(n_jobs=-1)]: Done   5 out of   5 | elapsed:  3.4min finished\n"
     ]
    },
    {
     "name": "stdout",
     "output_type": "stream",
     "text": [
      "nan\n",
      "Wall time: 3min 26s\n"
     ]
    }
   ],
   "source": [
    "%%time\n",
    "clf = SGDClassifier(\n",
    "    alpha=0.1, \n",
    "    l1_ratio=0.05, \n",
    "    loss='hinge', \n",
    "    penalty='elasticnet', \n",
    "    random_state=125)\n",
    "cvs = cross_val_score(clf, X_crp, y_crp_nrj, scoring='roc_auc', cv=cv, n_jobs=-1, verbose=2)\n",
    "print(np.mean(cvs))"
   ]
  },
  {
   "cell_type": "markdown",
   "id": "broadband-helmet",
   "metadata": {},
   "source": [
    "### RandomForestClassifier"
   ]
  },
  {
   "cell_type": "code",
   "execution_count": 13,
   "id": "gorgeous-gender",
   "metadata": {},
   "outputs": [
    {
     "name": "stderr",
     "output_type": "stream",
     "text": [
      "[Parallel(n_jobs=-1)]: Using backend LokyBackend with 12 concurrent workers.\n",
      "[Parallel(n_jobs=-1)]: Done   3 out of   5 | elapsed:  1.6min remaining:  1.1min\n",
      "[Parallel(n_jobs=-1)]: Done   5 out of   5 | elapsed:  1.6min finished\n"
     ]
    },
    {
     "name": "stdout",
     "output_type": "stream",
     "text": [
      "nan\n",
      "Wall time: 1min 35s\n"
     ]
    }
   ],
   "source": [
    "%%time\n",
    "clf = RandomForestClassifier(\n",
    "    criterion='gini', \n",
    "    max_depth=8, \n",
    "    max_features='auto', \n",
    "    n_estimators=800, \n",
    "    random_state=125)\n",
    "cvs = cross_val_score(clf, X_crp, y_crp_nrj, scoring='roc_auc', cv=cv, n_jobs=-1, verbose=2)\n",
    "print(np.mean(cvs))"
   ]
  },
  {
   "cell_type": "markdown",
   "id": "internal-tulsa",
   "metadata": {},
   "source": [
    "### CatBoostClassifier"
   ]
  },
  {
   "cell_type": "code",
   "execution_count": null,
   "id": "normal-nerve",
   "metadata": {},
   "outputs": [
    {
     "name": "stderr",
     "output_type": "stream",
     "text": [
      "[Parallel(n_jobs=1)]: Using backend SequentialBackend with 1 concurrent workers.\n",
      "Warning: less than 75% gpu memory available for training. Free: 4598.5625 Total: 6144\n",
      "AUC is not implemented on GPU. Will use CPU for metric computation, this could significantly affect learning time\n"
     ]
    }
   ],
   "source": [
    "%%time\n",
    "clf = CatBoostClassifier(\n",
    "    depth=6,\n",
    "    iterations=20000,\n",
    "    early_stopping_rounds=500,\n",
    "    l2_leaf_reg=1e-20,\n",
    "    leaf_estimation_iterations=10,\n",
    "    logging_level='Silent',\n",
    "    loss_function='MultiClass',\n",
    "    eval_metric='AUC',\n",
    "    boosting_type='Plain',\n",
    "    task_type='GPU',\n",
    "    random_state=125)\n",
    "cvs = cross_val_score(clf, X_crp, y_crp_nrj, scoring='roc_auc', cv=cv, verbose=2)\n",
    "print(np.mean(cvs))"
   ]
  },
  {
   "cell_type": "markdown",
   "id": "moving-springer",
   "metadata": {},
   "source": [
    "### XGBClassifier"
   ]
  },
  {
   "cell_type": "code",
   "execution_count": null,
   "id": "explicit-honolulu",
   "metadata": {},
   "outputs": [],
   "source": [
    "%%time\n",
    "clf = XGBClassifier(\n",
    "    objective='multi:softmax',\n",
    "    num_classes=6,\n",
    "    n_estimators=500,\n",
    "    colsample_bytree=1.0,\n",
    "    gamma=1,\n",
    "    max_depth=3,\n",
    "    min_child_weight=1,\n",
    "    subsample=1.0,\n",
    "    eval_metric='auc', \n",
    "    use_label_encoder=False,\n",
    "    tree_method='gpu_hist',\n",
    "    predictor='gpu_predictor',\n",
    "    random_state=125)\n",
    "cvs = cross_val_score(clf, X_crp, y_crp_nrj, scoring='roc_auc', cv=cv, verbose=2)\n",
    "print(np.mean(cvs))"
   ]
  },
  {
   "cell_type": "markdown",
   "id": "answering-burden",
   "metadata": {},
   "source": [
    "### SVM"
   ]
  },
  {
   "cell_type": "code",
   "execution_count": null,
   "id": "permanent-lobby",
   "metadata": {},
   "outputs": [],
   "source": [
    "%%time\n",
    "clf = svm.SVC(\n",
    "    C=0.1,\n",
    "    gamma='scale',\n",
    "    kernel='rbf',\n",
    "    random_state=125)\n",
    "cvs = cross_val_score(clf, X_crp, y_crp_nrj, scoring='roc_auc', cv=cv, n_jobs=-1, verbose=2)\n",
    "print(np.mean(cvs))"
   ]
  },
  {
   "cell_type": "markdown",
   "id": "prospective-secret",
   "metadata": {},
   "source": [
    "# Results"
   ]
  },
  {
   "cell_type": "markdown",
   "id": "medium-sauce",
   "metadata": {},
   "source": [
    "### 2-class"
   ]
  },
  {
   "cell_type": "markdown",
   "id": "accomplished-orientation",
   "metadata": {},
   "source": [
    "- sgd - 0.7011\n",
    "- rf - 0.9534\n",
    "- cat - 0.9956\n",
    "- xgb - 0.9939\n",
    "- svm - 0.9170"
   ]
  },
  {
   "cell_type": "markdown",
   "id": "loving-findings",
   "metadata": {},
   "source": [
    "### 6-class"
   ]
  },
  {
   "cell_type": "markdown",
   "id": "activated-clock",
   "metadata": {},
   "source": [
    "- sgd - \n",
    "-  rf - \n",
    "- cat - \n",
    "- xgb - \n",
    "- svm - "
   ]
  }
 ],
 "metadata": {
  "kernelspec": {
   "display_name": "Python 3",
   "language": "python",
   "name": "python3"
  },
  "language_info": {
   "codemirror_mode": {
    "name": "ipython",
    "version": 3
   },
   "file_extension": ".py",
   "mimetype": "text/x-python",
   "name": "python",
   "nbconvert_exporter": "python",
   "pygments_lexer": "ipython3",
   "version": "3.7.9"
  }
 },
 "nbformat": 4,
 "nbformat_minor": 5
}
