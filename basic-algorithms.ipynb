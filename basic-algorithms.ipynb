{
 "cells": [
  {
   "cell_type": "code",
   "execution_count": null,
   "id": "modern-salmon",
   "metadata": {},
   "outputs": [],
   "source": [
    "import numpy as np\n",
    "import os\n",
    "import pandas as pd\n",
    "from skimage.io import imread, imsave\n",
    "from sklearn.model_selection import StratifiedKFold, GridSearchCV\n",
    "from sklearn.metrics import roc_auc_score, mean_absolute_error\n",
    "from sklearn.linear_model import SGDClassifier\n",
    "from sklearn import svm\n",
    "from sklearn.ensemble import RandomForestClassifier\n",
    "\n",
    "from matplotlib import pyplot as plt\n",
    "%matplotlib inline"
   ]
  },
  {
   "cell_type": "code",
   "execution_count": null,
   "id": "terminal-breakfast",
   "metadata": {},
   "outputs": [],
   "source": [
    "er_trdat_path = './data/train/ER/'\n",
    "nr_trdat_path = './data/train/NR/'\n",
    "cropdat_path = './data/train/all_cropped/'\n",
    "balanced_path = './data/train/all_balanced/'"
   ]
  },
  {
   "cell_type": "markdown",
   "id": "unauthorized-maine",
   "metadata": {},
   "source": [
    "### form crp_ and bal_ datasets"
   ]
  },
  {
   "cell_type": "code",
   "execution_count": null,
   "id": "comfortable-poverty",
   "metadata": {},
   "outputs": [],
   "source": [
    "conv_type = {'ER': 1, 'NR': 0}"
   ]
  },
  {
   "cell_type": "code",
   "execution_count": null,
   "id": "difficult-record",
   "metadata": {},
   "outputs": [],
   "source": [
    "%%time\n",
    "X_crp = []\n",
    "y_crp_typ = []\n",
    "y_crp_enr = []\n",
    "for filename in os.listdir(cropdat_path):\n",
    "    img = imread(cropdat_path + filename)    \n",
    "    X_crp.append(img.flatten())\n",
    "    fn_parts = filename.split('-')\n",
    "    y_crp_typ.append(conv_type[fn_parts[1]]) \n",
    "    y_crp_enr.append(int(fn_parts[2].split('.')[0]  ))\n",
    "print(len(X_crp))\n",
    "print(len(y_crp_typ))\n",
    "print(len(y_crp_enr))"
   ]
  },
  {
   "cell_type": "code",
   "execution_count": null,
   "id": "congressional-validation",
   "metadata": {},
   "outputs": [],
   "source": [
    "unique, counts = np.unique(y_crp_typ, return_counts=True)\n",
    "print(dict(zip(unique, counts)))\n",
    "unique, counts = np.unique(y_crp_enr, return_counts=True)\n",
    "print(dict(zip(unique, counts)))"
   ]
  },
  {
   "cell_type": "code",
   "execution_count": null,
   "id": "progressive-timer",
   "metadata": {},
   "outputs": [],
   "source": [
    "%%time\n",
    "X_bal = []\n",
    "y_bal_typ = []\n",
    "y_bal_enr = []\n",
    "for filename in os.listdir(balanced_path):\n",
    "    img = imread(balanced_path + filename)    \n",
    "    X_bal.append(img.flatten())\n",
    "    fn_parts = filename.split('-')\n",
    "    y_bal_typ.append(conv_type[fn_parts[1]]) \n",
    "    y_bal_enr.append(int(fn_parts[2].split('.')[0]  ))\n",
    "print(len(X_bal))\n",
    "print(len(y_bal_typ))\n",
    "print(len(y_bal_enr))"
   ]
  },
  {
   "cell_type": "code",
   "execution_count": null,
   "id": "perceived-virgin",
   "metadata": {},
   "outputs": [],
   "source": [
    "unique, counts = np.unique(y_bal_typ, return_counts=True)\n",
    "print(dict(zip(unique, counts)))\n",
    "unique, counts = np.unique(y_bal_enr, return_counts=True)\n",
    "print(dict(zip(unique, counts)))"
   ]
  },
  {
   "cell_type": "markdown",
   "id": "planned-shanghai",
   "metadata": {},
   "source": [
    "# 1. Classification"
   ]
  },
  {
   "cell_type": "code",
   "execution_count": null,
   "id": "labeled-prayer",
   "metadata": {},
   "outputs": [],
   "source": [
    "cv = StratifiedKFold(n_splits=5,shuffle=True,random_state=125)"
   ]
  },
  {
   "cell_type": "markdown",
   "id": "twenty-velvet",
   "metadata": {},
   "source": [
    "### SVM"
   ]
  },
  {
   "cell_type": "code",
   "execution_count": null,
   "id": "arranged-crazy",
   "metadata": {},
   "outputs": [],
   "source": [
    "%%time\n",
    "param_grid = {\n",
    "    'kernel': ('linear', 'rbf', 'sigmoid', 'poly'),\n",
    "    'C': [1, 10, 100, 1000],\n",
    "    'gamma': [1e-3, 1e-4, 'scale']\n",
    "}\n",
    "clf = svm.SVC(random_state=125)\n",
    "gscv = GridSearchCV(clf, param_grid, scoring='roc_auc', cv=cv, n_jobs=-2, verbose=2)\n",
    "gscv.fit(X_crp, y_crp_typ)"
   ]
  },
  {
   "cell_type": "code",
   "execution_count": null,
   "id": "commercial-portrait",
   "metadata": {},
   "outputs": [],
   "source": []
  },
  {
   "cell_type": "code",
   "execution_count": null,
   "id": "modular-italian",
   "metadata": {},
   "outputs": [],
   "source": []
  },
  {
   "cell_type": "code",
   "execution_count": null,
   "id": "directed-generic",
   "metadata": {},
   "outputs": [],
   "source": []
  },
  {
   "cell_type": "markdown",
   "id": "explicit-andorra",
   "metadata": {},
   "source": [
    "### Random Forest"
   ]
  },
  {
   "cell_type": "code",
   "execution_count": null,
   "id": "expected-settlement",
   "metadata": {},
   "outputs": [],
   "source": [
    "%%time\n",
    "param_grid = { \n",
    "    'n_estimators': [200, 500],\n",
    "    'max_features': ['auto', 'sqrt', 'log2'],\n",
    "    'max_depth' : [4,5,6,7,8],\n",
    "    'criterion' :['gini', 'entropy']\n",
    "}\n",
    "clf = RandomForestClassifier(random_state=125)\n",
    "gscv = GridSearchCV(clf, param_grid, scoring='roc_auc', cv=cv, n_jobs=-1)\n",
    "gscv.fit(X_crp, y_crp_typ)"
   ]
  },
  {
   "cell_type": "code",
   "execution_count": null,
   "id": "quarterly-spectacular",
   "metadata": {},
   "outputs": [],
   "source": []
  },
  {
   "cell_type": "code",
   "execution_count": null,
   "id": "understanding-flashing",
   "metadata": {},
   "outputs": [],
   "source": []
  },
  {
   "cell_type": "markdown",
   "id": "unlimited-prevention",
   "metadata": {},
   "source": [
    "### SGD"
   ]
  },
  {
   "cell_type": "code",
   "execution_count": null,
   "id": "fourth-search",
   "metadata": {},
   "outputs": [],
   "source": [
    "%%time\n",
    "param_grid = { \n",
    "    'n_estimators': [200, 500],\n",
    "    'max_features': ['auto', 'sqrt', 'log2'],\n",
    "    'max_depth' : [4,5,6,7,8],\n",
    "    'criterion' :['gini', 'entropy']\n",
    "}\n",
    "clf = RandomForestClassifier(random_state=125)\n",
    "gscv = GridSearchCV(clf, param_grid, scoring='roc_auc', cv=cv, n_jobs=-1)\n",
    "gscv.fit(X_crp, y_crp_typ)"
   ]
  },
  {
   "cell_type": "code",
   "execution_count": null,
   "id": "necessary-recruitment",
   "metadata": {},
   "outputs": [],
   "source": []
  },
  {
   "cell_type": "code",
   "execution_count": null,
   "id": "altered-grain",
   "metadata": {},
   "outputs": [],
   "source": []
  },
  {
   "cell_type": "code",
   "execution_count": null,
   "id": "ambient-rebel",
   "metadata": {},
   "outputs": [],
   "source": []
  },
  {
   "cell_type": "markdown",
   "id": "alternate-savage",
   "metadata": {},
   "source": [
    "### CatBoost\n"
   ]
  },
  {
   "cell_type": "code",
   "execution_count": null,
   "id": "amended-classification",
   "metadata": {},
   "outputs": [],
   "source": [
    "%%time\n",
    "param_grid = { \n",
    "    'n_estimators': [200, 500],\n",
    "    'max_features': ['auto', 'sqrt', 'log2'],\n",
    "    'max_depth' : [4,5,6,7,8],\n",
    "    'criterion' :['gini', 'entropy']\n",
    "}\n",
    "clf = RandomForestClassifier(random_state=125)\n",
    "gscv = GridSearchCV(clf, param_grid, scoring='roc_auc', cv=cv, n_jobs=-1)\n",
    "gscv.fit(X_crp, y_crp_typ)"
   ]
  },
  {
   "cell_type": "code",
   "execution_count": null,
   "id": "valid-juice",
   "metadata": {},
   "outputs": [],
   "source": []
  },
  {
   "cell_type": "code",
   "execution_count": null,
   "id": "coordinated-reference",
   "metadata": {},
   "outputs": [],
   "source": []
  },
  {
   "cell_type": "code",
   "execution_count": null,
   "id": "dominant-porcelain",
   "metadata": {},
   "outputs": [],
   "source": []
  },
  {
   "cell_type": "markdown",
   "id": "arabic-railway",
   "metadata": {},
   "source": [
    "### XGBoost"
   ]
  },
  {
   "cell_type": "code",
   "execution_count": null,
   "id": "overall-ribbon",
   "metadata": {},
   "outputs": [],
   "source": []
  },
  {
   "cell_type": "code",
   "execution_count": null,
   "id": "popular-drinking",
   "metadata": {},
   "outputs": [],
   "source": []
  },
  {
   "cell_type": "code",
   "execution_count": null,
   "id": "available-occurrence",
   "metadata": {},
   "outputs": [],
   "source": []
  },
  {
   "cell_type": "code",
   "execution_count": null,
   "id": "existing-likelihood",
   "metadata": {},
   "outputs": [],
   "source": []
  }
 ],
 "metadata": {
  "kernelspec": {
   "display_name": "Python 3",
   "language": "python",
   "name": "python3"
  },
  "language_info": {
   "codemirror_mode": {
    "name": "ipython",
    "version": 3
   },
   "file_extension": ".py",
   "mimetype": "text/x-python",
   "name": "python",
   "nbconvert_exporter": "python",
   "pygments_lexer": "ipython3",
   "version": "3.7.9"
  }
 },
 "nbformat": 4,
 "nbformat_minor": 5
}
