{
 "cells": [
  {
   "cell_type": "code",
   "execution_count": 1,
   "id": "modern-salmon",
   "metadata": {},
   "outputs": [],
   "source": [
    "import numpy as np\n",
    "import os\n",
    "import pandas as pd\n",
    "from skimage.io import imread, imsave\n",
    "from skimage.transform import resize\n",
    "from sklearn.model_selection import train_test_split\n",
    "from sklearn.metrics import classification_report\n",
    "from sklearn import svm\n",
    "import torchvision.transforms as T\n",
    "import torch\n",
    "torch.manual_seed(42)\n",
    "\n",
    "import warnings\n",
    "warnings.filterwarnings('ignore')\n",
    "\n",
    "from matplotlib import pyplot as plt\n",
    "%matplotlib inline"
   ]
  },
  {
   "cell_type": "code",
   "execution_count": 2,
   "id": "terminal-breakfast",
   "metadata": {},
   "outputs": [],
   "source": [
    "er_trdat_path = './data/train/ER/'\n",
    "nr_trdat_path = './data/train/NR/'\n",
    "cropdat_path = './data/train/all_cropped/'\n",
    "balanced_path = './data/train/all_balanced/'"
   ]
  },
  {
   "cell_type": "code",
   "execution_count": 3,
   "id": "hawaiian-feedback",
   "metadata": {},
   "outputs": [
    {
     "name": "stdout",
     "output_type": "stream",
     "text": [
      "Wall time: 59.6 s\n"
     ]
    }
   ],
   "source": [
    "%%time\n",
    "counts = dict()\n",
    "i = 0\n",
    "for filename in os.listdir(er_trdat_path):\n",
    "    fn_parts = filename.split('_')\n",
    "    ind =  fn_parts.index('ER')\n",
    "    regr = fn_parts[ind+1]\n",
    "    if regr not in {'1', '3', '6', '10', '20', '30'}:\n",
    "        print(f'error fn_parts[7]')\n",
    "        print(fn_parts)\n",
    "        print(filename)\n",
    "        break    \n",
    "    img = imread(er_trdat_path + filename)    \n",
    "    img = img[192:384, 192:384]\n",
    "    img = resize(img, (64, 64))\n",
    "    img = img*255\n",
    "    img = img.astype(np.uint8)\n",
    "    imsave(cropdat_path + f'{i}-ER-{regr}.png', img)\n",
    "    counts[f'ER-{regr}'] = counts.get(f'ER-{regr}', 0) + 1\n",
    "    i += 1\n",
    "for filename in os.listdir(nr_trdat_path):\n",
    "    fn_parts = filename.split('_')\n",
    "    ind =  fn_parts.index('NR')\n",
    "    regr = fn_parts[ind+1]\n",
    "    if regr not in {'1', '3', '6', '10', '20', '30'}:\n",
    "        print(f'error fn_parts[7]')\n",
    "        print(fn_parts)\n",
    "        print(filename)\n",
    "        break    \n",
    "    img = imread(nr_trdat_path + filename)\n",
    "    img = img[192:384, 192:384]\n",
    "    img = resize(img, (64, 64))\n",
    "    img = img*255\n",
    "    img = img.astype(np.uint8)\n",
    "    imsave(cropdat_path + f'{i}-NR-{regr}.png', img)\n",
    "    counts[f'NR-{regr}'] = counts.get(f'NR-{regr}', 0) + 1\n",
    "    i += 1"
   ]
  },
  {
   "cell_type": "code",
   "execution_count": 4,
   "id": "adverse-america",
   "metadata": {},
   "outputs": [
    {
     "data": {
      "text/plain": [
       "{'ER-30': 2237,\n",
       " 'ER-3': 2243,\n",
       " 'ER-10': 2272,\n",
       " 'ER-20': 2,\n",
       " 'ER-1': 3,\n",
       " 'ER-6': 1,\n",
       " 'NR-6': 2255,\n",
       " 'NR-20': 2208,\n",
       " 'NR-1': 2177,\n",
       " 'NR-10': 2,\n",
       " 'NR-3': 2,\n",
       " 'NR-30': 2}"
      ]
     },
     "execution_count": 4,
     "metadata": {},
     "output_type": "execute_result"
    }
   ],
   "source": [
    "counts"
   ]
  },
  {
   "cell_type": "code",
   "execution_count": 12,
   "id": "difficult-record",
   "metadata": {},
   "outputs": [
    {
     "name": "stdout",
     "output_type": "stream",
     "text": [
      "13404\n",
      "13404\n",
      "Wall time: 4.18 s\n"
     ]
    }
   ],
   "source": [
    "%%time\n",
    "images = []\n",
    "labels = []\n",
    "bi_labels = []\n",
    "for filename in os.listdir(cropdat_path):\n",
    "    fn_parts = filename.split('-')\n",
    "    label = fn_parts[1]+fn_parts[2].split('.')[0]\n",
    "    img = imread(cropdat_path + filename)\n",
    "    images.append(img.flatten())\n",
    "    labels.append(label)\n",
    "    bi_labels.append(fn_parts[1])\n",
    "print(len(images))\n",
    "print(len(labels))"
   ]
  },
  {
   "cell_type": "code",
   "execution_count": 7,
   "id": "congressional-validation",
   "metadata": {},
   "outputs": [
    {
     "data": {
      "text/plain": [
       "{'ER1': 3,\n",
       " 'ER10': 2272,\n",
       " 'ER20': 2,\n",
       " 'ER3': 2243,\n",
       " 'ER30': 2237,\n",
       " 'ER6': 1,\n",
       " 'NR1': 2177,\n",
       " 'NR10': 2,\n",
       " 'NR20': 2208,\n",
       " 'NR3': 2,\n",
       " 'NR30': 2,\n",
       " 'NR6': 2255}"
      ]
     },
     "execution_count": 7,
     "metadata": {},
     "output_type": "execute_result"
    }
   ],
   "source": [
    "unique, counts = np.unique(labels, return_counts=True)\n",
    "dict(zip(unique, counts))"
   ]
  },
  {
   "cell_type": "code",
   "execution_count": 13,
   "id": "raised-certification",
   "metadata": {},
   "outputs": [
    {
     "data": {
      "text/plain": [
       "{'ER': 6758, 'NR': 6646}"
      ]
     },
     "execution_count": 13,
     "metadata": {},
     "output_type": "execute_result"
    }
   ],
   "source": [
    "unique, counts = np.unique(bi_labels, return_counts=True)\n",
    "dict(zip(unique, counts))"
   ]
  },
  {
   "cell_type": "markdown",
   "id": "attempted-venue",
   "metadata": {},
   "source": [
    "### 6-class classification"
   ]
  },
  {
   "cell_type": "code",
   "execution_count": 9,
   "id": "international-netscape",
   "metadata": {},
   "outputs": [
    {
     "name": "stdout",
     "output_type": "stream",
     "text": [
      "Wall time: 54.2 s\n"
     ]
    },
    {
     "data": {
      "text/plain": [
       "0.9988810145468109"
      ]
     },
     "execution_count": 9,
     "metadata": {},
     "output_type": "execute_result"
    }
   ],
   "source": [
    "%%time\n",
    "train_images, test_images,train_labels, test_labels = train_test_split(images, labels, train_size=0.8, random_state=42)\n",
    "clf = svm.SVC()\n",
    "clf.fit(train_images, train_labels)\n",
    "clf.score(test_images,test_labels)"
   ]
  },
  {
   "cell_type": "markdown",
   "id": "planned-shanghai",
   "metadata": {},
   "source": [
    "### binary classification"
   ]
  },
  {
   "cell_type": "code",
   "execution_count": 15,
   "id": "suited-facial",
   "metadata": {},
   "outputs": [
    {
     "name": "stdout",
     "output_type": "stream",
     "text": [
      "Wall time: 59.9 s\n"
     ]
    },
    {
     "data": {
      "text/plain": [
       "0.9947780678851175"
      ]
     },
     "execution_count": 15,
     "metadata": {},
     "output_type": "execute_result"
    }
   ],
   "source": [
    "%%time\n",
    "train_images, test_images,train_labels, test_labels = train_test_split(images, bi_labels, train_size=0.8, random_state=42)\n",
    "clf = svm.SVC()\n",
    "clf.fit(train_images, train_labels)\n",
    "clf.score(test_images,test_labels)"
   ]
  },
  {
   "cell_type": "code",
   "execution_count": null,
   "id": "defensive-gentleman",
   "metadata": {},
   "outputs": [],
   "source": []
  },
  {
   "cell_type": "code",
   "execution_count": null,
   "id": "arranged-crazy",
   "metadata": {},
   "outputs": [],
   "source": []
  },
  {
   "cell_type": "code",
   "execution_count": 10,
   "id": "coral-render",
   "metadata": {},
   "outputs": [],
   "source": [
    "y_pred = clf.predict(test_images)"
   ]
  },
  {
   "cell_type": "code",
   "execution_count": 11,
   "id": "authorized-accountability",
   "metadata": {},
   "outputs": [
    {
     "name": "stdout",
     "output_type": "stream",
     "text": [
      "              precision    recall  f1-score   support\n",
      "\n",
      "        ER10       1.00      1.00      1.00       448\n",
      "         ER3       1.00      1.00      1.00       421\n",
      "        ER30       1.00      1.00      1.00       459\n",
      "         NR1       1.00      1.00      1.00       437\n",
      "        NR20       1.00      1.00      1.00       451\n",
      "         NR3       0.00      0.00      0.00         1\n",
      "        NR30       0.00      0.00      0.00         1\n",
      "         NR6       1.00      1.00      1.00       463\n",
      "\n",
      "    accuracy                           1.00      2681\n",
      "   macro avg       0.75      0.75      0.75      2681\n",
      "weighted avg       1.00      1.00      1.00      2681\n",
      "\n"
     ]
    }
   ],
   "source": [
    "print(classification_report(test_labels, y_pred))"
   ]
  },
  {
   "cell_type": "markdown",
   "id": "explicit-andorra",
   "metadata": {},
   "source": [
    "### balance classes"
   ]
  },
  {
   "cell_type": "code",
   "execution_count": null,
   "id": "dressed-consequence",
   "metadata": {},
   "outputs": [],
   "source": []
  },
  {
   "cell_type": "code",
   "execution_count": null,
   "id": "perceived-ghost",
   "metadata": {},
   "outputs": [],
   "source": []
  },
  {
   "cell_type": "code",
   "execution_count": null,
   "id": "associate-actor",
   "metadata": {},
   "outputs": [],
   "source": [
    "for filename in os.listdir('./data/train/small/'):\n",
    "    img = imread('./data/train/small/' + filename) \n",
    "    fn_parts = filename.split('_')\n",
    "    ind =  fn_parts.index('ER')\n",
    "    regr = fn_parts[ind+1]       \n",
    "    img = img[192:384, 192:384]\n",
    "    img = resize(img, (64, 64))\n",
    "    img = img*255\n",
    "    img = img.astype(np.uint8)\n",
    "    imsave(balanced_path + f'{i}-ER-{regr}.png', img)\n",
    "    i += 1\n",
    "    if regr in {'1', '6', '20'}:\n",
    "        for"
   ]
  },
  {
   "cell_type": "code",
   "execution_count": null,
   "id": "sitting-identity",
   "metadata": {},
   "outputs": [],
   "source": [
    "%%time\n",
    "i = 0\n",
    "for filename in os.listdir(er_trdat_path):\n",
    "    fn_parts = filename.split('_')\n",
    "    ind =  fn_parts.index('ER')\n",
    "    regr = fn_parts[ind+1]\n",
    "    if regr not in {'1', '3', '6', '10', '20', '30'}:\n",
    "        print(f'error fn_parts[7]')\n",
    "        print(fn_parts)\n",
    "        print(filename)\n",
    "        break    \n",
    "    img = imread(er_trdat_path + filename)    \n",
    "    img = img[192:384, 192:384]\n",
    "    img = resize(img, (64, 64))\n",
    "    img = img*255\n",
    "    img = img.astype(np.uint8)\n",
    "    imsave(cropdat_path + f'{i}-ER-{regr}.png', img)\n",
    "    i += 1\n",
    "for filename in os.listdir(nr_trdat_path):\n",
    "    fn_parts = filename.split('_')\n",
    "    ind =  fn_parts.index('NR')\n",
    "    regr = fn_parts[ind+1]\n",
    "    if regr not in {'1', '3', '6', '10', '20', '30'}:\n",
    "        print(f'error fn_parts[7]')\n",
    "        print(fn_parts)\n",
    "        print(filename)\n",
    "        break    \n",
    "    img = imread(nr_trdat_path + filename)\n",
    "    img = img[192:384, 192:384]\n",
    "    img = resize(img, (64, 64))\n",
    "    img = img*255\n",
    "    img = img.astype(np.uint8)\n",
    "    imsave(cropdat_path + f'{i}-NR-{regr}.png', img)\n",
    "    i += 1"
   ]
  },
  {
   "cell_type": "code",
   "execution_count": null,
   "id": "expected-settlement",
   "metadata": {},
   "outputs": [],
   "source": []
  },
  {
   "cell_type": "code",
   "execution_count": null,
   "id": "quarterly-spectacular",
   "metadata": {},
   "outputs": [],
   "source": []
  },
  {
   "cell_type": "code",
   "execution_count": null,
   "id": "understanding-flashing",
   "metadata": {},
   "outputs": [],
   "source": []
  },
  {
   "cell_type": "code",
   "execution_count": null,
   "id": "accessible-butterfly",
   "metadata": {},
   "outputs": [],
   "source": []
  },
  {
   "cell_type": "code",
   "execution_count": null,
   "id": "fourth-search",
   "metadata": {},
   "outputs": [],
   "source": []
  },
  {
   "cell_type": "code",
   "execution_count": null,
   "id": "necessary-recruitment",
   "metadata": {},
   "outputs": [],
   "source": []
  },
  {
   "cell_type": "code",
   "execution_count": null,
   "id": "altered-grain",
   "metadata": {},
   "outputs": [],
   "source": []
  }
 ],
 "metadata": {
  "kernelspec": {
   "display_name": "Python 3",
   "language": "python",
   "name": "python3"
  },
  "language_info": {
   "codemirror_mode": {
    "name": "ipython",
    "version": 3
   },
   "file_extension": ".py",
   "mimetype": "text/x-python",
   "name": "python",
   "nbconvert_exporter": "python",
   "pygments_lexer": "ipython3",
   "version": "3.7.9"
  }
 },
 "nbformat": 4,
 "nbformat_minor": 5
}
