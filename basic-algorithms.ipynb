{
 "cells": [
  {
   "cell_type": "code",
   "execution_count": 35,
   "id": "modern-salmon",
   "metadata": {},
   "outputs": [],
   "source": [
    "import numpy as np\n",
    "import os\n",
    "import pandas as pd\n",
    "from skimage.io import imread, imsave\n",
    "from sklearn.model_selection import StratifiedKFold, GridSearchCV, cross_val_score\n",
    "from sklearn.metrics import roc_auc_score, mean_absolute_error\n",
    "from sklearn.linear_model import SGDClassifier\n",
    "from sklearn import svm\n",
    "from sklearn.ensemble import RandomForestClassifier\n",
    "from catboost import CatBoostClassifier\n",
    "from xgboost import XGBClassifier"
   ]
  },
  {
   "cell_type": "code",
   "execution_count": 2,
   "id": "terminal-breakfast",
   "metadata": {},
   "outputs": [],
   "source": [
    "er_trdat_path = './data/train/ER/'\n",
    "nr_trdat_path = './data/train/NR/'\n",
    "cropdat_path = './data/train/all_cropped/'\n",
    "balanced_path = './data/train/all_balanced/'"
   ]
  },
  {
   "cell_type": "markdown",
   "id": "unauthorized-maine",
   "metadata": {},
   "source": [
    "### form crp_ and bal_ datasets"
   ]
  },
  {
   "cell_type": "code",
   "execution_count": 3,
   "id": "comfortable-poverty",
   "metadata": {},
   "outputs": [],
   "source": [
    "conv_type = {'ER': 1, 'NR': 0}"
   ]
  },
  {
   "cell_type": "code",
   "execution_count": 4,
   "id": "difficult-record",
   "metadata": {},
   "outputs": [
    {
     "name": "stdout",
     "output_type": "stream",
     "text": [
      "13404\n",
      "13404\n",
      "13404\n",
      "Wall time: 4.07 s\n"
     ]
    }
   ],
   "source": [
    "%%time\n",
    "X_crp = []\n",
    "y_crp_typ = []\n",
    "y_crp_enr = []\n",
    "for filename in os.listdir(cropdat_path):\n",
    "    img = imread(cropdat_path + filename)    \n",
    "    X_crp.append(img.flatten())\n",
    "    fn_parts = filename.split('-')\n",
    "    y_crp_typ.append(conv_type[fn_parts[1]]) \n",
    "    y_crp_enr.append(int(fn_parts[2].split('.')[0]  ))\n",
    "print(len(X_crp))\n",
    "print(len(y_crp_typ))\n",
    "print(len(y_crp_enr))"
   ]
  },
  {
   "cell_type": "code",
   "execution_count": 5,
   "id": "congressional-validation",
   "metadata": {},
   "outputs": [
    {
     "name": "stdout",
     "output_type": "stream",
     "text": [
      "{0: 6646, 1: 6758}\n",
      "{1: 2180, 3: 2245, 6: 2256, 10: 2274, 20: 2210, 30: 2239}\n"
     ]
    }
   ],
   "source": [
    "unique, counts = np.unique(y_crp_typ, return_counts=True)\n",
    "print(dict(zip(unique, counts)))\n",
    "unique, counts = np.unique(y_crp_enr, return_counts=True)\n",
    "print(dict(zip(unique, counts)))"
   ]
  },
  {
   "cell_type": "code",
   "execution_count": 6,
   "id": "progressive-timer",
   "metadata": {},
   "outputs": [
    {
     "name": "stdout",
     "output_type": "stream",
     "text": [
      "26624\n",
      "26624\n",
      "26624\n",
      "Wall time: 8.2 s\n"
     ]
    }
   ],
   "source": [
    "%%time\n",
    "X_bal = []\n",
    "y_bal_typ = []\n",
    "y_bal_enr = []\n",
    "for filename in os.listdir(balanced_path):\n",
    "    img = imread(balanced_path + filename)    \n",
    "    X_bal.append(img.flatten())\n",
    "    fn_parts = filename.split('-')\n",
    "    y_bal_typ.append(conv_type[fn_parts[1]]) \n",
    "    y_bal_enr.append(int(fn_parts[2].split('.')[0]  ))\n",
    "print(len(X_bal))\n",
    "print(len(y_bal_typ))\n",
    "print(len(y_bal_enr))"
   ]
  },
  {
   "cell_type": "code",
   "execution_count": 7,
   "id": "perceived-virgin",
   "metadata": {},
   "outputs": [
    {
     "name": "stdout",
     "output_type": "stream",
     "text": [
      "{0: 13246, 1: 13378}\n",
      "{1: 4400, 3: 4445, 6: 4456, 10: 4474, 20: 4410, 30: 4439}\n"
     ]
    }
   ],
   "source": [
    "unique, counts = np.unique(y_bal_typ, return_counts=True)\n",
    "print(dict(zip(unique, counts)))\n",
    "unique, counts = np.unique(y_bal_enr, return_counts=True)\n",
    "print(dict(zip(unique, counts)))"
   ]
  },
  {
   "cell_type": "markdown",
   "id": "planned-shanghai",
   "metadata": {},
   "source": [
    "# 1. Classification"
   ]
  },
  {
   "cell_type": "code",
   "execution_count": null,
   "id": "plastic-suicide",
   "metadata": {},
   "outputs": [],
   "source": [
    "X_crp = np.array(X_crp)\n",
    "y_crp_typ = np.array(y_crp_typ)"
   ]
  },
  {
   "cell_type": "code",
   "execution_count": 8,
   "id": "labeled-prayer",
   "metadata": {},
   "outputs": [],
   "source": [
    "cv = StratifiedKFold(n_splits=3,shuffle=True,random_state=125)"
   ]
  },
  {
   "cell_type": "markdown",
   "id": "twenty-velvet",
   "metadata": {},
   "source": [
    "### SVM"
   ]
  },
  {
   "cell_type": "code",
   "execution_count": 9,
   "id": "arranged-crazy",
   "metadata": {},
   "outputs": [
    {
     "name": "stdout",
     "output_type": "stream",
     "text": [
      "Fitting 3 folds for each of 1 candidates, totalling 3 fits\n",
      "Wall time: 19min 54s\n"
     ]
    },
    {
     "data": {
      "text/plain": [
       "GridSearchCV(cv=StratifiedKFold(n_splits=3, random_state=125, shuffle=True),\n",
       "             estimator=SVC(random_state=125), n_jobs=-1,\n",
       "             param_grid={'C': [100], 'gamma': ['scale'], 'kernel': ['poly']},\n",
       "             scoring='roc_auc', verbose=2)"
      ]
     },
     "execution_count": 9,
     "metadata": {},
     "output_type": "execute_result"
    }
   ],
   "source": [
    "%%time\n",
    "param_grid = {\n",
    "    'kernel': ['linear', 'rbf', 'sigmoid', 'poly'],\n",
    "    'C': [0.1, 1, 10, 100],\n",
    "    'gamma': [0.001, 0.01, 1, 'scale'],\n",
    "}\n",
    "clf = svm.SVC(random_state=125)\n",
    "gscv = GridSearchCV(clf, param_grid, scoring='roc_auc', cv=cv, n_jobs=-1, verbose=2)\n",
    "gscv.fit(X_crp, y_crp_typ)"
   ]
  },
  {
   "cell_type": "code",
   "execution_count": 15,
   "id": "united-chick",
   "metadata": {},
   "outputs": [
    {
     "name": "stdout",
     "output_type": "stream",
     "text": [
      "{'C': 100, 'gamma': 'scale', 'kernel': 'poly'}\n"
     ]
    },
    {
     "data": {
      "text/html": [
       "<div>\n",
       "<style scoped>\n",
       "    .dataframe tbody tr th:only-of-type {\n",
       "        vertical-align: middle;\n",
       "    }\n",
       "\n",
       "    .dataframe tbody tr th {\n",
       "        vertical-align: top;\n",
       "    }\n",
       "\n",
       "    .dataframe thead th {\n",
       "        text-align: right;\n",
       "    }\n",
       "</style>\n",
       "<table border=\"1\" class=\"dataframe\">\n",
       "  <thead>\n",
       "    <tr style=\"text-align: right;\">\n",
       "      <th></th>\n",
       "      <th>mean_fit_time</th>\n",
       "      <th>std_fit_time</th>\n",
       "      <th>mean_score_time</th>\n",
       "      <th>std_score_time</th>\n",
       "      <th>param_C</th>\n",
       "      <th>param_gamma</th>\n",
       "      <th>param_kernel</th>\n",
       "      <th>params</th>\n",
       "      <th>split0_test_score</th>\n",
       "      <th>split1_test_score</th>\n",
       "      <th>split2_test_score</th>\n",
       "      <th>mean_test_score</th>\n",
       "      <th>std_test_score</th>\n",
       "      <th>rank_test_score</th>\n",
       "    </tr>\n",
       "  </thead>\n",
       "  <tbody>\n",
       "    <tr>\n",
       "      <th>0</th>\n",
       "      <td>530.774464</td>\n",
       "      <td>90.160325</td>\n",
       "      <td>8.478336</td>\n",
       "      <td>0.047251</td>\n",
       "      <td>100</td>\n",
       "      <td>scale</td>\n",
       "      <td>poly</td>\n",
       "      <td>{'C': 100, 'gamma': 'scale', 'kernel': 'poly'}</td>\n",
       "      <td>0.967655</td>\n",
       "      <td>0.965624</td>\n",
       "      <td>0.968093</td>\n",
       "      <td>0.967124</td>\n",
       "      <td>0.001076</td>\n",
       "      <td>1</td>\n",
       "    </tr>\n",
       "  </tbody>\n",
       "</table>\n",
       "</div>"
      ],
      "text/plain": [
       "   mean_fit_time  std_fit_time  mean_score_time  std_score_time param_C  \\\n",
       "0     530.774464     90.160325         8.478336        0.047251     100   \n",
       "\n",
       "  param_gamma param_kernel                                          params  \\\n",
       "0       scale         poly  {'C': 100, 'gamma': 'scale', 'kernel': 'poly'}   \n",
       "\n",
       "   split0_test_score  split1_test_score  split2_test_score  mean_test_score  \\\n",
       "0           0.967655           0.965624           0.968093         0.967124   \n",
       "\n",
       "   std_test_score  rank_test_score  \n",
       "0        0.001076                1  "
      ]
     },
     "execution_count": 15,
     "metadata": {},
     "output_type": "execute_result"
    }
   ],
   "source": [
    "df = pd.DataFrame(gscv.cv_results_)\n",
    "print(gscv.best_params_)\n",
    "df"
   ]
  },
  {
   "cell_type": "markdown",
   "id": "unlimited-prevention",
   "metadata": {},
   "source": [
    "### SGD"
   ]
  },
  {
   "cell_type": "code",
   "execution_count": 16,
   "id": "fourth-search",
   "metadata": {},
   "outputs": [
    {
     "name": "stdout",
     "output_type": "stream",
     "text": [
      "Fitting 3 folds for each of 1 candidates, totalling 3 fits\n",
      "Wall time: 47.9 s\n"
     ]
    },
    {
     "data": {
      "text/plain": [
       "GridSearchCV(cv=StratifiedKFold(n_splits=3, random_state=125, shuffle=True),\n",
       "             estimator=SGDClassifier(random_state=125), n_jobs=-2,\n",
       "             param_grid={'alpha': [0.01], 'l1_ratio': [0.15], 'loss': ['log'],\n",
       "                         'penalty': ['elasticnet']},\n",
       "             scoring='roc_auc', verbose=2)"
      ]
     },
     "execution_count": 16,
     "metadata": {},
     "output_type": "execute_result"
    }
   ],
   "source": [
    "%%time\n",
    "param_grid = {\n",
    "    'loss': ['log', 'hinge'],\n",
    "    'penalty': ['l1', 'l2', 'elasticnet'],\n",
    "    'alpha': [10 ** x for x in range(-6, 1)],\n",
    "    'l1_ratio': [0, 0.05, 0.15, 0.25, 0.5, 0.8, 1],\n",
    "}\n",
    "clf = SGDClassifier(random_state=125)\n",
    "gscv = GridSearchCV(clf, param_grid, scoring='roc_auc', cv=cv, n_jobs=-2, verbose=2)\n",
    "gscv.fit(X_crp, y_crp_typ)"
   ]
  },
  {
   "cell_type": "code",
   "execution_count": 17,
   "id": "sustained-ecuador",
   "metadata": {},
   "outputs": [
    {
     "name": "stdout",
     "output_type": "stream",
     "text": [
      "{'alpha': 0.01, 'l1_ratio': 0.15, 'loss': 'log', 'penalty': 'elasticnet'}\n"
     ]
    },
    {
     "data": {
      "text/html": [
       "<div>\n",
       "<style scoped>\n",
       "    .dataframe tbody tr th:only-of-type {\n",
       "        vertical-align: middle;\n",
       "    }\n",
       "\n",
       "    .dataframe tbody tr th {\n",
       "        vertical-align: top;\n",
       "    }\n",
       "\n",
       "    .dataframe thead th {\n",
       "        text-align: right;\n",
       "    }\n",
       "</style>\n",
       "<table border=\"1\" class=\"dataframe\">\n",
       "  <thead>\n",
       "    <tr style=\"text-align: right;\">\n",
       "      <th></th>\n",
       "      <th>mean_fit_time</th>\n",
       "      <th>std_fit_time</th>\n",
       "      <th>mean_score_time</th>\n",
       "      <th>std_score_time</th>\n",
       "      <th>param_alpha</th>\n",
       "      <th>param_l1_ratio</th>\n",
       "      <th>param_loss</th>\n",
       "      <th>param_penalty</th>\n",
       "      <th>params</th>\n",
       "      <th>split0_test_score</th>\n",
       "      <th>split1_test_score</th>\n",
       "      <th>split2_test_score</th>\n",
       "      <th>mean_test_score</th>\n",
       "      <th>std_test_score</th>\n",
       "      <th>rank_test_score</th>\n",
       "    </tr>\n",
       "  </thead>\n",
       "  <tbody>\n",
       "    <tr>\n",
       "      <th>0</th>\n",
       "      <td>21.472765</td>\n",
       "      <td>3.372449</td>\n",
       "      <td>0.050854</td>\n",
       "      <td>0.000814</td>\n",
       "      <td>0.01</td>\n",
       "      <td>0.15</td>\n",
       "      <td>log</td>\n",
       "      <td>elasticnet</td>\n",
       "      <td>{'alpha': 0.01, 'l1_ratio': 0.15, 'loss': 'log...</td>\n",
       "      <td>0.81959</td>\n",
       "      <td>0.813956</td>\n",
       "      <td>0.79981</td>\n",
       "      <td>0.811119</td>\n",
       "      <td>0.008321</td>\n",
       "      <td>1</td>\n",
       "    </tr>\n",
       "  </tbody>\n",
       "</table>\n",
       "</div>"
      ],
      "text/plain": [
       "   mean_fit_time  std_fit_time  mean_score_time  std_score_time param_alpha  \\\n",
       "0      21.472765      3.372449         0.050854        0.000814        0.01   \n",
       "\n",
       "  param_l1_ratio param_loss param_penalty  \\\n",
       "0           0.15        log    elasticnet   \n",
       "\n",
       "                                              params  split0_test_score  \\\n",
       "0  {'alpha': 0.01, 'l1_ratio': 0.15, 'loss': 'log...            0.81959   \n",
       "\n",
       "   split1_test_score  split2_test_score  mean_test_score  std_test_score  \\\n",
       "0           0.813956            0.79981         0.811119        0.008321   \n",
       "\n",
       "   rank_test_score  \n",
       "0                1  "
      ]
     },
     "execution_count": 17,
     "metadata": {},
     "output_type": "execute_result"
    }
   ],
   "source": [
    "df = pd.DataFrame(gscv.cv_results_)\n",
    "print(gscv.best_params_)\n",
    "df"
   ]
  },
  {
   "cell_type": "markdown",
   "id": "published-freight",
   "metadata": {},
   "source": [
    "### Random Forest"
   ]
  },
  {
   "cell_type": "code",
   "execution_count": 18,
   "id": "ambient-rebel",
   "metadata": {},
   "outputs": [
    {
     "name": "stdout",
     "output_type": "stream",
     "text": [
      "Fitting 3 folds for each of 1 candidates, totalling 3 fits\n",
      "Wall time: 19.3 s\n"
     ]
    },
    {
     "data": {
      "text/plain": [
       "GridSearchCV(cv=StratifiedKFold(n_splits=3, random_state=125, shuffle=True),\n",
       "             estimator=RandomForestClassifier(random_state=125), n_jobs=-2,\n",
       "             param_grid={'criterion': ['gini'], 'max_depth': [4],\n",
       "                         'max_features': ['auto'], 'n_estimators': [200]},\n",
       "             scoring='roc_auc', verbose=2)"
      ]
     },
     "execution_count": 18,
     "metadata": {},
     "output_type": "execute_result"
    }
   ],
   "source": [
    "%%time\n",
    "param_grid = { \n",
    "    'n_estimators': [200, 500, 800],\n",
    "    'max_features': ['auto', 'sqrt', 'log2'],\n",
    "    'max_depth' : [4, 5, 6, 7, 8],\n",
    "    'criterion' :['gini', 'entropy'],\n",
    "}\n",
    "clf = RandomForestClassifier(random_state=125)\n",
    "gscv = GridSearchCV(clf, param_grid, scoring='roc_auc', cv=cv, n_jobs=-2, verbose=2)\n",
    "gscv.fit(X_crp, y_crp_typ)"
   ]
  },
  {
   "cell_type": "code",
   "execution_count": 19,
   "id": "massive-handy",
   "metadata": {},
   "outputs": [
    {
     "name": "stdout",
     "output_type": "stream",
     "text": [
      "{'criterion': 'gini', 'max_depth': 4, 'max_features': 'auto', 'n_estimators': 200}\n"
     ]
    },
    {
     "data": {
      "text/html": [
       "<div>\n",
       "<style scoped>\n",
       "    .dataframe tbody tr th:only-of-type {\n",
       "        vertical-align: middle;\n",
       "    }\n",
       "\n",
       "    .dataframe tbody tr th {\n",
       "        vertical-align: top;\n",
       "    }\n",
       "\n",
       "    .dataframe thead th {\n",
       "        text-align: right;\n",
       "    }\n",
       "</style>\n",
       "<table border=\"1\" class=\"dataframe\">\n",
       "  <thead>\n",
       "    <tr style=\"text-align: right;\">\n",
       "      <th></th>\n",
       "      <th>mean_fit_time</th>\n",
       "      <th>std_fit_time</th>\n",
       "      <th>mean_score_time</th>\n",
       "      <th>std_score_time</th>\n",
       "      <th>param_criterion</th>\n",
       "      <th>param_max_depth</th>\n",
       "      <th>param_max_features</th>\n",
       "      <th>param_n_estimators</th>\n",
       "      <th>params</th>\n",
       "      <th>split0_test_score</th>\n",
       "      <th>split1_test_score</th>\n",
       "      <th>split2_test_score</th>\n",
       "      <th>mean_test_score</th>\n",
       "      <th>std_test_score</th>\n",
       "      <th>rank_test_score</th>\n",
       "    </tr>\n",
       "  </thead>\n",
       "  <tbody>\n",
       "    <tr>\n",
       "      <th>0</th>\n",
       "      <td>7.019129</td>\n",
       "      <td>0.013315</td>\n",
       "      <td>0.129964</td>\n",
       "      <td>0.001699</td>\n",
       "      <td>gini</td>\n",
       "      <td>4</td>\n",
       "      <td>auto</td>\n",
       "      <td>200</td>\n",
       "      <td>{'criterion': 'gini', 'max_depth': 4, 'max_fea...</td>\n",
       "      <td>0.995422</td>\n",
       "      <td>0.994492</td>\n",
       "      <td>0.995584</td>\n",
       "      <td>0.995166</td>\n",
       "      <td>0.000481</td>\n",
       "      <td>1</td>\n",
       "    </tr>\n",
       "  </tbody>\n",
       "</table>\n",
       "</div>"
      ],
      "text/plain": [
       "   mean_fit_time  std_fit_time  mean_score_time  std_score_time  \\\n",
       "0       7.019129      0.013315         0.129964        0.001699   \n",
       "\n",
       "  param_criterion param_max_depth param_max_features param_n_estimators  \\\n",
       "0            gini               4               auto                200   \n",
       "\n",
       "                                              params  split0_test_score  \\\n",
       "0  {'criterion': 'gini', 'max_depth': 4, 'max_fea...           0.995422   \n",
       "\n",
       "   split1_test_score  split2_test_score  mean_test_score  std_test_score  \\\n",
       "0           0.994492           0.995584         0.995166        0.000481   \n",
       "\n",
       "   rank_test_score  \n",
       "0                1  "
      ]
     },
     "execution_count": 19,
     "metadata": {},
     "output_type": "execute_result"
    }
   ],
   "source": [
    "df = pd.DataFrame(gscv.cv_results_)\n",
    "print(gscv.best_params_)\n",
    "df"
   ]
  },
  {
   "cell_type": "markdown",
   "id": "alternate-savage",
   "metadata": {},
   "source": [
    "### CatBoost"
   ]
  },
  {
   "cell_type": "code",
   "execution_count": 29,
   "id": "amended-classification",
   "metadata": {},
   "outputs": [
    {
     "name": "stdout",
     "output_type": "stream",
     "text": [
      "Fitting 3 folds for each of 3 candidates, totalling 9 fits\n",
      "Wall time: 1min 9s\n"
     ]
    },
    {
     "data": {
      "text/plain": [
       "GridSearchCV(cv=StratifiedKFold(n_splits=3, random_state=125, shuffle=True),\n",
       "             estimator=<catboost.core.CatBoostClassifier object at 0x0000020D97064C88>,\n",
       "             n_jobs=-2,\n",
       "             param_grid={'depth': [3], 'iterations': [200],\n",
       "                         'l2_leaf_reg': array([1.00000000e-20, 3.16227766e-20, 1.00000000e-19]),\n",
       "                         'leaf_estimation_iterations': [10],\n",
       "                         'logging_level': ['Silent'],\n",
       "                         'loss_function': ['Logloss']},\n",
       "             scoring='roc_auc', verbose=2)"
      ]
     },
     "execution_count": 29,
     "metadata": {},
     "output_type": "execute_result"
    }
   ],
   "source": [
    "%%time\n",
    "param_grid = {\n",
    "    'iterations': [200, 500, 800],\n",
    "    'depth': [2, 3, 4, 6],\n",
    "    'loss_function': ['Logloss', 'CrossEntropy'],\n",
    "    'l2_leaf_reg': np.logspace(-20, -19, 3),\n",
    "    'leaf_estimation_iterations': [10],\n",
    "    'logging_level':['Silent'],\n",
    "}\n",
    "clf = CatBoostClassifier(random_state=125)\n",
    "gscv = GridSearchCV(clf, param_grid, scoring='roc_auc', cv=cv, n_jobs=-2, verbose=2)\n",
    "gscv.fit(X_crp, y_crp_typ)"
   ]
  },
  {
   "cell_type": "code",
   "execution_count": 30,
   "id": "valid-juice",
   "metadata": {},
   "outputs": [
    {
     "name": "stdout",
     "output_type": "stream",
     "text": [
      "{'depth': 3, 'iterations': 200, 'l2_leaf_reg': 1e-20, 'leaf_estimation_iterations': 10, 'logging_level': 'Silent', 'loss_function': 'Logloss'}\n"
     ]
    },
    {
     "data": {
      "text/html": [
       "<div>\n",
       "<style scoped>\n",
       "    .dataframe tbody tr th:only-of-type {\n",
       "        vertical-align: middle;\n",
       "    }\n",
       "\n",
       "    .dataframe tbody tr th {\n",
       "        vertical-align: top;\n",
       "    }\n",
       "\n",
       "    .dataframe thead th {\n",
       "        text-align: right;\n",
       "    }\n",
       "</style>\n",
       "<table border=\"1\" class=\"dataframe\">\n",
       "  <thead>\n",
       "    <tr style=\"text-align: right;\">\n",
       "      <th></th>\n",
       "      <th>mean_fit_time</th>\n",
       "      <th>std_fit_time</th>\n",
       "      <th>mean_score_time</th>\n",
       "      <th>std_score_time</th>\n",
       "      <th>param_depth</th>\n",
       "      <th>param_iterations</th>\n",
       "      <th>param_l2_leaf_reg</th>\n",
       "      <th>param_leaf_estimation_iterations</th>\n",
       "      <th>param_logging_level</th>\n",
       "      <th>param_loss_function</th>\n",
       "      <th>params</th>\n",
       "      <th>split0_test_score</th>\n",
       "      <th>split1_test_score</th>\n",
       "      <th>split2_test_score</th>\n",
       "      <th>mean_test_score</th>\n",
       "      <th>std_test_score</th>\n",
       "      <th>rank_test_score</th>\n",
       "    </tr>\n",
       "  </thead>\n",
       "  <tbody>\n",
       "    <tr>\n",
       "      <th>0</th>\n",
       "      <td>23.046476</td>\n",
       "      <td>6.216593</td>\n",
       "      <td>17.028506</td>\n",
       "      <td>2.306531</td>\n",
       "      <td>3</td>\n",
       "      <td>200</td>\n",
       "      <td>0.0</td>\n",
       "      <td>10</td>\n",
       "      <td>Silent</td>\n",
       "      <td>Logloss</td>\n",
       "      <td>{'depth': 3, 'iterations': 200, 'l2_leaf_reg':...</td>\n",
       "      <td>0.999455</td>\n",
       "      <td>0.999572</td>\n",
       "      <td>0.999661</td>\n",
       "      <td>0.999563</td>\n",
       "      <td>0.000084</td>\n",
       "      <td>1</td>\n",
       "    </tr>\n",
       "    <tr>\n",
       "      <th>1</th>\n",
       "      <td>39.198698</td>\n",
       "      <td>3.601635</td>\n",
       "      <td>10.697126</td>\n",
       "      <td>2.878223</td>\n",
       "      <td>3</td>\n",
       "      <td>200</td>\n",
       "      <td>0.0</td>\n",
       "      <td>10</td>\n",
       "      <td>Silent</td>\n",
       "      <td>Logloss</td>\n",
       "      <td>{'depth': 3, 'iterations': 200, 'l2_leaf_reg':...</td>\n",
       "      <td>0.999455</td>\n",
       "      <td>0.999572</td>\n",
       "      <td>0.999661</td>\n",
       "      <td>0.999563</td>\n",
       "      <td>0.000084</td>\n",
       "      <td>1</td>\n",
       "    </tr>\n",
       "    <tr>\n",
       "      <th>2</th>\n",
       "      <td>46.101943</td>\n",
       "      <td>0.805867</td>\n",
       "      <td>1.969079</td>\n",
       "      <td>0.083651</td>\n",
       "      <td>3</td>\n",
       "      <td>200</td>\n",
       "      <td>0.0</td>\n",
       "      <td>10</td>\n",
       "      <td>Silent</td>\n",
       "      <td>Logloss</td>\n",
       "      <td>{'depth': 3, 'iterations': 200, 'l2_leaf_reg':...</td>\n",
       "      <td>0.999455</td>\n",
       "      <td>0.999572</td>\n",
       "      <td>0.999661</td>\n",
       "      <td>0.999563</td>\n",
       "      <td>0.000084</td>\n",
       "      <td>1</td>\n",
       "    </tr>\n",
       "  </tbody>\n",
       "</table>\n",
       "</div>"
      ],
      "text/plain": [
       "   mean_fit_time  std_fit_time  mean_score_time  std_score_time param_depth  \\\n",
       "0      23.046476      6.216593        17.028506        2.306531           3   \n",
       "1      39.198698      3.601635        10.697126        2.878223           3   \n",
       "2      46.101943      0.805867         1.969079        0.083651           3   \n",
       "\n",
       "  param_iterations param_l2_leaf_reg param_leaf_estimation_iterations  \\\n",
       "0              200               0.0                               10   \n",
       "1              200               0.0                               10   \n",
       "2              200               0.0                               10   \n",
       "\n",
       "  param_logging_level param_loss_function  \\\n",
       "0              Silent             Logloss   \n",
       "1              Silent             Logloss   \n",
       "2              Silent             Logloss   \n",
       "\n",
       "                                              params  split0_test_score  \\\n",
       "0  {'depth': 3, 'iterations': 200, 'l2_leaf_reg':...           0.999455   \n",
       "1  {'depth': 3, 'iterations': 200, 'l2_leaf_reg':...           0.999455   \n",
       "2  {'depth': 3, 'iterations': 200, 'l2_leaf_reg':...           0.999455   \n",
       "\n",
       "   split1_test_score  split2_test_score  mean_test_score  std_test_score  \\\n",
       "0           0.999572           0.999661         0.999563        0.000084   \n",
       "1           0.999572           0.999661         0.999563        0.000084   \n",
       "2           0.999572           0.999661         0.999563        0.000084   \n",
       "\n",
       "   rank_test_score  \n",
       "0                1  \n",
       "1                1  \n",
       "2                1  "
      ]
     },
     "execution_count": 30,
     "metadata": {},
     "output_type": "execute_result"
    }
   ],
   "source": [
    "df = pd.DataFrame(gscv.cv_results_)\n",
    "print(gscv.best_params_)\n",
    "df"
   ]
  },
  {
   "cell_type": "markdown",
   "id": "arabic-railway",
   "metadata": {},
   "source": [
    "### XGBoost"
   ]
  },
  {
   "cell_type": "code",
   "execution_count": 46,
   "id": "overall-ribbon",
   "metadata": {},
   "outputs": [
    {
     "name": "stdout",
     "output_type": "stream",
     "text": [
      "Fitting 3 folds for each of 1 candidates, totalling 3 fits\n",
      "Wall time: 33.7 s\n"
     ]
    },
    {
     "data": {
      "text/plain": [
       "GridSearchCV(cv=StratifiedKFold(n_splits=3, random_state=125, shuffle=True),\n",
       "             estimator=XGBClassifier(base_score=None, booster=None,\n",
       "                                     colsample_bylevel=None,\n",
       "                                     colsample_bynode=None,\n",
       "                                     colsample_bytree=None, eval_metric='auc',\n",
       "                                     gamma=None, gpu_id=None,\n",
       "                                     importance_type='gain',\n",
       "                                     interaction_constraints=None,\n",
       "                                     learning_rate=None, max_delta_step=None,\n",
       "                                     max_depth=None, min_child...\n",
       "                                     n_estimators=100, n_jobs=None,\n",
       "                                     num_parallel_tree=None, random_state=125,\n",
       "                                     reg_alpha=None, reg_lambda=None,\n",
       "                                     scale_pos_weight=None, subsample=None,\n",
       "                                     tree_method=None, use_label_encoder=False,\n",
       "                                     validate_parameters=None, verbosity=None),\n",
       "             n_jobs=-2,\n",
       "             param_grid={'colsample_bytree': [0.6], 'gamma': [0.5],\n",
       "                         'max_depth': [3], 'min_child_weight': [1],\n",
       "                         'subsample': [1.0]},\n",
       "             scoring='roc_auc', verbose=1)"
      ]
     },
     "execution_count": 46,
     "metadata": {},
     "output_type": "execute_result"
    }
   ],
   "source": [
    "%%time\n",
    "param_grid = {\n",
    "    'min_child_weight': [1, 5, 10],\n",
    "    'gamma': [0.5, 1, 1.5, 2, 5],\n",
    "    'subsample': [0.6, 0.8, 1.0],\n",
    "    'colsample_bytree': [0.6, 0.8, 1.0],\n",
    "    'max_depth': [3, 4, 5],\n",
    "}\n",
    "clf = XGBClassifier(eval_metric='auc', use_label_encoder=False, random_state=125)\n",
    "gscv = GridSearchCV(clf, param_grid, scoring='roc_auc', cv=cv, n_jobs=-2, verbose=1)\n",
    "gscv.fit(X_crp, y_crp_typ);"
   ]
  },
  {
   "cell_type": "code",
   "execution_count": 47,
   "id": "existing-likelihood",
   "metadata": {},
   "outputs": [
    {
     "name": "stdout",
     "output_type": "stream",
     "text": [
      "{'colsample_bytree': 0.6, 'gamma': 0.5, 'max_depth': 3, 'min_child_weight': 1, 'subsample': 1.0}\n"
     ]
    },
    {
     "data": {
      "text/html": [
       "<div>\n",
       "<style scoped>\n",
       "    .dataframe tbody tr th:only-of-type {\n",
       "        vertical-align: middle;\n",
       "    }\n",
       "\n",
       "    .dataframe tbody tr th {\n",
       "        vertical-align: top;\n",
       "    }\n",
       "\n",
       "    .dataframe thead th {\n",
       "        text-align: right;\n",
       "    }\n",
       "</style>\n",
       "<table border=\"1\" class=\"dataframe\">\n",
       "  <thead>\n",
       "    <tr style=\"text-align: right;\">\n",
       "      <th></th>\n",
       "      <th>mean_fit_time</th>\n",
       "      <th>std_fit_time</th>\n",
       "      <th>mean_score_time</th>\n",
       "      <th>std_score_time</th>\n",
       "      <th>param_colsample_bytree</th>\n",
       "      <th>param_gamma</th>\n",
       "      <th>param_max_depth</th>\n",
       "      <th>param_min_child_weight</th>\n",
       "      <th>param_subsample</th>\n",
       "      <th>params</th>\n",
       "      <th>split0_test_score</th>\n",
       "      <th>split1_test_score</th>\n",
       "      <th>split2_test_score</th>\n",
       "      <th>mean_test_score</th>\n",
       "      <th>std_test_score</th>\n",
       "      <th>rank_test_score</th>\n",
       "    </tr>\n",
       "  </thead>\n",
       "  <tbody>\n",
       "    <tr>\n",
       "      <th>0</th>\n",
       "      <td>19.834127</td>\n",
       "      <td>0.840815</td>\n",
       "      <td>0.236368</td>\n",
       "      <td>0.021126</td>\n",
       "      <td>0.6</td>\n",
       "      <td>0.5</td>\n",
       "      <td>3</td>\n",
       "      <td>1</td>\n",
       "      <td>1.0</td>\n",
       "      <td>{'colsample_bytree': 0.6, 'gamma': 0.5, 'max_d...</td>\n",
       "      <td>0.99996</td>\n",
       "      <td>0.999937</td>\n",
       "      <td>0.999943</td>\n",
       "      <td>0.999947</td>\n",
       "      <td>0.000009</td>\n",
       "      <td>1</td>\n",
       "    </tr>\n",
       "  </tbody>\n",
       "</table>\n",
       "</div>"
      ],
      "text/plain": [
       "   mean_fit_time  std_fit_time  mean_score_time  std_score_time  \\\n",
       "0      19.834127      0.840815         0.236368        0.021126   \n",
       "\n",
       "  param_colsample_bytree param_gamma param_max_depth param_min_child_weight  \\\n",
       "0                    0.6         0.5               3                      1   \n",
       "\n",
       "  param_subsample                                             params  \\\n",
       "0             1.0  {'colsample_bytree': 0.6, 'gamma': 0.5, 'max_d...   \n",
       "\n",
       "   split0_test_score  split1_test_score  split2_test_score  mean_test_score  \\\n",
       "0            0.99996           0.999937           0.999943         0.999947   \n",
       "\n",
       "   std_test_score  rank_test_score  \n",
       "0        0.000009                1  "
      ]
     },
     "execution_count": 47,
     "metadata": {},
     "output_type": "execute_result"
    }
   ],
   "source": [
    "df = pd.DataFrame(gscv.cv_results_)\n",
    "print(gscv.best_params_)\n",
    "df"
   ]
  },
  {
   "cell_type": "markdown",
   "id": "pacific-aruba",
   "metadata": {},
   "source": [
    "### SVM"
   ]
  }
 ],
 "metadata": {
  "kernelspec": {
   "display_name": "Python 3",
   "language": "python",
   "name": "python3"
  },
  "language_info": {
   "codemirror_mode": {
    "name": "ipython",
    "version": 3
   },
   "file_extension": ".py",
   "mimetype": "text/x-python",
   "name": "python",
   "nbconvert_exporter": "python",
   "pygments_lexer": "ipython3",
   "version": "3.7.9"
  }
 },
 "nbformat": 4,
 "nbformat_minor": 5
}
