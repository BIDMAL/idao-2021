{
 "cells": [
  {
   "cell_type": "code",
   "execution_count": 1,
   "id": "modern-salmon",
   "metadata": {},
   "outputs": [],
   "source": [
    "import numpy as np\n",
    "import os\n",
    "import pandas as pd\n",
    "from skimage.io import imread, imsave\n",
    "from skimage.transform import resize\n",
    "from sklearn.model_selection import train_test_split\n",
    "from sklearn.metrics import classification_report\n",
    "from sklearn import svm\n",
    "import torchvision.transforms as T\n",
    "import torch\n",
    "torch.manual_seed(42)\n",
    "\n",
    "import warnings\n",
    "warnings.filterwarnings('ignore')\n",
    "\n",
    "from matplotlib import pyplot as plt\n",
    "%matplotlib inline"
   ]
  },
  {
   "cell_type": "code",
   "execution_count": 2,
   "id": "terminal-breakfast",
   "metadata": {},
   "outputs": [],
   "source": [
    "er_trdat_path = './data/train/ER/'\n",
    "nr_trdat_path = './data/train/NR/'\n",
    "cropdat_path = './data/train/all_cropped/'\n",
    "balanced_path = './data/train/all_balanced/'"
   ]
  },
  {
   "cell_type": "markdown",
   "id": "continued-elder",
   "metadata": {},
   "source": [
    "### Crop Images"
   ]
  },
  {
   "cell_type": "code",
   "execution_count": 3,
   "id": "hawaiian-feedback",
   "metadata": {},
   "outputs": [
    {
     "name": "stdout",
     "output_type": "stream",
     "text": [
      "Wall time: 59.6 s\n"
     ]
    }
   ],
   "source": [
    "%%time\n",
    "counts = dict()\n",
    "i = 0\n",
    "for filename in os.listdir(er_trdat_path):\n",
    "    fn_parts = filename.split('_')\n",
    "    ind =  fn_parts.index('ER')\n",
    "    regr = fn_parts[ind+1]\n",
    "    if regr not in {'1', '3', '6', '10', '20', '30'}:\n",
    "        print(f'error fn_parts[7]')\n",
    "        print(fn_parts)\n",
    "        print(filename)\n",
    "        break    \n",
    "    img = imread(er_trdat_path + filename)    \n",
    "    img = img[192:384, 192:384]\n",
    "    img = resize(img, (64, 64))\n",
    "    img = img*255\n",
    "    img = img.astype(np.uint8)\n",
    "    imsave(cropdat_path + f'{i}-ER-{regr}.png', img)\n",
    "    counts[f'ER-{regr}'] = counts.get(f'ER-{regr}', 0) + 1\n",
    "    i += 1\n",
    "for filename in os.listdir(nr_trdat_path):\n",
    "    fn_parts = filename.split('_')\n",
    "    ind =  fn_parts.index('NR')\n",
    "    regr = fn_parts[ind+1]\n",
    "    if regr not in {'1', '3', '6', '10', '20', '30'}:\n",
    "        print(f'error fn_parts[7]')\n",
    "        print(fn_parts)\n",
    "        print(filename)\n",
    "        break    \n",
    "    img = imread(nr_trdat_path + filename)\n",
    "    img = img[192:384, 192:384]\n",
    "    img = resize(img, (64, 64))\n",
    "    img = img*255\n",
    "    img = img.astype(np.uint8)\n",
    "    imsave(cropdat_path + f'{i}-NR-{regr}.png', img)\n",
    "    counts[f'NR-{regr}'] = counts.get(f'NR-{regr}', 0) + 1\n",
    "    i += 1"
   ]
  },
  {
   "cell_type": "markdown",
   "id": "explicit-andorra",
   "metadata": {},
   "source": [
    "### balance classes"
   ]
  },
  {
   "cell_type": "code",
   "execution_count": null,
   "id": "threatened-support",
   "metadata": {},
   "outputs": [],
   "source": [
    "transforms = torch.nn.Sequential(\n",
    "    T.RandomAffine(degrees=45),\n",
    "    T.RandomHorizontalFlip(p=0.5),\n",
    "    T.GaussianBlur(3, sigma=(0.1, 2.0)),\n",
    ")"
   ]
  },
  {
   "cell_type": "code",
   "execution_count": null,
   "id": "associate-actor",
   "metadata": {},
   "outputs": [],
   "source": [
    "for filename in os.listdir('./data/train/small/'):\n",
    "    img = imread('./data/train/small/' + filename) \n",
    "    fn_parts = filename.split('_')\n",
    "    ind =  fn_parts.index('ER')\n",
    "    regr = fn_parts[ind+1]       \n",
    "    img = img[192:384, 192:384]\n",
    "    img = resize(img, (64, 64))\n",
    "    img = img*255\n",
    "    img = img.astype(np.uint8)\n",
    "    imsave(balanced_path + f'{i}-ER-{regr}.png', img)\n",
    "    i += 1\n",
    "    if regr in {'1', '6', '20'}:\n",
    "        for"
   ]
  },
  {
   "cell_type": "code",
   "execution_count": null,
   "id": "sitting-identity",
   "metadata": {},
   "outputs": [],
   "source": [
    "%%time\n",
    "i = 0\n",
    "for filename in os.listdir(er_trdat_path):\n",
    "    fn_parts = filename.split('_')\n",
    "    ind =  fn_parts.index('ER')\n",
    "    regr = fn_parts[ind+1]\n",
    "    if regr not in {'1', '3', '6', '10', '20', '30'}:\n",
    "        print(f'error fn_parts[7]')\n",
    "        print(fn_parts)\n",
    "        print(filename)\n",
    "        break    \n",
    "    img = imread(er_trdat_path + filename)    \n",
    "    img = img[192:384, 192:384]\n",
    "    img = resize(img, (64, 64))\n",
    "    img = img*255\n",
    "    img = img.astype(np.uint8)\n",
    "    imsave(cropdat_path + f'{i}-ER-{regr}.png', img)\n",
    "    i += 1\n",
    "for filename in os.listdir(nr_trdat_path):\n",
    "    fn_parts = filename.split('_')\n",
    "    ind =  fn_parts.index('NR')\n",
    "    regr = fn_parts[ind+1]\n",
    "    if regr not in {'1', '3', '6', '10', '20', '30'}:\n",
    "        print(f'error fn_parts[7]')\n",
    "        print(fn_parts)\n",
    "        print(filename)\n",
    "        break    \n",
    "    img = imread(nr_trdat_path + filename)\n",
    "    img = img[192:384, 192:384]\n",
    "    img = resize(img, (64, 64))\n",
    "    img = img*255\n",
    "    img = img.astype(np.uint8)\n",
    "    imsave(cropdat_path + f'{i}-NR-{regr}.png', img)\n",
    "    i += 1"
   ]
  },
  {
   "cell_type": "code",
   "execution_count": null,
   "id": "expected-settlement",
   "metadata": {},
   "outputs": [],
   "source": []
  },
  {
   "cell_type": "code",
   "execution_count": null,
   "id": "quarterly-spectacular",
   "metadata": {},
   "outputs": [],
   "source": []
  },
  {
   "cell_type": "code",
   "execution_count": null,
   "id": "understanding-flashing",
   "metadata": {},
   "outputs": [],
   "source": []
  },
  {
   "cell_type": "code",
   "execution_count": null,
   "id": "accessible-butterfly",
   "metadata": {},
   "outputs": [],
   "source": []
  },
  {
   "cell_type": "code",
   "execution_count": null,
   "id": "fourth-search",
   "metadata": {},
   "outputs": [],
   "source": []
  },
  {
   "cell_type": "code",
   "execution_count": null,
   "id": "necessary-recruitment",
   "metadata": {},
   "outputs": [],
   "source": []
  },
  {
   "cell_type": "code",
   "execution_count": null,
   "id": "altered-grain",
   "metadata": {},
   "outputs": [],
   "source": []
  }
 ],
 "metadata": {
  "kernelspec": {
   "display_name": "Python 3",
   "language": "python",
   "name": "python3"
  },
  "language_info": {
   "codemirror_mode": {
    "name": "ipython",
    "version": 3
   },
   "file_extension": ".py",
   "mimetype": "text/x-python",
   "name": "python",
   "nbconvert_exporter": "python",
   "pygments_lexer": "ipython3",
   "version": "3.7.9"
  }
 },
 "nbformat": 4,
 "nbformat_minor": 5
}
