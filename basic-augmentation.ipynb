{
 "cells": [
  {
   "cell_type": "code",
   "execution_count": 22,
   "id": "modern-salmon",
   "metadata": {},
   "outputs": [],
   "source": [
    "import numpy as np\n",
    "import os\n",
    "import pandas as pd\n",
    "from skimage.io import imread, imsave\n",
    "from skimage.transform import resize\n",
    "from sklearn.model_selection import train_test_split\n",
    "from sklearn.metrics import classification_report\n",
    "from sklearn import svm\n",
    "import torchvision.transforms as T\n",
    "import torchvision.transforms.functional as F\n",
    "import torch\n",
    "torch.manual_seed(42)\n",
    "from PIL import Image\n",
    "\n",
    "import warnings\n",
    "warnings.filterwarnings('ignore')\n",
    "\n",
    "from matplotlib import pyplot as plt\n",
    "%matplotlib inline"
   ]
  },
  {
   "cell_type": "code",
   "execution_count": 2,
   "id": "terminal-breakfast",
   "metadata": {},
   "outputs": [],
   "source": [
    "er_trdat_path = './data/train/ER/'\n",
    "nr_trdat_path = './data/train/NR/'\n",
    "cropdat_path = './data/train/all_cropped/'\n",
    "balanced_path = './data/train/all_balanced/'\n",
    "\n",
    "if not os.path.exists(cropdat_path):\n",
    "    os.mkdir(cropdat_path)\n",
    "if not os.path.exists(balanced_path):\n",
    "    os.mkdir(balanced_path)"
   ]
  },
  {
   "cell_type": "markdown",
   "id": "unlike-essence",
   "metadata": {},
   "source": [
    "### Crop Images"
   ]
  },
  {
   "cell_type": "code",
   "execution_count": 3,
   "id": "hawaiian-feedback",
   "metadata": {},
   "outputs": [
    {
     "name": "stdout",
     "output_type": "stream",
     "text": [
      "Wall time: 3min 20s\n"
     ]
    }
   ],
   "source": [
    "%%time\n",
    "counts = dict()\n",
    "i = 0\n",
    "for filename in os.listdir(er_trdat_path):\n",
    "    fn_parts = filename.split('_')\n",
    "    ind =  fn_parts.index('ER')\n",
    "    regr = fn_parts[ind+1]\n",
    "    if regr not in {'1', '3', '6', '10', '20', '30'}:\n",
    "        print(f'error fn_parts[7]')\n",
    "        print(fn_parts)\n",
    "        print(filename)\n",
    "        break    \n",
    "    img = imread(er_trdat_path + filename)    \n",
    "    img = img[192:384, 192:384]\n",
    "    img = resize(img, (64, 64))\n",
    "    img = img*255\n",
    "    img = img.astype(np.uint8)\n",
    "    imsave(cropdat_path + f'{i}-ER-{regr}.png', img)\n",
    "    counts[f'ER-{regr}'] = counts.get(f'ER-{regr}', 0) + 1\n",
    "    i += 1\n",
    "for filename in os.listdir(nr_trdat_path):\n",
    "    fn_parts = filename.split('_')\n",
    "    ind =  fn_parts.index('NR')\n",
    "    regr = fn_parts[ind+1]\n",
    "    if regr not in {'1', '3', '6', '10', '20', '30'}:\n",
    "        print(f'error fn_parts[7]')\n",
    "        print(fn_parts)\n",
    "        print(filename)\n",
    "        break    \n",
    "    img = imread(nr_trdat_path + filename)\n",
    "    img = img[192:384, 192:384]\n",
    "    img = resize(img, (64, 64))\n",
    "    img = img*255\n",
    "    img = img.astype(np.uint8)\n",
    "    imsave(cropdat_path + f'{i}-NR-{regr}.png', img)\n",
    "    counts[f'NR-{regr}'] = counts.get(f'NR-{regr}', 0) + 1\n",
    "    i += 1"
   ]
  },
  {
   "cell_type": "markdown",
   "id": "filled-wallet",
   "metadata": {},
   "source": [
    "### Class Destribution"
   ]
  },
  {
   "cell_type": "code",
   "execution_count": 4,
   "id": "clean-capacity",
   "metadata": {},
   "outputs": [
    {
     "data": {
      "text/plain": [
       "{'ER-30': 2237,\n",
       " 'ER-3': 2243,\n",
       " 'ER-10': 2272,\n",
       " 'ER-20': 2,\n",
       " 'ER-1': 3,\n",
       " 'ER-6': 1,\n",
       " 'NR-6': 2255,\n",
       " 'NR-20': 2208,\n",
       " 'NR-1': 2177,\n",
       " 'NR-10': 2,\n",
       " 'NR-3': 2,\n",
       " 'NR-30': 2}"
      ]
     },
     "execution_count": 4,
     "metadata": {},
     "output_type": "execute_result"
    }
   ],
   "source": [
    "counts"
   ]
  },
  {
   "cell_type": "markdown",
   "id": "explicit-andorra",
   "metadata": {},
   "source": [
    "### Balance Classes"
   ]
  },
  {
   "cell_type": "code",
   "execution_count": 5,
   "id": "threatened-support",
   "metadata": {},
   "outputs": [],
   "source": [
    "transforms = torch.nn.Sequential(\n",
    "    T.RandomAffine(degrees=45),\n",
    "    T.RandomHorizontalFlip(p=0.5),\n",
    "    T.GaussianBlur(3, sigma=(0.1, 2.0)),\n",
    ")"
   ]
  },
  {
   "cell_type": "code",
   "execution_count": 42,
   "id": "sitting-identity",
   "metadata": {},
   "outputs": [
    {
     "name": "stdout",
     "output_type": "stream",
     "text": [
      "Wall time: 6min 33s\n"
     ]
    }
   ],
   "source": [
    "%%time\n",
    "ii = 0\n",
    "for filename in os.listdir(er_trdat_path):\n",
    "    img = Image.open(er_trdat_path + filename)\n",
    "    fn_parts = filename.split('_')\n",
    "    ind = fn_parts.index('ER')\n",
    "    regr = fn_parts[ind+1]    \n",
    "    tensor = F.to_tensor(img)\n",
    "    n = 0\n",
    "    if regr == '1':\n",
    "        n = 740\n",
    "    if regr == '6':\n",
    "        n = 2200\n",
    "    if regr == '20':\n",
    "        n = 1100\n",
    "    tr = F.crop(tensor, 192, 192, 192, 192)\n",
    "    tr = F.resize(tr, [64, 64])\n",
    "    img = F.to_pil_image(tr)\n",
    "    img.save(balanced_path + f'{ii}-ER-{regr}.png')\n",
    "    ii += 1\n",
    "    for i in range(n):        \n",
    "        tr = transforms(tensor)\n",
    "        tr = F.crop(tr, 192, 192, 192, 192)\n",
    "        tr = F.resize(tr, [64, 64])\n",
    "        img = F.to_pil_image(tr)\n",
    "        img.save(balanced_path + f'{ii}-ER-{regr}.png')\n",
    "        ii += 1\n",
    "for filename in os.listdir(nr_trdat_path):\n",
    "    img = Image.open(nr_trdat_path + filename)\n",
    "    fn_parts = filename.split('_')\n",
    "    ind = fn_parts.index('NR')\n",
    "    regr = fn_parts[ind+1]    \n",
    "    tensor = F.to_tensor(img)\n",
    "    n = 0\n",
    "    if regr in {'3', '10', '30'}:\n",
    "        n = 1100\n",
    "    tr = F.crop(tensor, 192, 192, 192, 192)\n",
    "    tr = F.resize(tr, [64, 64])\n",
    "    img = F.to_pil_image(tr)\n",
    "    img.save(balanced_path + f'{ii}-NR-{regr}.png')\n",
    "    ii += 1\n",
    "    for i in range(n):        \n",
    "        tr = transforms(tensor)\n",
    "        tr = F.crop(tr, 192, 192, 192, 192)\n",
    "        tr = F.resize(tr, [64, 64])\n",
    "        img = F.to_pil_image(tr)\n",
    "        img.save(balanced_path + f'{ii}-NR-{regr}.png')\n",
    "        ii += 1"
   ]
  },
  {
   "cell_type": "code",
   "execution_count": 43,
   "id": "monetary-physics",
   "metadata": {},
   "outputs": [
    {
     "data": {
      "text/plain": [
       "{'ER-30.png': 2237,\n",
       " 'ER-3.png': 2243,\n",
       " 'ER-6.png': 2201,\n",
       " 'ER-10.png': 2272,\n",
       " 'ER-20.png': 2202,\n",
       " 'ER-1.png': 2223,\n",
       " 'NR-6.png': 2255,\n",
       " 'NR-20.png': 2208,\n",
       " 'NR-1.png': 2177,\n",
       " 'NR-10.png': 2202,\n",
       " 'NR-3.png': 2202,\n",
       " 'NR-30.png': 2202}"
      ]
     },
     "execution_count": 43,
     "metadata": {},
     "output_type": "execute_result"
    }
   ],
   "source": [
    "counts = dict()\n",
    "for filename in os.listdir(balanced_path):\n",
    "    fn_parts = filename.split('-')\n",
    "    if fn_parts.count('ER'):\n",
    "        cl = 'ER'\n",
    "    else:\n",
    "        cl = 'NR'\n",
    "    regr = fn_parts[2]\n",
    "    counts[f'{cl}-{regr}'] = counts.get(f'{cl}-{regr}', 0) + 1\n",
    "counts"
   ]
  }
 ],
 "metadata": {
  "kernelspec": {
   "display_name": "Python 3",
   "language": "python",
   "name": "python3"
  },
  "language_info": {
   "codemirror_mode": {
    "name": "ipython",
    "version": 3
   },
   "file_extension": ".py",
   "mimetype": "text/x-python",
   "name": "python",
   "nbconvert_exporter": "python",
   "pygments_lexer": "ipython3",
   "version": "3.7.9"
  }
 },
 "nbformat": 4,
 "nbformat_minor": 5
}
