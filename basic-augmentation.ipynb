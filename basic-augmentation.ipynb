{
 "cells": [
  {
   "cell_type": "code",
   "execution_count": 1,
   "id": "modern-salmon",
   "metadata": {},
   "outputs": [],
   "source": [
    "import numpy as np\n",
    "import os\n",
    "import pandas as pd\n",
    "import torchvision.transforms as T\n",
    "import torchvision.transforms.functional as F\n",
    "import torch\n",
    "from PIL import Image\n",
    "\n",
    "torch.manual_seed(42)\n",
    "import warnings\n",
    "warnings.filterwarnings('ignore')\n",
    "\n",
    "from matplotlib import pyplot as plt\n",
    "%matplotlib inline"
   ]
  },
  {
   "cell_type": "code",
   "execution_count": 6,
   "id": "terminal-breakfast",
   "metadata": {},
   "outputs": [],
   "source": [
    "er_trdat_path = './data/train/ER/'\n",
    "nr_trdat_path = './data/train/NR/'\n",
    "cropdat_path = './data/train/all_cropped/'\n",
    "balanced_path = './data/train/all_balanced/'\n",
    "augmented_path = './data/train/all_augmented/'\n",
    "testdat_path = './data/test/'\n",
    "cropped_testdat_path = './data/test_cropped/'\n",
    "\n",
    "if not os.path.exists(cropdat_path):\n",
    "    os.mkdir(cropdat_path)\n",
    "if not os.path.exists(balanced_path):\n",
    "    os.mkdir(balanced_path)\n",
    "if not os.path.exists(cropped_testdat_path):\n",
    "    os.mkdir(cropped_testdat_path)\n",
    "if not os.path.exists(augmented_path):\n",
    "    os.mkdir(augmented_path)"
   ]
  },
  {
   "cell_type": "markdown",
   "id": "unlike-essence",
   "metadata": {},
   "source": [
    "### Crop Train Images"
   ]
  },
  {
   "cell_type": "code",
   "execution_count": 3,
   "id": "hawaiian-feedback",
   "metadata": {},
   "outputs": [
    {
     "name": "stdout",
     "output_type": "stream",
     "text": [
      "Wall time: 2min 13s\n"
     ]
    }
   ],
   "source": [
    "%%time\n",
    "counts = dict()\n",
    "i = 0\n",
    "for filename in os.listdir(er_trdat_path):\n",
    "    fn_parts = filename.split('_')\n",
    "    ind =  fn_parts.index('ER')\n",
    "    regr = fn_parts[ind+1]\n",
    "    if regr not in {'1', '3', '6', '10', '20', '30'}:\n",
    "        print(f'error fn_parts[7]')\n",
    "        print(fn_parts)\n",
    "        print(filename)\n",
    "        break    \n",
    "    img = Image.open(er_trdat_path + filename)\n",
    "    tensor = F.to_tensor(img)\n",
    "    tr = F.crop(tensor, 192, 192, 192, 192)\n",
    "    tr = F.resize(tr, [64, 64])\n",
    "    img = F.to_pil_image(tr)\n",
    "    img.save(cropdat_path + f'{i}-ER-{regr}.png')\n",
    "    counts[f'ER-{regr}'] = counts.get(f'ER-{regr}', 0) + 1\n",
    "    i += 1\n",
    "for filename in os.listdir(nr_trdat_path):\n",
    "    fn_parts = filename.split('_')\n",
    "    ind =  fn_parts.index('NR')\n",
    "    regr = fn_parts[ind+1]\n",
    "    if regr not in {'1', '3', '6', '10', '20', '30'}:\n",
    "        print(f'error fn_parts[7]')\n",
    "        print(fn_parts)\n",
    "        print(filename)\n",
    "        break    \n",
    "    img = Image.open(nr_trdat_path + filename)\n",
    "    tensor = F.to_tensor(img)\n",
    "    tr = F.crop(tensor, 192, 192, 192, 192)\n",
    "    tr = F.resize(tr, [64, 64])\n",
    "    img = F.to_pil_image(tr)\n",
    "    img.save(cropdat_path + f'{i}-NR-{regr}.png')\n",
    "    counts[f'NR-{regr}'] = counts.get(f'NR-{regr}', 0) + 1\n",
    "    i += 1"
   ]
  },
  {
   "cell_type": "markdown",
   "id": "filled-wallet",
   "metadata": {},
   "source": [
    "### Class Destribution"
   ]
  },
  {
   "cell_type": "code",
   "execution_count": 5,
   "id": "clean-capacity",
   "metadata": {},
   "outputs": [
    {
     "data": {
      "text/plain": [
       "{'ER-30': 2237,\n",
       " 'ER-3': 2243,\n",
       " 'ER-10': 2272,\n",
       " 'ER-20': 2,\n",
       " 'ER-1': 3,\n",
       " 'ER-6': 1,\n",
       " 'NR-6': 2255,\n",
       " 'NR-20': 2208,\n",
       " 'NR-1': 2177,\n",
       " 'NR-10': 2,\n",
       " 'NR-3': 2,\n",
       " 'NR-30': 2}"
      ]
     },
     "execution_count": 5,
     "metadata": {},
     "output_type": "execute_result"
    }
   ],
   "source": [
    "counts"
   ]
  },
  {
   "cell_type": "markdown",
   "id": "explicit-andorra",
   "metadata": {},
   "source": [
    "### Balance Classes"
   ]
  },
  {
   "cell_type": "code",
   "execution_count": 7,
   "id": "central-jungle",
   "metadata": {},
   "outputs": [],
   "source": [
    "transforms = torch.nn.Sequential(\n",
    "    T.RandomAffine(degrees=45),\n",
    "    T.RandomHorizontalFlip(p=0.5),\n",
    ")"
   ]
  },
  {
   "cell_type": "code",
   "execution_count": 8,
   "id": "entertaining-indonesia",
   "metadata": {},
   "outputs": [
    {
     "name": "stdout",
     "output_type": "stream",
     "text": [
      "Wall time: 4min 57s\n"
     ]
    }
   ],
   "source": [
    "%%time\n",
    "ii = 0\n",
    "for filename in os.listdir(er_trdat_path):\n",
    "    img = Image.open(er_trdat_path + filename)\n",
    "    fn_parts = filename.split('_')\n",
    "    ind = fn_parts.index('ER')\n",
    "    regr = fn_parts[ind+1]    \n",
    "    tensor = F.to_tensor(img)\n",
    "    n = 0\n",
    "    if regr == '1':\n",
    "        n = 740\n",
    "    if regr == '6':\n",
    "        n = 2200\n",
    "    if regr == '20':\n",
    "        n = 1100\n",
    "    tr = F.crop(tensor, 192, 192, 192, 192)\n",
    "    tr = F.resize(tr, [64, 64])\n",
    "    img = F.to_pil_image(tr)\n",
    "    img.save(balanced_path + f'{ii}-ER-{regr}.png')\n",
    "    ii += 1\n",
    "    for i in range(n):        \n",
    "        tr = transforms(tensor)\n",
    "        tr = F.crop(tr, 192, 192, 192, 192)\n",
    "        tr = F.resize(tr, [64, 64])\n",
    "        img = F.to_pil_image(tr)\n",
    "        img.save(balanced_path + f'{ii}-ER-{regr}.png')\n",
    "        ii += 1\n",
    "for filename in os.listdir(nr_trdat_path):\n",
    "    img = Image.open(nr_trdat_path + filename)\n",
    "    fn_parts = filename.split('_')\n",
    "    ind = fn_parts.index('NR')\n",
    "    regr = fn_parts[ind+1]    \n",
    "    tensor = F.to_tensor(img)\n",
    "    n = 0\n",
    "    if regr in {'3', '10', '30'}:\n",
    "        n = 1100\n",
    "    tr = F.crop(tensor, 192, 192, 192, 192)\n",
    "    tr = F.resize(tr, [64, 64])\n",
    "    img = F.to_pil_image(tr)\n",
    "    img.save(balanced_path + f'{ii}-NR-{regr}.png')\n",
    "    ii += 1\n",
    "    for i in range(n):        \n",
    "        tr = transforms(tensor)\n",
    "        tr = F.crop(tr, 192, 192, 192, 192)\n",
    "        tr = F.resize(tr, [64, 64])\n",
    "        img = F.to_pil_image(tr)\n",
    "        img.save(balanced_path + f'{ii}-NR-{regr}.png')\n",
    "        ii += 1"
   ]
  },
  {
   "cell_type": "code",
   "execution_count": 9,
   "id": "adverse-cable",
   "metadata": {},
   "outputs": [
    {
     "data": {
      "text/plain": [
       "{'ER-30.png': 2237,\n",
       " 'ER-3.png': 2243,\n",
       " 'ER-6.png': 2201,\n",
       " 'ER-10.png': 2272,\n",
       " 'ER-20.png': 2202,\n",
       " 'ER-1.png': 2223,\n",
       " 'NR-6.png': 2255,\n",
       " 'NR-20.png': 2208,\n",
       " 'NR-1.png': 2177,\n",
       " 'NR-10.png': 2202,\n",
       " 'NR-3.png': 2202,\n",
       " 'NR-30.png': 2202}"
      ]
     },
     "execution_count": 9,
     "metadata": {},
     "output_type": "execute_result"
    }
   ],
   "source": [
    "counts = dict()\n",
    "for filename in os.listdir(balanced_path):\n",
    "    fn_parts = filename.split('-')\n",
    "    if fn_parts.count('ER'):\n",
    "        cl = 'ER'\n",
    "    else:\n",
    "        cl = 'NR'\n",
    "    regr = fn_parts[2]\n",
    "    counts[f'{cl}-{regr}'] = counts.get(f'{cl}-{regr}', 0) + 1\n",
    "counts"
   ]
  },
  {
   "cell_type": "markdown",
   "id": "affecting-copyright",
   "metadata": {},
   "source": [
    "### Augment Train"
   ]
  },
  {
   "cell_type": "code",
   "execution_count": null,
   "id": "collective-medicaid",
   "metadata": {},
   "outputs": [],
   "source": [
    "%%time\n",
    "ii = 0\n",
    "for filename in os.listdir(er_trdat_path):\n",
    "    img = Image.open(er_trdat_path + filename)\n",
    "    fn_parts = filename.split('_')\n",
    "    ind = fn_parts.index('ER')\n",
    "    regr = fn_parts[ind+1]    \n",
    "    tensor = F.to_tensor(img)\n",
    "    tr = F.crop(tensor, 192, 192, 192, 192)\n",
    "    tr = F.resize(tr, [64, 64])\n",
    "    img = F.to_pil_image(tr)\n",
    "    img.save(augmented_path + f'{ii}-ER-{regr}.png')\n",
    "    ii += 1\n",
    "    for angle in range(1, 360):        \n",
    "        tr = F.affine(tensor, angle, (0, 0), 1, 0)\n",
    "        tr = F.crop(tr, 192, 192, 192, 192)\n",
    "        tr = F.resize(tr, [64, 64])\n",
    "        img = F.to_pil_image(tr)\n",
    "        img.save(augmented_path + f'{ii}-ER-{regr}.png')\n",
    "        ii += 1\n",
    "for filename in os.listdir(nr_trdat_path):\n",
    "    img = Image.open(nr_trdat_path + filename)\n",
    "    fn_parts = filename.split('_')\n",
    "    ind = fn_parts.index('NR')\n",
    "    regr = fn_parts[ind+1]    \n",
    "    tensor = F.to_tensor(img)\n",
    "    tr = F.crop(tensor, 192, 192, 192, 192)\n",
    "    tr = F.resize(tr, [64, 64])\n",
    "    img = F.to_pil_image(tr)\n",
    "    img.save(augmented_path + f'{ii}-ER-{regr}.png')\n",
    "    ii += 1\n",
    "    for angle in range(1, 360):        \n",
    "        tr = F.affine(tensor, angle=angle)\n",
    "        tr = F.crop(tr, 192, 192, 192, 192)\n",
    "        tr = F.resize(tr, [64, 64])\n",
    "        img = F.to_pil_image(tr)\n",
    "        img.save(augmented_path + f'{ii}-NR-{regr}.png')\n",
    "        ii += 1"
   ]
  },
  {
   "cell_type": "code",
   "execution_count": null,
   "id": "massive-humor",
   "metadata": {},
   "outputs": [],
   "source": []
  },
  {
   "cell_type": "code",
   "execution_count": null,
   "id": "patent-google",
   "metadata": {},
   "outputs": [],
   "source": []
  },
  {
   "cell_type": "markdown",
   "id": "boring-application",
   "metadata": {},
   "source": [
    "### Crop Test"
   ]
  },
  {
   "cell_type": "code",
   "execution_count": null,
   "id": "uniform-prediction",
   "metadata": {},
   "outputs": [],
   "source": []
  },
  {
   "cell_type": "code",
   "execution_count": null,
   "id": "decent-adolescent",
   "metadata": {},
   "outputs": [],
   "source": []
  }
 ],
 "metadata": {
  "kernelspec": {
   "display_name": "Python 3",
   "language": "python",
   "name": "python3"
  },
  "language_info": {
   "codemirror_mode": {
    "name": "ipython",
    "version": 3
   },
   "file_extension": ".py",
   "mimetype": "text/x-python",
   "name": "python",
   "nbconvert_exporter": "python",
   "pygments_lexer": "ipython3",
   "version": "3.7.9"
  }
 },
 "nbformat": 4,
 "nbformat_minor": 5
}
