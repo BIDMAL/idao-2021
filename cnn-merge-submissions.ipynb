{
 "cells": [
  {
   "cell_type": "code",
   "execution_count": 7,
   "id": "arbitrary-apparel",
   "metadata": {},
   "outputs": [],
   "source": [
    "import pandas as pd"
   ]
  },
  {
   "cell_type": "code",
   "execution_count": 8,
   "id": "alpha-particular",
   "metadata": {},
   "outputs": [],
   "source": [
    "cls = pd.read_csv('./submissions/submission_tryCNN_cls.csv')\n",
    "reg = pd.read_csv('./submissions/submission_tryCNN_reg.csv')"
   ]
  },
  {
   "cell_type": "code",
   "execution_count": 10,
   "id": "latest-visit",
   "metadata": {},
   "outputs": [],
   "source": [
    "cls['classification_predictions'] = cls.classification_predictions.replace({0: 1, 1:0})"
   ]
  },
  {
   "cell_type": "code",
   "execution_count": 12,
   "id": "prescribed-carnival",
   "metadata": {},
   "outputs": [],
   "source": [
    "cls['regression_predictions'] = reg['regression_predictions']"
   ]
  },
  {
   "cell_type": "code",
   "execution_count": null,
   "id": "southeast-fruit",
   "metadata": {},
   "outputs": [],
   "source": []
  },
  {
   "cell_type": "code",
   "execution_count": null,
   "id": "divine-david",
   "metadata": {},
   "outputs": [],
   "source": []
  },
  {
   "cell_type": "code",
   "execution_count": 14,
   "id": "monetary-avenue",
   "metadata": {},
   "outputs": [],
   "source": [
    "cls.to_csv('./submissions/submission_tryCNN_1.csv', index=False, header=True)"
   ]
  },
  {
   "cell_type": "code",
   "execution_count": null,
   "id": "senior-boards",
   "metadata": {},
   "outputs": [],
   "source": []
  }
 ],
 "metadata": {
  "kernelspec": {
   "display_name": "Python 3",
   "language": "python",
   "name": "python3"
  },
  "language_info": {
   "codemirror_mode": {
    "name": "ipython",
    "version": 3
   },
   "file_extension": ".py",
   "mimetype": "text/x-python",
   "name": "python",
   "nbconvert_exporter": "python",
   "pygments_lexer": "ipython3",
   "version": "3.7.9"
  }
 },
 "nbformat": 4,
 "nbformat_minor": 5
}
