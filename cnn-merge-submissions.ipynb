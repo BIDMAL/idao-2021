{
 "cells": [
  {
   "cell_type": "code",
   "execution_count": 1,
   "id": "arbitrary-apparel",
   "metadata": {},
   "outputs": [],
   "source": [
    "import pandas as pd"
   ]
  },
  {
   "cell_type": "code",
   "execution_count": 2,
   "id": "alpha-particular",
   "metadata": {},
   "outputs": [],
   "source": [
    "cls = pd.read_csv('./submissions/cnn-v3-type.csv')\n",
    "reg = pd.read_csv('./submissions/cnn-v4-nrj.csv')"
   ]
  },
  {
   "cell_type": "code",
   "execution_count": 3,
   "id": "outstanding-breach",
   "metadata": {},
   "outputs": [
    {
     "data": {
      "text/html": [
       "<div>\n",
       "<style scoped>\n",
       "    .dataframe tbody tr th:only-of-type {\n",
       "        vertical-align: middle;\n",
       "    }\n",
       "\n",
       "    .dataframe tbody tr th {\n",
       "        vertical-align: top;\n",
       "    }\n",
       "\n",
       "    .dataframe thead th {\n",
       "        text-align: right;\n",
       "    }\n",
       "</style>\n",
       "<table border=\"1\" class=\"dataframe\">\n",
       "  <thead>\n",
       "    <tr style=\"text-align: right;\">\n",
       "      <th></th>\n",
       "      <th>id</th>\n",
       "      <th>classification_predictions</th>\n",
       "    </tr>\n",
       "  </thead>\n",
       "  <tbody>\n",
       "    <tr>\n",
       "      <th>0</th>\n",
       "      <td>0002894871bb30af2670648c58b2506e9801a321</td>\n",
       "      <td>0</td>\n",
       "    </tr>\n",
       "    <tr>\n",
       "      <th>1</th>\n",
       "      <td>000a95ca23df016a149ff9af94b6e9d8633d6691</td>\n",
       "      <td>1</td>\n",
       "    </tr>\n",
       "    <tr>\n",
       "      <th>2</th>\n",
       "      <td>000b4407dee7dad2ba46586e6ba1264f45965e51</td>\n",
       "      <td>1</td>\n",
       "    </tr>\n",
       "    <tr>\n",
       "      <th>3</th>\n",
       "      <td>000c45d729066044e3dd3f885fddf013b845b6d7</td>\n",
       "      <td>0</td>\n",
       "    </tr>\n",
       "    <tr>\n",
       "      <th>4</th>\n",
       "      <td>0011f80e44faa713714ead6aeab3b2f9db54aebd</td>\n",
       "      <td>1</td>\n",
       "    </tr>\n",
       "    <tr>\n",
       "      <th>...</th>\n",
       "      <td>...</td>\n",
       "      <td>...</td>\n",
       "    </tr>\n",
       "    <tr>\n",
       "      <th>16559</th>\n",
       "      <td>ff343a62752061d995f94ebc10ac53f79d1b5ab1</td>\n",
       "      <td>0</td>\n",
       "    </tr>\n",
       "    <tr>\n",
       "      <th>16560</th>\n",
       "      <td>ff897755cb312cd6f510ba7a38cb293e648d97d5</td>\n",
       "      <td>0</td>\n",
       "    </tr>\n",
       "    <tr>\n",
       "      <th>16561</th>\n",
       "      <td>ff9a93402457ac514cd069a7ce3f2e32692f5290</td>\n",
       "      <td>1</td>\n",
       "    </tr>\n",
       "    <tr>\n",
       "      <th>16562</th>\n",
       "      <td>ffedc12ec5c142dae2086408b778cf0db2ff944e</td>\n",
       "      <td>0</td>\n",
       "    </tr>\n",
       "    <tr>\n",
       "      <th>16563</th>\n",
       "      <td>fffdd654bd60b81ffd51a723a8839b8f5381feba</td>\n",
       "      <td>1</td>\n",
       "    </tr>\n",
       "  </tbody>\n",
       "</table>\n",
       "<p>16564 rows × 2 columns</p>\n",
       "</div>"
      ],
      "text/plain": [
       "                                             id  classification_predictions\n",
       "0      0002894871bb30af2670648c58b2506e9801a321                           0\n",
       "1      000a95ca23df016a149ff9af94b6e9d8633d6691                           1\n",
       "2      000b4407dee7dad2ba46586e6ba1264f45965e51                           1\n",
       "3      000c45d729066044e3dd3f885fddf013b845b6d7                           0\n",
       "4      0011f80e44faa713714ead6aeab3b2f9db54aebd                           1\n",
       "...                                         ...                         ...\n",
       "16559  ff343a62752061d995f94ebc10ac53f79d1b5ab1                           0\n",
       "16560  ff897755cb312cd6f510ba7a38cb293e648d97d5                           0\n",
       "16561  ff9a93402457ac514cd069a7ce3f2e32692f5290                           1\n",
       "16562  ffedc12ec5c142dae2086408b778cf0db2ff944e                           0\n",
       "16563  fffdd654bd60b81ffd51a723a8839b8f5381feba                           1\n",
       "\n",
       "[16564 rows x 2 columns]"
      ]
     },
     "execution_count": 3,
     "metadata": {},
     "output_type": "execute_result"
    }
   ],
   "source": [
    "cls"
   ]
  },
  {
   "cell_type": "code",
   "execution_count": 4,
   "id": "latest-visit",
   "metadata": {},
   "outputs": [],
   "source": [
    "cls['classification_predictions'] = cls.classification_predictions.replace({0: 1, 1:0})\n",
    "cls['regression_predictions'] = reg['regression_predictions']\n",
    "cls.to_csv('./submissions/cnn-v3p5.csv', index=False, header=True)"
   ]
  },
  {
   "cell_type": "code",
   "execution_count": null,
   "id": "wired-yellow",
   "metadata": {},
   "outputs": [],
   "source": []
  }
 ],
 "metadata": {
  "kernelspec": {
   "display_name": "Python 3",
   "language": "python",
   "name": "python3"
  },
  "language_info": {
   "codemirror_mode": {
    "name": "ipython",
    "version": 3
   },
   "file_extension": ".py",
   "mimetype": "text/x-python",
   "name": "python",
   "nbconvert_exporter": "python",
   "pygments_lexer": "ipython3",
   "version": "3.7.9"
  }
 },
 "nbformat": 4,
 "nbformat_minor": 5
}
