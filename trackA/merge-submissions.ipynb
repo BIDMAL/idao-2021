{
 "cells": [
  {
   "cell_type": "code",
   "execution_count": 1,
   "id": "arbitrary-apparel",
   "metadata": {},
   "outputs": [],
   "source": [
    "import pandas as pd"
   ]
  },
  {
   "cell_type": "code",
   "execution_count": 2,
   "id": "alpha-particular",
   "metadata": {},
   "outputs": [],
   "source": [
    "scn_cls = pd.read_csv('./SCNc2.csv')\n",
    "scn_reg = pd.read_csv('./SCNc6.csv')\n",
    "cnn_cls = pd.read_csv('./CNNc2.csv')\n",
    "cnn_reg = pd.read_csv('./CNNc6.csv')"
   ]
  },
  {
   "cell_type": "markdown",
   "id": "breathing-afghanistan",
   "metadata": {},
   "source": [
    "### CNN modes"
   ]
  },
  {
   "cell_type": "code",
   "execution_count": 5,
   "id": "falling-october",
   "metadata": {},
   "outputs": [
    {
     "data": {
      "text/html": [
       "<div>\n",
       "<style scoped>\n",
       "    .dataframe tbody tr th:only-of-type {\n",
       "        vertical-align: middle;\n",
       "    }\n",
       "\n",
       "    .dataframe tbody tr th {\n",
       "        vertical-align: top;\n",
       "    }\n",
       "\n",
       "    .dataframe thead th {\n",
       "        text-align: right;\n",
       "    }\n",
       "</style>\n",
       "<table border=\"1\" class=\"dataframe\">\n",
       "  <thead>\n",
       "    <tr style=\"text-align: right;\">\n",
       "      <th></th>\n",
       "      <th>id</th>\n",
       "      <th>classification_predictions</th>\n",
       "      <th>regression_predictions</th>\n",
       "    </tr>\n",
       "  </thead>\n",
       "  <tbody>\n",
       "    <tr>\n",
       "      <th>0</th>\n",
       "      <td>00013a94f1fae3e5a33f8b44c2842c85f0483e96</td>\n",
       "      <td>1</td>\n",
       "      <td>3.0</td>\n",
       "    </tr>\n",
       "    <tr>\n",
       "      <th>1</th>\n",
       "      <td>0005564c011259402dcb6e3beb6e64d285124fa0</td>\n",
       "      <td>1</td>\n",
       "      <td>30.0</td>\n",
       "    </tr>\n",
       "    <tr>\n",
       "      <th>2</th>\n",
       "      <td>0007520c8d8efade8feaafbf74fc7d206cdf229d</td>\n",
       "      <td>0</td>\n",
       "      <td>30.0</td>\n",
       "    </tr>\n",
       "    <tr>\n",
       "      <th>3</th>\n",
       "      <td>000804a189f630cd980ff1543c0ef99d48cd6b34</td>\n",
       "      <td>0</td>\n",
       "      <td>1.0</td>\n",
       "    </tr>\n",
       "    <tr>\n",
       "      <th>4</th>\n",
       "      <td>000eb12def5371089743dcfe401a8e399f5883fc</td>\n",
       "      <td>0</td>\n",
       "      <td>30.0</td>\n",
       "    </tr>\n",
       "  </tbody>\n",
       "</table>\n",
       "</div>"
      ],
      "text/plain": [
       "                                         id  classification_predictions  \\\n",
       "0  00013a94f1fae3e5a33f8b44c2842c85f0483e96                           1   \n",
       "1  0005564c011259402dcb6e3beb6e64d285124fa0                           1   \n",
       "2  0007520c8d8efade8feaafbf74fc7d206cdf229d                           0   \n",
       "3  000804a189f630cd980ff1543c0ef99d48cd6b34                           0   \n",
       "4  000eb12def5371089743dcfe401a8e399f5883fc                           0   \n",
       "\n",
       "   regression_predictions  \n",
       "0                     3.0  \n",
       "1                    30.0  \n",
       "2                    30.0  \n",
       "3                     1.0  \n",
       "4                    30.0  "
      ]
     },
     "execution_count": 5,
     "metadata": {},
     "output_type": "execute_result"
    }
   ],
   "source": [
    "cnn_modes = pd.DataFrame()\n",
    "cnn_modes['id'] = cnn_cls['id']\n",
    "cnn_modes['classification_predictions'] = cnn_cls.mode(axis=1, numeric_only=True)[0]\n",
    "cnn_modes['regression_predictions'] = cnn_reg.mode(axis=1, numeric_only=True)[0]\n",
    "cnn_modes.to_csv('CNN_modes.csv', index=False, header=True)\n",
    "cnn_modes.head()"
   ]
  },
  {
   "cell_type": "markdown",
   "id": "proper-mercy",
   "metadata": {},
   "source": [
    "### SCN modes"
   ]
  },
  {
   "cell_type": "code",
   "execution_count": 6,
   "id": "possible-string",
   "metadata": {},
   "outputs": [
    {
     "data": {
      "text/html": [
       "<div>\n",
       "<style scoped>\n",
       "    .dataframe tbody tr th:only-of-type {\n",
       "        vertical-align: middle;\n",
       "    }\n",
       "\n",
       "    .dataframe tbody tr th {\n",
       "        vertical-align: top;\n",
       "    }\n",
       "\n",
       "    .dataframe thead th {\n",
       "        text-align: right;\n",
       "    }\n",
       "</style>\n",
       "<table border=\"1\" class=\"dataframe\">\n",
       "  <thead>\n",
       "    <tr style=\"text-align: right;\">\n",
       "      <th></th>\n",
       "      <th>id</th>\n",
       "      <th>classification_predictions</th>\n",
       "      <th>regression_predictions</th>\n",
       "    </tr>\n",
       "  </thead>\n",
       "  <tbody>\n",
       "    <tr>\n",
       "      <th>0</th>\n",
       "      <td>00013a94f1fae3e5a33f8b44c2842c85f0483e96</td>\n",
       "      <td>1.0</td>\n",
       "      <td>10.0</td>\n",
       "    </tr>\n",
       "    <tr>\n",
       "      <th>1</th>\n",
       "      <td>0005564c011259402dcb6e3beb6e64d285124fa0</td>\n",
       "      <td>1.0</td>\n",
       "      <td>30.0</td>\n",
       "    </tr>\n",
       "    <tr>\n",
       "      <th>2</th>\n",
       "      <td>0007520c8d8efade8feaafbf74fc7d206cdf229d</td>\n",
       "      <td>0.0</td>\n",
       "      <td>20.0</td>\n",
       "    </tr>\n",
       "    <tr>\n",
       "      <th>3</th>\n",
       "      <td>000804a189f630cd980ff1543c0ef99d48cd6b34</td>\n",
       "      <td>0.0</td>\n",
       "      <td>1.0</td>\n",
       "    </tr>\n",
       "    <tr>\n",
       "      <th>4</th>\n",
       "      <td>000eb12def5371089743dcfe401a8e399f5883fc</td>\n",
       "      <td>0.0</td>\n",
       "      <td>20.0</td>\n",
       "    </tr>\n",
       "  </tbody>\n",
       "</table>\n",
       "</div>"
      ],
      "text/plain": [
       "                                         id  classification_predictions  \\\n",
       "0  00013a94f1fae3e5a33f8b44c2842c85f0483e96                         1.0   \n",
       "1  0005564c011259402dcb6e3beb6e64d285124fa0                         1.0   \n",
       "2  0007520c8d8efade8feaafbf74fc7d206cdf229d                         0.0   \n",
       "3  000804a189f630cd980ff1543c0ef99d48cd6b34                         0.0   \n",
       "4  000eb12def5371089743dcfe401a8e399f5883fc                         0.0   \n",
       "\n",
       "   regression_predictions  \n",
       "0                    10.0  \n",
       "1                    30.0  \n",
       "2                    20.0  \n",
       "3                     1.0  \n",
       "4                    20.0  "
      ]
     },
     "execution_count": 6,
     "metadata": {},
     "output_type": "execute_result"
    }
   ],
   "source": [
    "scn_modes = pd.DataFrame()\n",
    "scn_modes['id'] = cnn_cls['id']\n",
    "scn_modes['classification_predictions'] = scn_cls.mode(axis=1, numeric_only=True)[0]\n",
    "scn_modes['regression_predictions'] = scn_reg.mode(axis=1, numeric_only=True)[0]\n",
    "scn_modes.to_csv('SCN_modes.csv', index=False, header=True)\n",
    "scn_modes.head()"
   ]
  },
  {
   "cell_type": "markdown",
   "id": "experienced-negative",
   "metadata": {},
   "source": [
    "### All modes"
   ]
  },
  {
   "cell_type": "code",
   "execution_count": 17,
   "id": "unlike-stations",
   "metadata": {},
   "outputs": [],
   "source": [
    "all_cls = pd.concat([scn_cls, cnn_cls.drop(columns='id')], axis=1)\n",
    "all_reg = pd.concat([scn_reg, cnn_reg.drop(columns='id')], axis=1)"
   ]
  },
  {
   "cell_type": "code",
   "execution_count": 18,
   "id": "helpful-entertainment",
   "metadata": {},
   "outputs": [
    {
     "data": {
      "text/html": [
       "<div>\n",
       "<style scoped>\n",
       "    .dataframe tbody tr th:only-of-type {\n",
       "        vertical-align: middle;\n",
       "    }\n",
       "\n",
       "    .dataframe tbody tr th {\n",
       "        vertical-align: top;\n",
       "    }\n",
       "\n",
       "    .dataframe thead th {\n",
       "        text-align: right;\n",
       "    }\n",
       "</style>\n",
       "<table border=\"1\" class=\"dataframe\">\n",
       "  <thead>\n",
       "    <tr style=\"text-align: right;\">\n",
       "      <th></th>\n",
       "      <th>id</th>\n",
       "      <th>classification_predictions</th>\n",
       "      <th>regression_predictions</th>\n",
       "    </tr>\n",
       "  </thead>\n",
       "  <tbody>\n",
       "    <tr>\n",
       "      <th>0</th>\n",
       "      <td>00013a94f1fae3e5a33f8b44c2842c85f0483e96</td>\n",
       "      <td>1</td>\n",
       "      <td>10.0</td>\n",
       "    </tr>\n",
       "    <tr>\n",
       "      <th>1</th>\n",
       "      <td>0005564c011259402dcb6e3beb6e64d285124fa0</td>\n",
       "      <td>1</td>\n",
       "      <td>30.0</td>\n",
       "    </tr>\n",
       "    <tr>\n",
       "      <th>2</th>\n",
       "      <td>0007520c8d8efade8feaafbf74fc7d206cdf229d</td>\n",
       "      <td>0</td>\n",
       "      <td>30.0</td>\n",
       "    </tr>\n",
       "    <tr>\n",
       "      <th>3</th>\n",
       "      <td>000804a189f630cd980ff1543c0ef99d48cd6b34</td>\n",
       "      <td>0</td>\n",
       "      <td>1.0</td>\n",
       "    </tr>\n",
       "    <tr>\n",
       "      <th>4</th>\n",
       "      <td>000eb12def5371089743dcfe401a8e399f5883fc</td>\n",
       "      <td>0</td>\n",
       "      <td>20.0</td>\n",
       "    </tr>\n",
       "  </tbody>\n",
       "</table>\n",
       "</div>"
      ],
      "text/plain": [
       "                                         id  classification_predictions  \\\n",
       "0  00013a94f1fae3e5a33f8b44c2842c85f0483e96                           1   \n",
       "1  0005564c011259402dcb6e3beb6e64d285124fa0                           1   \n",
       "2  0007520c8d8efade8feaafbf74fc7d206cdf229d                           0   \n",
       "3  000804a189f630cd980ff1543c0ef99d48cd6b34                           0   \n",
       "4  000eb12def5371089743dcfe401a8e399f5883fc                           0   \n",
       "\n",
       "   regression_predictions  \n",
       "0                    10.0  \n",
       "1                    30.0  \n",
       "2                    30.0  \n",
       "3                     1.0  \n",
       "4                    20.0  "
      ]
     },
     "execution_count": 18,
     "metadata": {},
     "output_type": "execute_result"
    }
   ],
   "source": [
    "all_modes = pd.DataFrame()\n",
    "all_modes['id'] = all_cls['id']\n",
    "all_modes['classification_predictions'] = all_cls.mode(axis=1, numeric_only=True)[0]\n",
    "all_modes['regression_predictions'] = all_reg.mode(axis=1, numeric_only=True)[0]\n",
    "all_modes.to_csv('all_modes.csv', index=False, header=True)\n",
    "all_modes.head()"
   ]
  },
  {
   "cell_type": "code",
   "execution_count": null,
   "id": "marine-timothy",
   "metadata": {},
   "outputs": [],
   "source": []
  }
 ],
 "metadata": {
  "kernelspec": {
   "display_name": "Python 3",
   "language": "python",
   "name": "python3"
  },
  "language_info": {
   "codemirror_mode": {
    "name": "ipython",
    "version": 3
   },
   "file_extension": ".py",
   "mimetype": "text/x-python",
   "name": "python",
   "nbconvert_exporter": "python",
   "pygments_lexer": "ipython3",
   "version": "3.7.9"
  }
 },
 "nbformat": 4,
 "nbformat_minor": 5
}
