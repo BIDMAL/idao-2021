{
 "cells": [
  {
   "cell_type": "code",
   "execution_count": 2,
   "id": "played-commonwealth",
   "metadata": {},
   "outputs": [],
   "source": [
    "import numpy as np\n",
    "import os\n",
    "import pandas as pd\n",
    "import torchvision.transforms as T\n",
    "import torchvision.transforms.functional as F\n",
    "from PIL import Image\n",
    "from catboost import CatBoostClassifier"
   ]
  },
  {
   "cell_type": "code",
   "execution_count": 27,
   "id": "animal-removal",
   "metadata": {},
   "outputs": [],
   "source": [
    "def load_data(public_test_dir, private_test_dir):\n",
    "    X_crp = []\n",
    "    fnames = []\n",
    "    for filename in os.listdir(public_test_dir):\n",
    "        img = Image.open(public_test_dir + filename)\n",
    "        tensor = F.to_tensor(img)\n",
    "        tr = F.crop(tensor, 192, 192, 192, 192)\n",
    "        tr = F.resize(tr, [64, 64])\n",
    "        img = (tr.numpy()*255).astype(np.uint8)\n",
    "        X_crp.append(img.flatten())\n",
    "        fnames.append(filename.split('.')[0])\n",
    "    for filename in os.listdir(private_test_dir):\n",
    "        img = Image.open(private_test_dir + filename)\n",
    "        tensor = F.to_tensor(img)\n",
    "        tr = F.crop(tensor, 192, 192, 192, 192)\n",
    "        tr = F.resize(tr, [64, 64])\n",
    "        img = (tr.numpy()*255).astype(np.uint8)\n",
    "        X_crp.append(img.flatten())\n",
    "        fnames.append(filename.split('.')[0])\n",
    "    X_crp = np.array(X_crp)\n",
    "    return X_crp, fnames\n",
    "\n",
    "\n",
    "def load_models(clf2_path, clf6_path):\n",
    "    clf2_cat = CatBoostClassifier()\n",
    "    clf2_cat.load_model(clf2_path)\n",
    "    clf6_cat = CatBoostClassifier()\n",
    "    clf6_cat.load_model(clf6_path)\n",
    "    return clf2_cat, clf6_cat\n",
    "\n",
    "\n",
    "def make_predictions(X_crp, cls2, cls6):\n",
    "    preds2 = cls2.predict(X_crp)\n",
    "    preds6 = cls6.predict(X_crp)\n",
    "    return preds2, preds6\n",
    "\n",
    "\n",
    "def make_csv(fnames, preds2, preds6):\n",
    "    preds6 = np.stack(preds6, axis=1)[0]\n",
    "    conv_six = {0: 1, 1: 3, 2: 6, 3: 10, 4: 20, 5: 30}\n",
    "    df = pd.DataFrame(fnames, columns=['id'])\n",
    "    df['classification_predictions'] = preds2\n",
    "    df['regression_predictions'] = list(map(lambda x: conv_six[x], preds6))\n",
    "    df.to_csv('submission.csv', index=False)"
   ]
  },
  {
   "cell_type": "code",
   "execution_count": 28,
   "id": "federal-egypt",
   "metadata": {},
   "outputs": [
    {
     "name": "stdout",
     "output_type": "stream",
     "text": [
      "Wall time: 0 ns\n"
     ]
    }
   ],
   "source": [
    "%%time\n",
    "public_test_dir = './tests/public_test/'\n",
    "private_test_dir = './tests/private_test/'\n",
    "clf2_path = './saved_models/cat2.cbm'\n",
    "clf6_path = './saved_models/cat6.cbm'"
   ]
  },
  {
   "cell_type": "code",
   "execution_count": 29,
   "id": "spread-citation",
   "metadata": {},
   "outputs": [
    {
     "name": "stdout",
     "output_type": "stream",
     "text": [
      "Wall time: 47.9 s\n"
     ]
    },
    {
     "data": {
      "text/plain": [
       "array([[102,  95,  98, ...,  96,  97, 103],\n",
       "       [101, 102, 103, ...,  92, 101,  98],\n",
       "       [100, 102,  98, ...,  97, 102,  99],\n",
       "       ...,\n",
       "       [ 99,  94,  99, ..., 102, 104, 102],\n",
       "       [ 98, 107,  99, ...,  98,  97, 100],\n",
       "       [101, 102, 108, ..., 101, 100, 100]], dtype=uint8)"
      ]
     },
     "execution_count": 29,
     "metadata": {},
     "output_type": "execute_result"
    }
   ],
   "source": [
    "%%time\n",
    "X_crp, fnames = load_data(public_test_dir, private_test_dir)\n",
    "X_crp"
   ]
  },
  {
   "cell_type": "code",
   "execution_count": null,
   "id": "private-anaheim",
   "metadata": {},
   "outputs": [],
   "source": []
  },
  {
   "cell_type": "code",
   "execution_count": 31,
   "id": "excess-olive",
   "metadata": {},
   "outputs": [],
   "source": [
    "cls2, cls6 = load_models(clf2_path, clf6_path)"
   ]
  },
  {
   "cell_type": "code",
   "execution_count": null,
   "id": "yellow-valley",
   "metadata": {},
   "outputs": [],
   "source": []
  },
  {
   "cell_type": "code",
   "execution_count": 32,
   "id": "comfortable-marsh",
   "metadata": {},
   "outputs": [
    {
     "name": "stdout",
     "output_type": "stream",
     "text": [
      "Wall time: 13.7 s\n"
     ]
    }
   ],
   "source": [
    "%%time\n",
    "preds2, preds6 = make_predictions(X_crp, cls2, cls6)"
   ]
  },
  {
   "cell_type": "code",
   "execution_count": 33,
   "id": "hairy-charles",
   "metadata": {},
   "outputs": [],
   "source": [
    "make_csv(fnames, preds2, preds6)"
   ]
  },
  {
   "cell_type": "code",
   "execution_count": null,
   "id": "norwegian-voltage",
   "metadata": {},
   "outputs": [],
   "source": []
  }
 ],
 "metadata": {
  "kernelspec": {
   "display_name": "Python 3",
   "language": "python",
   "name": "python3"
  },
  "language_info": {
   "codemirror_mode": {
    "name": "ipython",
    "version": 3
   },
   "file_extension": ".py",
   "mimetype": "text/x-python",
   "name": "python",
   "nbconvert_exporter": "python",
   "pygments_lexer": "ipython3",
   "version": "3.7.9"
  }
 },
 "nbformat": 4,
 "nbformat_minor": 5
}
