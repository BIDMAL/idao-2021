{
 "cells": [
  {
   "cell_type": "code",
   "execution_count": 1,
   "id": "dressed-lewis",
   "metadata": {},
   "outputs": [],
   "source": [
    "import numpy as np\n",
    "import os\n",
    "import pandas as pd\n",
    "import torchvision.transforms as T\n",
    "import torchvision.transforms.functional as F\n",
    "from PIL import Image\n",
    "from xgboost import XGBClassifier"
   ]
  },
  {
   "cell_type": "code",
   "execution_count": 2,
   "id": "ordinary-catering",
   "metadata": {},
   "outputs": [],
   "source": [
    "def load_data(public_test_dir, private_test_dir):\n",
    "    X_crp = []\n",
    "    fnames = []\n",
    "    for filename in os.listdir(public_test_dir):\n",
    "        img = Image.open(public_test_dir + filename)\n",
    "        tensor = F.to_tensor(img)\n",
    "        tr = F.crop(tensor, 192, 192, 192, 192)\n",
    "        tr = F.resize(tr, [64, 64])\n",
    "        img = tr.numpy()\n",
    "        X_crp.append(img.flatten())\n",
    "        fnames.append(filename.split('.')[0])\n",
    "    for filename in os.listdir(private_test_dir):\n",
    "        img = Image.open(private_test_dir + filename)\n",
    "        tensor = F.to_tensor(img)\n",
    "        tr = F.crop(tensor, 192, 192, 192, 192)\n",
    "        tr = F.resize(tr, [64, 64])\n",
    "        img = tr.numpy()\n",
    "        X_crp.append(img.flatten())\n",
    "        fnames.append(filename.split('.')[0])\n",
    "    X_crp = np.array(X_crp)\n",
    "    return X_crp, fnames\n",
    "\n",
    "\n",
    "def load_models(clf2_path, clf6_path):\n",
    "    clf2_xgb = XGBClassifier(\n",
    "        n_estimators=500,\n",
    "        colsample_bytree=1.0,\n",
    "        gamma=1,\n",
    "        max_depth=3,\n",
    "        min_child_weight=1,\n",
    "        subsample=1.0,\n",
    "        eval_metric='auc',\n",
    "        use_label_encoder=False,\n",
    "        n_jobs=-1,\n",
    "        random_state=125)\n",
    "    clf2_xgb.load_model(clf2_path)\n",
    "    clf6_xgb = XGBClassifier(\n",
    "        objective='multi:softmax',\n",
    "        num_classes=6,\n",
    "        n_estimators=500,\n",
    "        colsample_bytree=1.0,\n",
    "        gamma=1,\n",
    "        max_depth=3,\n",
    "        min_child_weight=1,\n",
    "        subsample=1.0,\n",
    "        eval_metric='mlogloss',\n",
    "        use_label_encoder=False,\n",
    "        n_jobs=-1,\n",
    "        random_state=125)\n",
    "    clf6_xgb.load_model(clf6_path)\n",
    "    return clf2_xgb, clf6_xgb\n",
    "\n",
    "\n",
    "def make_predictions(X_crp, cls2, cls6):\n",
    "    preds2 = cls2.predict(X_crp)\n",
    "    preds6 = cls6.predict(X_crp)\n",
    "    return preds2, preds6\n",
    "\n",
    "\n",
    "def make_csv(fnames, preds2, preds6):\n",
    "    conv_six = {0: 1, 1: 3, 2: 6, 3: 10, 4: 20, 5: 30}\n",
    "    df = pd.DataFrame(fnames, columns=['id'])\n",
    "    df['classification_predictions'] = preds2\n",
    "    df['regression_predictions'] = list(map(lambda x: conv_six[x], preds6))\n",
    "    df.to_csv('submission.csv', index=False)"
   ]
  },
  {
   "cell_type": "code",
   "execution_count": 3,
   "id": "instant-feature",
   "metadata": {},
   "outputs": [
    {
     "name": "stdout",
     "output_type": "stream",
     "text": [
      "Wall time: 1min 37s\n"
     ]
    }
   ],
   "source": [
    "%%time\n",
    "public_test_dir = './tests/public_test/'\n",
    "private_test_dir = './tests/private_test/'\n",
    "clf2_path = './saved_models/xgb2'\n",
    "clf6_path = './saved_models/xgb6'\n",
    "X_crp, fnames = load_data(public_test_dir, private_test_dir)"
   ]
  },
  {
   "cell_type": "code",
   "execution_count": null,
   "id": "unlike-declaration",
   "metadata": {},
   "outputs": [],
   "source": []
  },
  {
   "cell_type": "code",
   "execution_count": 5,
   "id": "alternative-senate",
   "metadata": {},
   "outputs": [],
   "source": [
    "cls2, cls6 = load_models(clf2_path, clf6_path)"
   ]
  },
  {
   "cell_type": "code",
   "execution_count": null,
   "id": "eight-spring",
   "metadata": {},
   "outputs": [],
   "source": []
  },
  {
   "cell_type": "code",
   "execution_count": 6,
   "id": "quick-establishment",
   "metadata": {},
   "outputs": [
    {
     "name": "stdout",
     "output_type": "stream",
     "text": [
      "Wall time: 980 ms\n"
     ]
    }
   ],
   "source": [
    "%%time\n",
    "preds2, preds6 = make_predictions(X_crp, cls2, cls6)"
   ]
  },
  {
   "cell_type": "code",
   "execution_count": 13,
   "id": "painted-israeli",
   "metadata": {},
   "outputs": [
    {
     "data": {
      "text/plain": [
       "0"
      ]
     },
     "execution_count": 13,
     "metadata": {},
     "output_type": "execute_result"
    }
   ],
   "source": [
    "preds6.sum()"
   ]
  },
  {
   "cell_type": "code",
   "execution_count": null,
   "id": "quiet-swing",
   "metadata": {},
   "outputs": [],
   "source": [
    "make_csv(fnames, preds2, preds6)"
   ]
  },
  {
   "cell_type": "code",
   "execution_count": null,
   "id": "pressed-maker",
   "metadata": {},
   "outputs": [],
   "source": []
  }
 ],
 "metadata": {
  "kernelspec": {
   "display_name": "Python 3",
   "language": "python",
   "name": "python3"
  },
  "language_info": {
   "codemirror_mode": {
    "name": "ipython",
    "version": 3
   },
   "file_extension": ".py",
   "mimetype": "text/x-python",
   "name": "python",
   "nbconvert_exporter": "python",
   "pygments_lexer": "ipython3",
   "version": "3.7.9"
  }
 },
 "nbformat": 4,
 "nbformat_minor": 5
}
